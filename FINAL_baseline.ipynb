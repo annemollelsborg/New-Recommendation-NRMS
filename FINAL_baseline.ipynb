{
  "cells": [
    {
      "cell_type": "markdown",
      "metadata": {
        "id": "h4zbfnjjd7Tj"
      },
      "source": [
        "Danish GloVe word embedding: https://loar.kb.dk/items/33396585-6918-4cf0-8f76-723594766f37"
      ]
    },
    {
      "cell_type": "code",
      "execution_count": 1,
      "metadata": {
        "colab": {
          "base_uri": "https://localhost:8080/"
        },
        "id": "6Hf6wMwHBqC9",
        "outputId": "c08bf9d5-d934-4748-d2fe-cf1a1005ec94"
      },
      "outputs": [
        {
          "name": "stderr",
          "output_type": "stream",
          "text": [
            "[nltk_data] Downloading package punkt_tab to /root/nltk_data...\n",
            "[nltk_data]   Unzipping tokenizers/punkt_tab.zip.\n"
          ]
        },
        {
          "data": {
            "text/plain": [
              "True"
            ]
          },
          "execution_count": 1,
          "metadata": {},
          "output_type": "execute_result"
        }
      ],
      "source": [
        "import numpy as np\n",
        "import pandas as pd\n",
        "import random\n",
        "from google.colab import drive\n",
        "import nltk\n",
        "from nltk.tokenize import word_tokenize\n",
        "import torch\n",
        "import torch.nn as nn\n",
        "from torch.nn.utils.rnn import pad_sequence\n",
        "from torch.utils.data import Dataset, Subset, DataLoader\n",
        "import torch.optim as optim\n",
        "from sklearn.metrics import roc_auc_score, accuracy_score\n",
        "import matplotlib.pyplot as plt\n",
        "\n",
        "nltk.download('punkt_tab')"
      ]
    },
    {
      "cell_type": "code",
      "execution_count": 2,
      "metadata": {
        "colab": {
          "base_uri": "https://localhost:8080/"
        },
        "id": "VOr77FWMBrBs",
        "outputId": "e1c4eef5-120a-46b7-b28d-5c4e5bb0a2f2"
      },
      "outputs": [
        {
          "name": "stdout",
          "output_type": "stream",
          "text": [
            "Mounted at /content/drive\n"
          ]
        }
      ],
      "source": [
        "drive.mount('/content/drive')"
      ]
    },
    {
      "cell_type": "code",
      "execution_count": 3,
      "metadata": {
        "id": "9VkRememCDIq"
      },
      "outputs": [],
      "source": [
        "# Set the device to GPU if available, otherwise CPU\n",
        "device = torch.device('cuda' if torch.cuda.is_available() else 'cpu')"
      ]
    },
    {
      "cell_type": "code",
      "execution_count": null,
      "metadata": {
        "colab": {
          "base_uri": "https://localhost:8080/"
        },
        "id": "a7V-q8GrAE3x",
        "outputId": "110799ab-56a6-45f1-a63f-95647a39e840"
      },
      "outputs": [
        {
          "name": "stdout",
          "output_type": "stream",
          "text": [
            "Number of unique articles: 11777\n",
            "Example article ID and tokenized title:\n",
            "Article ID: 3037230, Tokenized Title: ['ishockey-spiller', ':', 'jeg', 'troede', 'jeg', 'skulle', 'dø']\n",
            "Article ID: 3044020, Tokenized Title: ['prins', 'harry', 'tvunget', 'til', 'dna-test']\n",
            "Article ID: 3057622, Tokenized Title: ['rådden', 'kørsel', 'på', 'blå', 'plader']\n",
            "\n",
            "Total articles indexed in newsindex: 11778 \n",
            "\n",
            "Training Data:\n",
            "Number of training candidates: 24888\n",
            "Number of training labels: 24888\n",
            "Number of user histories: 24888\n",
            "\n",
            "Validation Data:\n",
            "Number of validation candidates: 25505\n",
            "Number of validation labels: 25505\n",
            "Number of user histories: 25505\n"
          ]
        }
      ],
      "source": [
        "MAX_TITLE_LEN = 20\n",
        "\n",
        "articles_path = '/content/drive/MyDrive/NRMS/articles.parquet'\n",
        "behaviors_train_path = '/content/drive/MyDrive/NRMS/behaviors_train.parquet'\n",
        "behaviors_val_path = '/content/drive/MyDrive/NRMS/behaviors_val.parquet'\n",
        "history_train_path = '/content/drive/MyDrive/NRMS/history_train.parquet'\n",
        "history_val_path = '/content/drive/MyDrive/NRMS/history_val.parquet'\n",
        "\n",
        "# Load data from Parquet files\n",
        "articles = pd.read_parquet(articles_path)\n",
        "train_behaviors = pd.read_parquet(behaviors_train_path)\n",
        "val_behaviors = pd.read_parquet(behaviors_val_path)\n",
        "history_train = pd.read_parquet(history_train_path)\n",
        "history_val = pd.read_parquet(history_val_path)\n",
        "\n",
        "# Create a news dict and  article_id to a unique index\n",
        "news = {}\n",
        "newsindex = {'NULL': 0}  # Add a NULL key for padding\n",
        "for idx, row in articles.iterrows():\n",
        "    article_id = row['article_id']\n",
        "    title = row['title'].lower()\n",
        "    tokenized_title = word_tokenize(title)\n",
        "\n",
        "    news[article_id] = tokenized_title\n",
        "    newsindex[article_id] = len(newsindex)\n",
        "\n",
        "# Summary\n",
        "print(\"Number of unique articles:\", len(news))\n",
        "print(\"Example article ID and tokenized title:\")\n",
        "for k, v in list(news.items())[:3]:  # Print first 3 articles\n",
        "    print(f\"Article ID: {k}, Tokenized Title: {v}\")\n",
        "\n",
        "print(\"\\nTotal articles indexed in newsindex:\", len(newsindex), \"\\n\")\n",
        "\n",
        "\n",
        "# Helper function to sample negative examples\n",
        "def newsample(array, ratio):\n",
        "    if len(array) == 0:\n",
        "        return []\n",
        "    if ratio > len(array):\n",
        "        return random.sample(array * (ratio // len(array) + 1), ratio)\n",
        "    else:\n",
        "        return random.sample(array, ratio)\n",
        "\n",
        "# Sampling configuration\n",
        "npratio = 4  # Number of negative samples per positive sample\n",
        "MAX_HISTORY_LEN = 50\n",
        "\n",
        "# Function to process behaviors data\n",
        "def process_behaviors(behaviors, newsindex, history_data=None):\n",
        "    train_candidate = []\n",
        "    train_label = []\n",
        "    train_user_his = []\n",
        "\n",
        "    # Build a user history dictionary from history data if provided\n",
        "    user_history = {}\n",
        "    if history_data is not None:\n",
        "        for _, row in history_data.iterrows():\n",
        "            user_history[row['user_id']] = [newsindex.get(aid, 0) for aid in row['article_id_fixed']]\n",
        "\n",
        "    for _, row in behaviors.iterrows():\n",
        "        user_id = row['user_id']\n",
        "\n",
        "        # Clicked articles (positive examples)\n",
        "        clicked = [newsindex.get(aid, 0) for aid in row['article_ids_clicked'] if aid in newsindex]\n",
        "        # Non-clicked articles (negative examples)\n",
        "        inview = set(row['article_ids_inview'])\n",
        "        non_clicked = [newsindex.get(aid, 0) for aid in inview if aid in newsindex and aid not in row['article_ids_clicked']]\n",
        "\n",
        "        # User history\n",
        "        if user_id in user_history:\n",
        "            clickids = user_history[user_id][-MAX_HISTORY_LEN:]\n",
        "        else:\n",
        "            clickids = clicked[-MAX_HISTORY_LEN:]\n",
        "\n",
        "        for pos_doc in clicked:\n",
        "            neg_docs = newsample(non_clicked, npratio)\n",
        "            candidates = neg_docs + [pos_doc]\n",
        "            labels = [0] * npratio + [1]\n",
        "\n",
        "            # Shuffle candidates and labels\n",
        "            shuffle_indices = list(range(len(candidates)))\n",
        "            random.shuffle(shuffle_indices)\n",
        "            shuffled_candidates = [candidates[i] for i in shuffle_indices]\n",
        "            shuffled_labels = [labels[i] for i in shuffle_indices]\n",
        "\n",
        "            # Append training data\n",
        "            train_candidate.append(shuffled_candidates)\n",
        "            train_label.append(shuffled_labels)\n",
        "            train_user_his.append(clickids + [0] * (MAX_HISTORY_LEN - len(clickids)))\n",
        "\n",
        "    return train_candidate, train_label, train_user_his\n",
        "\n",
        "# Process train behaviors\n",
        "train_candidate, train_label, train_user_his = process_behaviors(train_behaviors, newsindex, history_train)\n",
        "val_candidate, val_label, val_user_his = process_behaviors(val_behaviors, newsindex, history_val)\n",
        "\n",
        "# Print summary\n",
        "print(\"Training Data:\")\n",
        "print(\"Number of training candidates:\", len(train_candidate))\n",
        "print(\"Number of training labels:\", len(train_label))\n",
        "print(\"Number of user histories:\", len(train_user_his))\n",
        "\n",
        "print(\"\\nValidation Data:\")\n",
        "print(\"Number of validation candidates:\", len(val_candidate))\n",
        "print(\"Number of validation labels:\", len(val_label))\n",
        "print(\"Number of user histories:\", len(val_user_his))\n",
        "#print(\"Number of users in validation data:\", len(val_index))\n",
        "#print(\"Validation index ranges (start and end for each user):\")\n",
        "#for idx, (start, end) in enumerate(val_index):\n",
        "  #  print(f\"  User {idx + 1}: Start = {start}, End = {end}, Number of candidates = {end - start}\")\n"
      ]
    },
    {
      "cell_type": "code",
      "execution_count": null,
      "metadata": {
        "colab": {
          "base_uri": "https://localhost:8080/"
        },
        "id": "_qYT4QYnAE4b",
        "outputId": "224a075a-3204-4f82-d5ae-02068946a560"
      },
      "outputs": [
        {
          "name": "stdout",
          "output_type": "stream",
          "text": [
            "Train and Validation data saved as Parquet files:\n",
            "  - train_data.parquet\n",
            "  - val_data.parquet\n"
          ]
        }
      ],
      "source": [
        "# Save Train Data\n",
        "train_df = pd.DataFrame({\n",
        "    'candidate': train_candidate,\n",
        "    'label': train_label,\n",
        "    'user_his': train_user_his\n",
        "})\n",
        "train_df.to_parquet('/train_data.parquet', index=False)\n",
        "\n",
        "# Save Validation Data\n",
        "val_df = pd.DataFrame({\n",
        "    'candidate': val_candidate,\n",
        "    'label': val_label,\n",
        "    'user_his': val_user_his\n",
        "})\n",
        "val_df.to_parquet('/val_data.parquet', index=False)\n",
        "\n",
        "# Print Confirmation\n",
        "print(\"Train and Validation data saved as Parquet files:\")\n",
        "print(\"  - train_data.parquet\")\n",
        "print(\"  - val_data.parquet\")\n"
      ]
    },
    {
      "cell_type": "code",
      "execution_count": null,
      "metadata": {
        "colab": {
          "base_uri": "https://localhost:8080/"
        },
        "id": "pXwYYlW5AE4c",
        "outputId": "c1cd8795-4b51-426b-82a1-d3fccfd03f74"
      },
      "outputs": [
        {
          "name": "stdout",
          "output_type": "stream",
          "text": [
            "Vocabulary size: 16003\n",
            "Shape of padded news tensors: torch.Size([11778, 20])\n"
          ]
        }
      ],
      "source": [
        "import torch\n",
        "import torch.nn as nn\n",
        "from torch.nn.utils.rnn import pad_sequence\n",
        "\n",
        "# Build vocabulary from tokenized titles\n",
        "vocab = {'<PAD>': 0}  # Start with a padding token\n",
        "for tokens in news.values():\n",
        "    for word in tokens:\n",
        "        if word not in vocab:\n",
        "            vocab[word] = len(vocab)\n",
        "\n",
        "# Convert titles to token indices\n",
        "news_tensor = {}\n",
        "for article_id, tokens in news.items():\n",
        "    token_indices = [vocab[word] for word in tokens]  # Convert words to token indices\n",
        "\n",
        "    # Truncate or pad to MAX_TITLE_LEN\n",
        "    if len(token_indices) > MAX_TITLE_LEN:\n",
        "        token_indices = token_indices[:MAX_TITLE_LEN]  # Truncate if too long\n",
        "    else:\n",
        "        token_indices += [0] * (MAX_TITLE_LEN - len(token_indices))  # Pad with zeros\n",
        "\n",
        "    news_tensor[newsindex[article_id]] = torch.tensor(token_indices, dtype=torch.long)\n",
        "    news_tensor[0] = torch.zeros(MAX_TITLE_LEN, dtype=torch.long)\n",
        "\n",
        "news_tensors_list = [tensor[:MAX_TITLE_LEN] for tensor in news_tensor.values()]  # Truncate to MAX_TITLE_LEN\n",
        "news_tensors_padded = pad_sequence(news_tensors_list, batch_first=True, padding_value=vocab['<PAD>'])\n",
        "\n",
        "# Example Output\n",
        "print(\"Vocabulary size:\", len(vocab))\n",
        "print(\"Shape of padded news tensors:\", news_tensors_padded.shape)"
      ]
    },
    {
      "cell_type": "code",
      "execution_count": null,
      "metadata": {
        "id": "mq6JVt1NI_gI"
      },
      "outputs": [],
      "source": [
        "import numpy as np\n",
        "def load_glove_embeddings(file_path, embedding_dim):\n",
        "    embeddings_index = {}\n",
        "    with open(file_path, 'r', encoding='utf-8') as f:\n",
        "        for line in f:\n",
        "            values = line.split()\n",
        "            word = values[0]\n",
        "            embedding = np.array(values[1:], dtype='float32')\n",
        "            embeddings_index[word] = embedding\n",
        "    print(f\"Loaded {len(embeddings_index)} word vectors from GloVe.\")\n",
        "    return embeddings_index\n",
        "\n",
        "# Load GloVe embeddings (300d)\n",
        "glove_embeddings = '/content/drive/MyDrive/NRMS/danish_newspapers_1880To2013.txt'\n",
        "embedding_dim = 300\n",
        "glove_index = load_glove_embeddings(glove_embeddings, embedding_dim)"
      ]
    },
    {
      "cell_type": "code",
      "execution_count": null,
      "metadata": {
        "id": "HvRTyyRMJue9"
      },
      "outputs": [],
      "source": [
        "import torch\n",
        "import torch.nn as nn\n",
        "import numpy as np\n",
        "\n",
        "def create_embedding_matrix(vocab, glove_index, embedding_dim):\n",
        "    \"\"\"\n",
        "    Create an embedding matrix for a given vocabulary using GloVe embeddings.\n",
        "\n",
        "    Args:\n",
        "        vocab (dict): Vocabulary mapping words to indices.\n",
        "        glove_index (dict): GloVe embeddings loaded from the file.\n",
        "        embedding_dim (int): Dimension of the embeddings.\n",
        "\n",
        "    Returns:\n",
        "        torch.Tensor: The embedding matrix.\n",
        "        int: Count of OOV words.\n",
        "        int: Count of IV words.\n",
        "    \"\"\"\n",
        "    vocab_size = len(vocab)\n",
        "    embedding_matrix = np.zeros((vocab_size, embedding_dim))  # Initialize with zeros\n",
        "\n",
        "    for word, idx in vocab.items():\n",
        "        if word in glove_index:  # Use GloVe embedding if available\n",
        "            embedding_matrix[idx] = glove_index[word]\n",
        "        else:  # Random initialization for words not in GloVe\n",
        "            embedding_matrix[idx] = np.random.normal(scale=0.6, size=(embedding_dim,))\n",
        "\n",
        "    return torch.tensor(embedding_matrix, dtype=torch.float32)\n",
        "\n",
        "# Create the embedding matrix\n",
        "embedding_matrix = create_embedding_matrix(vocab, glove_index, embedding_dim)"
      ]
    },
    {
      "cell_type": "code",
      "execution_count": null,
      "metadata": {
        "id": "tsQbw73Bsjy0"
      },
      "outputs": [],
      "source": [
        "# Vocabulary analysis\n",
        "total_vocab_size = len(vocab)\n",
        "iv_count = len([word for word in vocab if word in glove_index])\n",
        "oov_count = total_vocab_size - iv_count\n",
        "\n",
        "iv_percentage = (iv_count / total_vocab_size) * 100\n",
        "oov_percentage = (oov_count / total_vocab_size) * 100\n",
        "\n",
        "print(f\"Vocabulary size: {total_vocab_size}\")\n",
        "print(f\"In-Vocabulary words: {iv_count} ({iv_percentage:.2f}%)\")\n",
        "print(f\"Out-of-Vocabulary words: {oov_count} ({oov_percentage:.2f}%)\")\n",
        "\n",
        "# Sample OOV words\n",
        "oov_words = [word for word in vocab if word not in glove_index]\n",
        "print(\"Sample OOV words:\", oov_words[:10])"
      ]
    },
    {
      "cell_type": "code",
      "execution_count": null,
      "metadata": {
        "id": "2X-EM-W_GbaK"
      },
      "outputs": [],
      "source": [
        "from torch.utils.data import Dataset\n",
        "\n",
        "class NewsDataset(Dataset):\n",
        "    def __init__(self, data, news_tensor, max_history_len=50):\n",
        "        \"\"\"\n",
        "        Args:\n",
        "            data (pd.DataFrame): DataFrame with 'candidate', 'label', and 'user_his'\n",
        "            news_tensor (dict): Dictionary mapping article_id to tokenized title tensors\n",
        "            max_history_len (int): Maximum length of user history (default: 50)\n",
        "        \"\"\"\n",
        "        self.data = data\n",
        "        self.news_tensor = news_tensor\n",
        "        self.max_history_len = max_history_len\n",
        "\n",
        "    def __len__(self):\n",
        "        return len(self.data)\n",
        "\n",
        "    def __getitem__(self, idx):\n",
        "        row = self.data.iloc[idx]\n",
        "\n",
        "        # Candidate titles: List of tokenized article titles (positive + negatives)\n",
        "        candidate_ids = row['candidate']\n",
        "        candidate_titles = torch.stack([self.news_tensor[aid] for aid in candidate_ids])\n",
        "\n",
        "        # Labels: Positive (1) and negative (0) labels for candidates\n",
        "        labels = torch.tensor(row['label'], dtype=torch.float)\n",
        "\n",
        "        # User history: List of clicked articles converted to tokenized titles\n",
        "        user_his_ids = row['user_his']\n",
        "        user_his_titles = torch.stack([self.news_tensor[aid] for aid in user_his_ids])\n",
        "\n",
        "        # Pad user history if it's shorter than max length\n",
        "        if len(user_his_titles) < self.max_history_len:\n",
        "            padding = torch.zeros((self.max_history_len - len(user_his_titles), candidate_titles.shape[1]), dtype=torch.long)\n",
        "            user_his_titles = torch.cat((user_his_titles, padding), dim=0)\n",
        "\n",
        "        return candidate_titles, user_his_titles, labels\n"
      ]
    },
    {
      "cell_type": "code",
      "execution_count": null,
      "metadata": {
        "id": "EMkKHoLbH23r"
      },
      "outputs": [],
      "source": [
        "from torch.utils.data import DataLoader\n",
        "\n",
        "# Load train and validation data\n",
        "train_data = pd.read_parquet('/train_data.parquet')\n",
        "val_data = pd.read_parquet('/val_data.parquet')\n",
        "\n",
        "# Initialize the Dataset for train and validation\n",
        "train_dataset = NewsDataset(train_data, news_tensor, max_history_len=50)\n",
        "val_dataset = NewsDataset(val_data, news_tensor, max_history_len=50)\n",
        "\n",
        "# Create DataLoaders\n",
        "train_loader = DataLoader(train_dataset, batch_size=64, shuffle=True)\n",
        "val_loader = DataLoader(val_dataset, batch_size=64, shuffle=False)\n",
        "\n",
        "# Fetch a batch to test\n",
        "for candidate_titles, user_his_titles, labels in train_loader:\n",
        "    print(\"Candidate Titles Shape:\", candidate_titles.shape)  # (batch_size, num_candidates, MAX_TITLE_LEN)\n",
        "    print(\"User History Shape:\", user_his_titles.shape)      # (batch_size, max_history_len, MAX_TITLE_LEN)\n",
        "    print(\"Labels Shape:\", labels.shape)                    # (batch_size, num_candidates)\n",
        "    break"
      ]
    },
    {
      "cell_type": "code",
      "execution_count": null,
      "metadata": {
        "id": "_IRBdxl-VjB9"
      },
      "outputs": [],
      "source": [
        "class NewsEncoder(nn.Module):\n",
        "    def __init__(self, vocab_size, embedding_dim=300, num_heads=20, attention_hidden_dim=200, pretrained_embeddings=None, dropout_prob=0.2):\n",
        "        \"\"\"\n",
        "        Args:\n",
        "            vocab_size (int): Size of the vocabulary\n",
        "            embedding_dim (int): Dimension of word embeddings\n",
        "            max_title_len (int): Maximum length of article\n",
        "            pretrained_embeddings (torch.Tensor): Pre-trained embedding matrix\n",
        "        \"\"\"\n",
        "        super(NewsEncoder, self).__init__()\n",
        "\n",
        "        # Word Embedding Layer\n",
        "        self.embedding = nn.Embedding(vocab_size, embedding_dim, padding_idx=0)\n",
        "\n",
        "        # Dropout layer\n",
        "        self.dropout = nn.Dropout(p=dropout_prob)\n",
        "\n",
        "        # Single-Head Self-Attention\n",
        "        self.multihead_attention = nn.MultiheadAttention(embed_dim=embedding_dim, num_heads=num_heads, batch_first=True)\n",
        "\n",
        "        # Additive Attention Network\n",
        "        self.additive_attention_query = nn.Parameter(torch.randn(attention_hidden_dim))  # Query vector\n",
        "        self.additive_attention_fc1 = nn.Linear(embedding_dim, attention_hidden_dim)\n",
        "        self.additive_attention_fc2 = nn.Linear(attention_hidden_dim, 1)\n",
        "\n",
        "        # Linear Layer to output fixed-size vector\n",
        "        self.fc = nn.Linear(embedding_dim, embedding_dim)\n",
        "\n",
        "    def forward(self, title_tokens):\n",
        "        \"\"\"\n",
        "        Args:\n",
        "            title_tokens (Tensor): Shape (batch_size, max_title_len)\n",
        "                                   - Tokenized and padded title tensors\n",
        "        Returns:\n",
        "            Tensor: Fixed-size vector representing the article (batch_size, embedding_dim)\n",
        "        \"\"\"\n",
        "        # Word Embedding\n",
        "        embedded = self.embedding(title_tokens)  # Shape: (batch_size, max_title_len, embedding_dim)\n",
        "        embedded = self.dropout(embedded)        # Apply dropout to embeddings\n",
        "\n",
        "        # Multi-Head Self-Attention\n",
        "        attn_output, _ = self.multihead_attention(embedded, embedded, embedded)  # Shape: (batch_size, max_title_len, embedding_dim)\n",
        "        attn_output = self.dropout(attn_output)  # Apply dropout to attention outputs\n",
        "\n",
        "        # Additive Attention\n",
        "        additive_weights = torch.tanh(self.additive_attention_fc1(attn_output))  # Shape: (batch_size, max_title_len, attention_hidden_dim)\n",
        "        additive_scores = self.additive_attention_fc2(additive_weights).squeeze(-1)  # Shape: (batch_size, max_title_len)\n",
        "\n",
        "        # Compute attention weights (softmax over words)\n",
        "        attention_weights = torch.softmax(additive_scores, dim=1)  # Shape: (batch_size, max_title_len)\n",
        "\n",
        "        # Weighted sum of the attention outputs\n",
        "        weighted_sum = torch.sum(attn_output * attention_weights.unsqueeze(-1), dim=1)  # Shape: (batch_size, embedding_dim)\n",
        "\n",
        "        # Linear Transformation\n",
        "        output_vector = self.fc(weighted_sum)  # Shape: (batch_size, embedding_dim)\n",
        "\n",
        "        return output_vector\n"
      ]
    },
    {
      "cell_type": "code",
      "execution_count": null,
      "metadata": {
        "id": "7Onof3xGV2Jj"
      },
      "outputs": [],
      "source": [
        "# Define parameters\n",
        "VOCAB_SIZE = len(vocab)  # Vocabulary size\n",
        "EMBEDDING_DIM = 300      # Dimension of word embeddings\n",
        "MAX_TITLE_LEN = 20       # Length of padded titles\n",
        "DROPOUT_PROB = 0.2\n",
        "\n",
        "# Initialize the News Encoder\n",
        "news_encoder = NewsEncoder(vocab_size=VOCAB_SIZE, embedding_dim=EMBEDDING_DIM, pretrained_embeddings=embedding_matrix, dropout_prob=DROPOUT_PROB)\n",
        "\n",
        "# Fetch a batch of candidate titles\n",
        "for candidate_titles, user_his_titles, labels in train_loader:\n",
        "    # Input shape: (batch_size, num_candidates, MAX_TITLE_LEN)\n",
        "    batch_size, num_candidates, title_len = candidate_titles.shape\n",
        "    _, max_history_len, _ = user_his_titles.shape\n",
        "\n",
        "    # Reshape to merge batch_size and num_candidates\n",
        "    candidate_titles_reshaped = candidate_titles.view(-1, title_len)  # Shape: (batch_size * num_candidates, MAX_TITLE_LEN)\n",
        "\n",
        "    # Pass through the News Encoder\n",
        "    candidate_vectors = news_encoder(candidate_titles_reshaped)  # Shape: (batch_size * num_candidates, EMBEDDING_DIM)\n",
        "\n",
        "    # Reshape back to original batch_size and num_candidates\n",
        "    candidate_vectors = candidate_vectors.view(batch_size, num_candidates, EMBEDDING_DIM)\n",
        "\n",
        "    # Reshape user history titles to merge batch_size and max_history_len\n",
        "    user_his_titles_reshaped = user_his_titles.view(-1, title_len)  # Shape: (batch_size * max_history_len, MAX_TITLE_LEN)\n",
        "\n",
        "    # Pass through News Encoder\n",
        "    user_his_vectors = news_encoder(user_his_titles_reshaped)  # Shape: (batch_size * max_history_len, EMBEDDING_DIM)\n",
        "\n",
        "    # Reshape back to original batch_size and max_history_len\n",
        "    user_his_vectors = user_his_vectors.view(batch_size, max_history_len, EMBEDDING_DIM)  # Shape: (batch_size, max_history_len, EMBEDDING_DIM)\n",
        "\n",
        "    print(\"Shape of candidate_vectors:\", candidate_vectors.shape)  # Expected: (batch_size, num_candidates, EMBEDDING_DIM)\n",
        "    print(\"Shape of user_his_vectors:\", user_his_vectors.shape)    # Expected: (batch_size, max_history_len, EMBEDDING_DIM)\n",
        "    break"
      ]
    },
    {
      "cell_type": "code",
      "execution_count": null,
      "metadata": {
        "id": "cp28oe4emula"
      },
      "outputs": [],
      "source": [
        "class UserEncoder(nn.Module):\n",
        "    def __init__(self, embedding_dim=300, num_heads=20, attention_hidden_dim=200, dropout_prob=0.2):\n",
        "        \"\"\"\n",
        "        Args:\n",
        "            embedding_dim (int): Dimension of the article embeddings\n",
        "            num_heads (int): Number of attention heads in multi-head attention\n",
        "            attention_hidden_dim (int): Dimension of the query vector in additive attention\n",
        "        \"\"\"\n",
        "        super(UserEncoder, self).__init__()\n",
        "\n",
        "        # Multi-Head Self-Attention\n",
        "        self.multihead_attention = nn.MultiheadAttention(embed_dim=embedding_dim,\n",
        "                                                         num_heads=num_heads,\n",
        "                                                         batch_first=True)\n",
        "\n",
        "        # Additive Attention\n",
        "        self.additive_attention_query = nn.Parameter(torch.randn(attention_hidden_dim))  # Learnable query vector\n",
        "        self.additive_attention_fc1 = nn.Linear(embedding_dim, attention_hidden_dim)\n",
        "        self.additive_attention_fc2 = nn.Linear(attention_hidden_dim, 1)\n",
        "\n",
        "        # Dropout Layer\n",
        "        self.dropout = nn.Dropout(p=dropout_prob)\n",
        "\n",
        "    def forward(self, user_his_vectors):\n",
        "        \"\"\"\n",
        "        Args:\n",
        "            user_his_vectors (Tensor): Shape (batch_size, max_history_len, embedding_dim)\n",
        "                                        - Representations of clicked articles\n",
        "        Returns:\n",
        "            Tensor: User representation vector (batch_size, embedding_dim)\n",
        "        \"\"\"\n",
        "        # Multi-Head Self-Attention\n",
        "        attn_output, _ = self.multihead_attention(user_his_vectors, user_his_vectors, user_his_vectors)\n",
        "        # Shape: (batch_size, max_history_len, embedding_dim)\n",
        "\n",
        "        # Additive Attention\n",
        "        additive_weights = torch.tanh(self.additive_attention_fc1(attn_output))  # Shape: (batch_size, max_history_len, attention_hidden_dim)\n",
        "        additive_weights = self.dropout(additive_weights)  # Apply dropout to attention weights\n",
        "        additive_scores = self.additive_attention_fc2(additive_weights).squeeze(-1)  # Shape: (batch_size, max_history_len)\n",
        "\n",
        "        # Compute attention weights (softmax over user history)\n",
        "        attention_weights = torch.softmax(additive_scores, dim=1)  # Shape: (batch_size, max_history_len)\n",
        "\n",
        "        # Weighted sum of the attention outputs\n",
        "        user_vector = torch.sum(attn_output * attention_weights.unsqueeze(-1), dim=1)  # Shape: (batch_size, embedding_dim)\n",
        "\n",
        "        user_vector = self.dropout(user_vector)  # Apply dropout to the final user vector\n",
        "\n",
        "        return user_vector"
      ]
    },
    {
      "cell_type": "code",
      "execution_count": null,
      "metadata": {
        "id": "WGPAfQQdm2B1"
      },
      "outputs": [],
      "source": [
        "# Define parameters\n",
        "EMBEDDING_DIM = 300      # Dimension of article embeddings\n",
        "NUM_HEADS = 20           # Number of attention heads\n",
        "ATTENTION_HIDDEN_DIM = 200  # Query vector dimension for additive attention\n",
        "DROPOUT_PROB = 0.2\n",
        "\n",
        "# Initialize User Encoder\n",
        "user_encoder = UserEncoder(embedding_dim=EMBEDDING_DIM, num_heads=NUM_HEADS, attention_hidden_dim=ATTENTION_HIDDEN_DIM, dropout_prob=DROPOUT_PROB)\n",
        "\n",
        "# Fetch a batch of user history vectors\n",
        "for candidate_titles, user_his_titles, labels in train_loader:\n",
        "    # Reshape user history titles to merge batch_size and max_history_len\n",
        "    user_his_titles_reshaped = user_his_titles.view(-1, MAX_TITLE_LEN)  # Shape: (batch_size * max_history_len, MAX_TITLE_LEN)\n",
        "\n",
        "    # Pass through News Encoder to get user history vectors\n",
        "    user_his_vectors = news_encoder(user_his_titles_reshaped)  # Shape: (batch_size * max_history_len, EMBEDDING_DIM)\n",
        "\n",
        "    # Reshape back to (batch_size, max_history_len, EMBEDDING_DIM)\n",
        "    batch_size, max_history_len, _ = user_his_titles.shape\n",
        "    user_his_vectors = user_his_vectors.view(batch_size, max_history_len, EMBEDDING_DIM)\n",
        "\n",
        "    # Pass user history vectors through User Encoder\n",
        "    user_vectors = user_encoder(user_his_vectors)  # Shape: (batch_size, EMBEDDING_DIM)\n",
        "\n",
        "    print(\"Shape of user_his_vectors:\", user_his_vectors.shape)  # (batch_size, max_history_len, EMBEDDING_DIM)\n",
        "    print(\"Shape of user_vectors:\", user_vectors.shape)         # (batch_size, EMBEDDING_DIM)\n",
        "    break"
      ]
    },
    {
      "cell_type": "code",
      "execution_count": null,
      "metadata": {
        "id": "-lKkpluuYQhg"
      },
      "outputs": [],
      "source": [
        "class NRMSModel(nn.Module):\n",
        "    def __init__(self, vocab_size, embedding_dim=300, num_heads=20, attention_hidden_dim=200, max_history_len=50):\n",
        "        \"\"\"\n",
        "        Args:\n",
        "            vocab_size (int): Size of the vocabulary\n",
        "            embedding_dim (int): Dimension of word embeddings\n",
        "            num_heads (int): Number of attention heads in multi-head attention\n",
        "            attention_hidden_dim (int): Dimension of the query vector in additive attention\n",
        "            max_history_len (int): Maximum length of user history\n",
        "            max_title_len (int): Maximum length of article titles\n",
        "        \"\"\"\n",
        "        super(NRMSModel, self).__init__()\n",
        "\n",
        "        # News Encoder for both candidate and user history articles\n",
        "        self.news_encoder = NewsEncoder(vocab_size=vocab_size,\n",
        "                                         embedding_dim=embedding_dim,\n",
        "                                         num_heads=num_heads,\n",
        "                                         attention_hidden_dim=attention_hidden_dim)\n",
        "\n",
        "        # User Encoder to encode user history into a single user representation vector\n",
        "        self.user_encoder = UserEncoder(embedding_dim=embedding_dim,\n",
        "                                         num_heads=num_heads,\n",
        "                                         attention_hidden_dim=attention_hidden_dim)\n",
        "\n",
        "    def forward(self, candidate_titles, user_his_titles):\n",
        "        \"\"\"\n",
        "        Args:\n",
        "            candidate_titles (Tensor): Shape (batch_size, num_candidates, max_title_len)\n",
        "                                       - Tokenized and padded titles of candidate articles\n",
        "            user_his_titles (Tensor): Shape (batch_size, max_history_len, max_title_len)\n",
        "                                       - Tokenized and padded titles of user clicked articles\n",
        "        Returns:\n",
        "            Tensor: Click scores for each candidate article (batch_size, num_candidates)\n",
        "        \"\"\"\n",
        "        batch_size, num_candidates, max_title_len = candidate_titles.shape\n",
        "        _, max_history_len, _ = user_his_titles.shape\n",
        "\n",
        "        # -------------------\n",
        "        # Process Candidate Articles\n",
        "        # -------------------\n",
        "        # Reshape candidates to merge batch_size and num_candidates\n",
        "        candidate_titles_reshaped = candidate_titles.view(-1, max_title_len)  # Shape: (batch_size * num_candidates, max_title_len)\n",
        "\n",
        "        # Encode candidate articles\n",
        "        candidate_vectors = self.news_encoder(candidate_titles_reshaped)  # Shape: (batch_size * num_candidates, embedding_dim)\n",
        "\n",
        "        # Reshape back to original batch_size and num_candidates\n",
        "        candidate_vectors = candidate_vectors.view(batch_size, num_candidates, -1)  # Shape: (batch_size, num_candidates, embedding_dim)\n",
        "\n",
        "        # -------------------\n",
        "        # Process User History\n",
        "        # -------------------\n",
        "        # Reshape user history titles to merge batch_size and max_history_len\n",
        "        user_his_titles_reshaped = user_his_titles.view(-1, max_title_len)  # Shape: (batch_size * max_history_len, max_title_len)\n",
        "\n",
        "        # Encode user history articles\n",
        "        user_his_vectors = self.news_encoder(user_his_titles_reshaped)  # Shape: (batch_size * max_history_len, embedding_dim)\n",
        "\n",
        "        # Reshape back to original batch_size and max_history_len\n",
        "        user_his_vectors = user_his_vectors.view(batch_size, max_history_len, -1)  # Shape: (batch_size, max_history_len, embedding_dim)\n",
        "\n",
        "        # Encode user history into a single user representation vector\n",
        "        user_vectors = self.user_encoder(user_his_vectors)  # Shape: (batch_size, embedding_dim)\n",
        "\n",
        "        # -------------------\n",
        "        # Compute Click Scores\n",
        "        # -------------------\n",
        "        # Dot product between user vector and candidate vectors\n",
        "        click_scores = torch.bmm(candidate_vectors, user_vectors.unsqueeze(-1)).squeeze(-1)  # Shape: (batch_size, num_candidates)\n",
        "\n",
        "        return click_scores\n"
      ]
    },
    {
      "cell_type": "code",
      "execution_count": null,
      "metadata": {
        "id": "wN9u_oUyYj8n"
      },
      "outputs": [],
      "source": [
        "# Initialize the NRMS Model\n",
        "nrms_model = NRMSModel(vocab_size=VOCAB_SIZE,\n",
        "                       embedding_dim=EMBEDDING_DIM,\n",
        "                       num_heads=NUM_HEADS,\n",
        "                       attention_hidden_dim=ATTENTION_HIDDEN_DIM,\n",
        "                       max_history_len=50)\n",
        "\n",
        "# Fetch a batch from the DataLoader\n",
        "for candidate_titles, user_his_titles, labels in train_loader:\n",
        "    # Pass through NRMS model\n",
        "    click_scores = nrms_model(candidate_titles, user_his_titles)  # Shape: (batch_size, num_candidates)\n",
        "\n",
        "    print(\"Shape of click_scores:\", click_scores.shape)  # Expected: (batch_size, num_candidates)\n",
        "    print(\"Example click scores:\", click_scores[0])     # Print scores for the first user in the batch\n",
        "    break\n"
      ]
    },
    {
      "cell_type": "code",
      "execution_count": null,
      "metadata": {
        "id": "9ih1vq5zcBSm"
      },
      "outputs": [],
      "source": [
        "# Define a function to decode tokenized titles back into text\n",
        "def decode_title(token_indices, vocab):\n",
        "    reverse_vocab = {idx: word for word, idx in vocab.items()}  # Reverse the vocabulary\n",
        "    return \" \".join([reverse_vocab[idx] for idx in token_indices if idx != 0])  # Ignore padding tokens (0)\n",
        "\n",
        "# Fetch a batch from the DataLoader\n",
        "for candidate_titles, user_his_titles, labels in train_loader:\n",
        "    # Pass through NRMS model\n",
        "    click_scores = nrms_model(candidate_titles, user_his_titles)  # Shape: (batch_size, num_candidates)\n",
        "\n",
        "    # Loop through the batch\n",
        "    batch_size, num_candidates, max_title_len = candidate_titles.shape\n",
        "    for i in range(batch_size):\n",
        "        print(f\"\\nUser {i + 1}:\")\n",
        "        print(\"-\" * 30)\n",
        "\n",
        "        # Decode and print each candidate title, its label, and its score\n",
        "        for j in range(num_candidates):\n",
        "            title_tokens = candidate_titles[i, j].cpu().numpy()  # Get token indices for the title\n",
        "            title_text = decode_title(title_tokens, vocab)  # Decode the title back into text\n",
        "            label = labels[i, j].item()  # Get the label\n",
        "            score = click_scores[i, j].item()  # Get the click score\n",
        "\n",
        "            print(f\"Candidate {j + 1}:\")\n",
        "            print(f\"  Title: {title_text}\")\n",
        "            print(f\"  Label: {label}\")\n",
        "            print(f\"  Click Score: {score:.4f}\")\n",
        "    break\n"
      ]
    },
    {
      "cell_type": "code",
      "execution_count": null,
      "metadata": {
        "id": "dTZNQTuy3muU"
      },
      "outputs": [],
      "source": [
        "# Define parameters\n",
        "NUM_EPOCHS = 3          # Number of epochs\n",
        "LEARNING_RATE = 1e-4    # Learning rate\n",
        "DEVICE = 'cuda' if torch.cuda.is_available() else 'cpu'\n",
        "\n",
        "# Initialize the model, loss, and optimizer\n",
        "nrms_model = NRMSModel(vocab_size=VOCAB_SIZE,\n",
        "                       embedding_dim=EMBEDDING_DIM,\n",
        "                       num_heads=NUM_HEADS,\n",
        "                       attention_hidden_dim=ATTENTION_HIDDEN_DIM,\n",
        "                       max_history_len=50).to(DEVICE)\n",
        "\n",
        "criterion = nn.CrossEntropyLoss()  # Loss function\n",
        "optimizer = optim.Adam(nrms_model.parameters(), lr=LEARNING_RATE)  # Optimizer\n",
        "\n",
        "# Training Loop\n",
        "for epoch in range(NUM_EPOCHS):\n",
        "    nrms_model.train()  # Set model to training mode\n",
        "    total_loss = 0\n",
        "\n",
        "    for batch_idx, (candidate_titles, user_his_titles, labels) in enumerate(train_loader):\n",
        "        # Move data to the appropriate device (GPU/CPU)\n",
        "        candidate_titles = candidate_titles.to(DEVICE)  # Shape: (batch_size, num_candidates, max_title_len)\n",
        "        user_his_titles = user_his_titles.to(DEVICE)    # Shape: (batch_size, max_history_len, max_title_len)\n",
        "        labels = torch.argmax(labels, dim=1).to(DEVICE)  # Convert labels to indices, Shape: (batch_size)\n",
        "\n",
        "        # Zero gradients\n",
        "        optimizer.zero_grad()\n",
        "\n",
        "        # Forward pass\n",
        "        click_scores = nrms_model(candidate_titles, user_his_titles)  # Shape: (batch_size, num_candidates)\n",
        "\n",
        "        # Compute loss\n",
        "        loss = criterion(click_scores, labels)  # CrossEntropyLoss expects (scores, target_indices)\n",
        "        total_loss += loss.item()\n",
        "\n",
        "        # Backward pass and optimization\n",
        "        loss.backward()\n",
        "        optimizer.step()\n",
        "\n",
        "        # Print progress for every 100 batches\n",
        "        if batch_idx % 100 == 0:\n",
        "            print(f\"Epoch [{epoch + 1}/{NUM_EPOCHS}], Batch [{batch_idx + 1}/{len(train_loader)}], Loss: {loss.item():.4f}\")\n",
        "\n",
        "    # Print epoch loss\n",
        "    avg_loss = total_loss / len(train_loader)\n",
        "    print(f\"Epoch [{epoch + 1}/{NUM_EPOCHS}] - Average Loss: {avg_loss:.4f}\")\n",
        "\n",
        "print(\"Training complete!\")\n"
      ]
    },
    {
      "cell_type": "code",
      "execution_count": null,
      "metadata": {
        "id": "zNTA8oBgXM2a"
      },
      "outputs": [],
      "source": [
        "def validate_model(model, val_loader, device):\n",
        "    model.eval()  # Set model to evaluation mode\n",
        "    all_labels = []\n",
        "    all_preds = []\n",
        "    all_scores = []\n",
        "\n",
        "    with torch.no_grad():  # No gradient computation during evaluation\n",
        "        for batch_idx, (candidate_titles, user_his_titles, labels) in enumerate(val_loader):\n",
        "            # Move data to the appropriate device\n",
        "            candidate_titles = candidate_titles.to(device)  # Shape: (batch_size, num_candidates, max_title_len)\n",
        "            user_his_titles = user_his_titles.to(device)    # Shape: (batch_size, max_history_len, max_title_len)\n",
        "            labels = torch.argmax(labels, dim=1).to(device)  # Convert labels to indices, Shape: (batch_size)\n",
        "\n",
        "            # Forward pass\n",
        "            click_scores = model(candidate_titles, user_his_titles)  # Shape: (batch_size, num_candidates)\n",
        "\n",
        "            # Predicted indices (max score per candidate set)\n",
        "            preds = torch.argmax(click_scores, dim=1).cpu().numpy()  # Shape: (batch_size)\n",
        "\n",
        "            # Append true labels and predictions for metrics\n",
        "            all_labels.extend(labels.cpu().numpy())  # True labels\n",
        "            all_preds.extend(preds)  # Predicted labels\n",
        "            all_scores.extend(torch.softmax(click_scores, dim=1).cpu().numpy())  # Softmax probabilities\n",
        "\n",
        "    print(f\"Shape of all_labels: {len(all_labels)}\")  # Should match the total number of validation samples\n",
        "    print(f\"Shape of all_scores: {len(all_scores), len(all_scores[0])}\")  # Should be (n_samples, n_classes)\n",
        "\n",
        "    # Compute metrics\n",
        "    accuracy = accuracy_score(all_labels, all_preds)\n",
        "    auc = roc_auc_score(all_labels, all_scores, multi_class=\"ovr\")  # Use full softmax scores\n",
        "\n",
        "    print(f\"Validation Accuracy: {accuracy:.4f}\")\n",
        "    print(f\"Validation AUC: {auc:.4f}\")\n",
        "    return accuracy, auc"
      ]
    },
    {
      "cell_type": "code",
      "execution_count": null,
      "metadata": {
        "id": "P9Z5TyEGXNe_"
      },
      "outputs": [],
      "source": [
        "# Test the trained model\n",
        "validate_model(nrms_model, val_loader, DEVICE)"
      ]
    },
    {
      "cell_type": "code",
      "execution_count": null,
      "metadata": {
        "id": "aG3H5hszcYCp"
      },
      "outputs": [],
      "source": [
        "torch.save(nrms_model.state_dict(), \"/content/nrms_model.pth\")"
      ]
    },
    {
      "cell_type": "code",
      "execution_count": null,
      "metadata": {
        "id": "VvFVzJDcckAP"
      },
      "outputs": [],
      "source": [
        "nrms_model = NRMSModel(vocab_size=VOCAB_SIZE,\n",
        "                       embedding_dim=EMBEDDING_DIM,\n",
        "                       num_heads=NUM_HEADS,\n",
        "                       attention_hidden_dim=ATTENTION_HIDDEN_DIM,\n",
        "                       max_history_len=50).to(DEVICE)\n",
        "nrms_model.load_state_dict(torch.load(\"/content/nrms_model.pth\"))\n",
        "nrms_model.eval()  # Set model to evaluation mode\n"
      ]
    },
    {
      "cell_type": "code",
      "execution_count": null,
      "metadata": {
        "id": "OTh9CXb7XPN-"
      },
      "outputs": [],
      "source": [
        "# Inspect click probabilities\n",
        "for batch_idx, (candidate_titles, user_his_titles, labels) in enumerate(val_loader):\n",
        "    candidate_titles = candidate_titles.to(DEVICE)\n",
        "    user_his_titles = user_his_titles.to(DEVICE)\n",
        "    labels = torch.argmax(labels, dim=1).to(DEVICE)\n",
        "\n",
        "    # Forward pass\n",
        "    click_scores = nrms_model(candidate_titles, user_his_titles)\n",
        "    softmax_probs = torch.softmax(click_scores, dim=1)\n",
        "\n",
        "    for i in range(candidate_titles.size(0)):  # Iterate over the batch\n",
        "        print(f\"\\nUser {i + 1}:\")\n",
        "        print(f\"True Label: {labels[i].item()}\")\n",
        "        print(f\"Predicted Click Probabilities: {softmax_probs[i].cpu().detach().numpy()}\")\n",
        "    break  # Remove this to inspect the full dataset\n"
      ]
    }
  ],
  "metadata": {
    "colab": {
      "provenance": []
    },
    "kernelspec": {
      "display_name": "Python 3",
      "name": "python3"
    },
    "language_info": {
      "codemirror_mode": {
        "name": "ipython",
        "version": 3
      },
      "file_extension": ".py",
      "mimetype": "text/x-python",
      "name": "python",
      "nbconvert_exporter": "python",
      "pygments_lexer": "ipython3",
      "version": "3.11.9"
    }
  },
  "nbformat": 4,
  "nbformat_minor": 0
}
