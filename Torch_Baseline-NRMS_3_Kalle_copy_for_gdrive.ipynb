{
  "cells": [
    {
      "cell_type": "code",
      "execution_count": 1,
      "metadata": {
        "id": "lYKGc7Py583k"
      },
      "outputs": [],
      "source": [
        "import torch\n",
        "import torch.nn as nn\n",
        "import torch.optim as optim\n",
        "import torch.nn.functional as F\n",
        "from torch.utils.data import DataLoader, Dataset\n",
        "import pandas as pd\n",
        "import numpy as np\n",
        "from collections import defaultdict\n",
        "from google.colab import drive\n",
        "\n",
        "# Constants\n",
        "MAX_SENT_LENGTH = 30\n",
        "MAX_SENTS = 50\n",
        "EMBEDDING_DIM = 300\n",
        "NUM_HEADS = 16\n",
        "HEAD_SIZE = 16\n",
        "DROPOUT_RATE = 0.2\n",
        "NPRATIO = 4  # Number of negative samples per positive\n",
        "BATCH_SIZE = 64\n",
        "EPOCHS = 5\n"
      ]
    },
    {
      "cell_type": "code",
      "source": [
        "drive.mount('/content/drive')"
      ],
      "metadata": {
        "id": "uOLDthQr5_kZ",
        "outputId": "06da1032-ce66-47d4-f300-15f9dd9b0764",
        "colab": {
          "base_uri": "https://localhost:8080/"
        }
      },
      "execution_count": 2,
      "outputs": [
        {
          "output_type": "stream",
          "name": "stdout",
          "text": [
            "Mounted at /content/drive\n"
          ]
        }
      ]
    },
    {
      "cell_type": "code",
      "source": [
        "import torch\n",
        "print(torch.cuda.is_available())"
      ],
      "metadata": {
        "id": "S_3ashud9UKX",
        "outputId": "c90f40b0-b8e4-42ff-d61f-0fcf83a3c5ae",
        "colab": {
          "base_uri": "https://localhost:8080/"
        }
      },
      "execution_count": 4,
      "outputs": [
        {
          "output_type": "stream",
          "name": "stdout",
          "text": [
            "False\n"
          ]
        }
      ]
    },
    {
      "cell_type": "code",
      "source": [
        "articles_path = '/content/drive/MyDrive/DTU/Kandidat/Semester 9/Deep learning/Final project/Data/articles.csv'\n",
        "behaviors_train_path = '/content/drive/MyDrive/DTU/Kandidat/Semester 9/Deep learning/Final project/Data/behaviors_train.csv'\n",
        "behaviors_val_path = '/content/drive/MyDrive/DTU/Kandidat/Semester 9/Deep learning/Final project/Data/behaviors_val.csv'\n",
        "history_train_path = '/content/drive/MyDrive/DTU/Kandidat/Semester 9/Deep learning/Final project/Data/history_train.csv'\n",
        "history_val_path = '/content/drive/MyDrive/DTU/Kandidat/Semester 9/Deep learning/Final project/Data/history_val.csv'"
      ],
      "metadata": {
        "id": "3axavoJa8PoS"
      },
      "execution_count": 5,
      "outputs": []
    },
    {
      "cell_type": "code",
      "execution_count": 6,
      "metadata": {
        "id": "gUn_UulZ583m"
      },
      "outputs": [],
      "source": [
        "# Load Datasets\n",
        "articles = pd.read_csv(articles_path)\n",
        "behaviors_train = pd.read_csv(behaviors_train_path)\n",
        "behaviors_val = pd.read_csv(behaviors_val_path)\n",
        "history_train = pd.read_csv(history_train_path)\n",
        "history_val = pd.read_csv(history_val_path)"
      ]
    },
    {
      "cell_type": "code",
      "execution_count": 7,
      "metadata": {
        "id": "QBuD8vvJ583m"
      },
      "outputs": [],
      "source": [
        "def build_vocab_and_tokenize(titles, max_len=MAX_SENT_LENGTH):\n",
        "    \"\"\"\n",
        "    Builds a vocabulary and tokenizes article titles.\n",
        "\n",
        "    Args:\n",
        "        titles (list of str): List of article titles to tokenize.\n",
        "        max_len (int): Maximum length for tokenized titles (truncation/padding length).\n",
        "\n",
        "    Returns:\n",
        "        tokenized_titles (list of list of int): Tokenized and padded titles.\n",
        "        vocab (dict): A dictionary mapping tokens to unique integer indices.\n",
        "        vocab_size (int): Size of the vocabulary.\n",
        "    \"\"\"\n",
        "    vocab = defaultdict(lambda: len(vocab))  # Default dictionary for token ids\n",
        "    vocab[\"<PAD>\"] = 0  # Padding token\n",
        "    vocab[\"<UNK>\"] = 1  # Unknown token\n",
        "\n",
        "    tokenized_titles = []\n",
        "    for title in titles:\n",
        "        tokens = title.lower().split()[:max_len]  # Simple whitespace tokenizer\n",
        "        tokenized = [vocab[token] for token in tokens]\n",
        "        padded = pad_sequence_to_length(tokenized, max_len, pad_value=vocab[\"<PAD>\"])\n",
        "        tokenized_titles.append(padded)\n",
        "\n",
        "    # Freeze the vocabulary after processing to get accurate vocab size\n",
        "    vocab = dict(vocab)  # Convert to a regular dict to freeze it\n",
        "    vocab_size = len(vocab)\n",
        "\n",
        "    return tokenized_titles, vocab, vocab_size\n",
        "\n",
        "def pad_sequence_to_length(sequence, target_length, pad_value=0):\n",
        "    \"\"\"\n",
        "    Pads or truncates a sequence to the specified target length.\n",
        "\n",
        "    Args:\n",
        "        sequence (list of int): Input sequence to pad or truncate.\n",
        "        target_length (int): Desired length of the sequence.\n",
        "        pad_value (int): Value to use for padding shorter sequences.\n",
        "\n",
        "    Returns:\n",
        "        list of int: Padded or truncated sequence.\n",
        "    \"\"\"\n",
        "    if len(sequence) >= target_length:\n",
        "        return sequence[:target_length]\n",
        "    else:\n",
        "        return sequence + [pad_value] * (target_length - len(sequence))"
      ]
    },
    {
      "cell_type": "code",
      "execution_count": 8,
      "metadata": {
        "id": "tCtmsNac583o"
      },
      "outputs": [],
      "source": [
        "# Tokenize titles and build vocabulary\n",
        "articles[\"tokenized_title\"], vocab, VOCAB_SIZE = build_vocab_and_tokenize(\n",
        "    articles[\"title\"].fillna(\"<UNK>\"),\n",
        "    max_len=MAX_SENT_LENGTH\n",
        ")"
      ]
    },
    {
      "cell_type": "code",
      "execution_count": 9,
      "metadata": {
        "id": "suYEokoT583p"
      },
      "outputs": [],
      "source": [
        "article_to_tokens = {row['article_id']: row['tokenized_title'] for _, row in articles.iterrows()}\n",
        "\n",
        "article_to_idx = {article_id: idx for idx, article_id in enumerate(articles['article_id'].unique(), start=2)}\n",
        "article_to_idx[0] = 0  # Reserved for <PAD>\n",
        "article_to_idx[1] = 1  # Reserved for <UNK>\n",
        "\n",
        "article_embedding_size = len(article_to_idx) + 1"
      ]
    },
    {
      "cell_type": "code",
      "execution_count": 10,
      "metadata": {
        "id": "IHyEQRye583t",
        "outputId": "3fdc3f6d-db16-4b34-f08e-6bb99db82db3",
        "colab": {
          "base_uri": "https://localhost:8080/"
        }
      },
      "outputs": [
        {
          "output_type": "stream",
          "name": "stderr",
          "text": [
            "WARNING:root:Malformed article_ids found: '[9738366 9737535 9738173 ... 9766140 9766140 9766140]'. Skipping.\n",
            "WARNING:root:Malformed article_ids found: '[9737083 9737083 9738216 ... 9770037 9769994 9768321]'. Skipping.\n"
          ]
        },
        {
          "output_type": "stream",
          "name": "stdout",
          "text": [
            "train: Skipped 2 rows out of 1590 (0.13%).\n",
            "train: Saved 2 problematic rows to 'invalid_article_ids_train.csv'.\n",
            "train: Remaining rows after cleaning: 1588\n",
            "val: Skipped 0 rows out of 1562 (0.00%).\n",
            "val: Saved 0 problematic rows to 'invalid_article_ids_val.csv'.\n",
            "val: Remaining rows after cleaning: 1562\n"
          ]
        }
      ],
      "source": [
        "import logging\n",
        "\n",
        "# Setup logging (if not already configured in your project)\n",
        "logging.basicConfig(level=logging.INFO, format=\"%(asctime)s - %(levelname)s - %(message)s\")\n",
        "\n",
        "def clean_article_ids(article_ids):\n",
        "    \"\"\"\n",
        "    Cleans and parses article IDs from a string representation to a list of integers.\n",
        "\n",
        "    Args:\n",
        "        article_ids (str): String representation of article IDs (e.g., \"[1, 2, 3]\").\n",
        "\n",
        "    Returns:\n",
        "        list of int or None: List of parsed article IDs, or None if input is invalid.\n",
        "    \"\"\"\n",
        "    try:\n",
        "        # Check for invalid placeholders or empty strings\n",
        "        if not article_ids or \"...\" in article_ids:\n",
        "            logging.warning(f\"Malformed article_ids found: '{article_ids}'. Skipping.\")\n",
        "            return None\n",
        "\n",
        "        # Remove brackets and split on spaces or commas, then convert to integers\n",
        "        cleaned_ids = article_ids.strip(\"[]\").replace(\",\", \" \").split()\n",
        "        return list(map(int, cleaned_ids))\n",
        "    except Exception as e:\n",
        "        logging.error(f\"Failed to clean article_ids '{article_ids}' due to error: {e}\")\n",
        "        return None\n",
        "\n",
        "# Function to process a single dataset (train or val)\n",
        "def clean_and_report_history(history_df, dataset_name=\"dataset\"):\n",
        "    \"\"\"\n",
        "    Cleans article IDs in the user history dataset and reports cleaning statistics.\n",
        "\n",
        "    Args:\n",
        "        history_df (pd.DataFrame): Input dataset with article history to clean.\n",
        "        dataset_name (str): Name of the dataset (for logging and reporting).\n",
        "\n",
        "    Returns:\n",
        "        pd.DataFrame: Cleaned dataset with invalid rows removed.\n",
        "    \"\"\"\n",
        "    # Clean article IDs\n",
        "    history_df[\"cleaned_article_ids\"] = history_df[\"article_id_fixed\"].apply(clean_article_ids)\n",
        "\n",
        "    # Count skipped rows\n",
        "    skipped_rows = history_df[\"cleaned_article_ids\"].isna().sum()\n",
        "    total_rows = len(history_df)\n",
        "    print(f\"{dataset_name}: Skipped {skipped_rows} rows out of {total_rows} \"\n",
        "          f\"({skipped_rows / total_rows:.2%}).\")\n",
        "\n",
        "    # Save problematic rows\n",
        "    invalid_rows = history_df[history_df[\"cleaned_article_ids\"].isna()]\n",
        "    invalid_rows_file = f\"invalid_article_ids_{dataset_name}.csv\"\n",
        "    invalid_rows.to_csv(invalid_rows_file, index=False)\n",
        "    print(f\"{dataset_name}: Saved {len(invalid_rows)} problematic rows to '{invalid_rows_file}'.\")\n",
        "\n",
        "    # Drop invalid rows and reset index\n",
        "    cleaned_df = history_df.dropna(subset=[\"cleaned_article_ids\"]).reset_index(drop=True)\n",
        "    print(f\"{dataset_name}: Remaining rows after cleaning: {len(cleaned_df)}\")\n",
        "\n",
        "    return cleaned_df\n",
        "\n",
        "# Clean train and validation datasets\n",
        "history_train_cleaned = clean_and_report_history(history_train, dataset_name=\"train\")\n",
        "history_val_cleaned = clean_and_report_history(history_val, dataset_name=\"val\")\n",
        "\n",
        "\n",
        "def process_cleaned_user_history(cleaned_history_df):\n",
        "    user_histories = defaultdict(list)\n",
        "    for _, row in cleaned_history_df.iterrows():\n",
        "        user_id = row[\"user_id\"]\n",
        "        article_ids = row[\"cleaned_article_ids\"]\n",
        "        user_histories[user_id].extend(article_ids)\n",
        "    return user_histories\n",
        "\n",
        "user_history_train_cleaned = process_cleaned_user_history(history_train_cleaned)\n",
        "user_history_val_cleaned = process_cleaned_user_history(history_val_cleaned)"
      ]
    },
    {
      "cell_type": "code",
      "execution_count": 11,
      "metadata": {
        "id": "HKiNZlCn583u",
        "outputId": "312e547c-30b9-48c4-8f8b-dad019933b0a",
        "colab": {
          "base_uri": "https://localhost:8080/"
        }
      },
      "outputs": [
        {
          "output_type": "stream",
          "name": "stdout",
          "text": [
            "Vocabulary Size: 18591\n",
            "Sample Tokens: ['<PAD>', '<UNK>', 'ishockey-spiller:', 'jeg', 'troede', 'skulle', 'dø', 'prins', 'harry', 'tvunget']\n"
          ]
        }
      ],
      "source": [
        "print(f\"Vocabulary Size: {VOCAB_SIZE}\")\n",
        "print(f\"Sample Tokens: {list(vocab.keys())[:10]}\")"
      ]
    },
    {
      "cell_type": "code",
      "execution_count": 12,
      "metadata": {
        "id": "i2GmK3b1583u",
        "outputId": "1995871b-1b68-43f5-a71b-fccb2bf4f214",
        "colab": {
          "base_uri": "https://localhost:8080/"
        }
      },
      "outputs": [
        {
          "output_type": "stream",
          "name": "stdout",
          "text": [
            "Vocabulary saved to /content/drive/MyDrive/DTU/Kandidat/Semester 9/Deep learning/Final project/Data/vocab.json\n"
          ]
        }
      ],
      "source": [
        "import json\n",
        "import os\n",
        "\n",
        "data_folder = \"/content/drive/MyDrive/DTU/Kandidat/Semester 9/Deep learning/Final project/Data\"\n",
        "vocab_file = os.path.join(data_folder, \"vocab.json\")\n",
        "\n",
        "os.makedirs(data_folder, exist_ok=True)\n",
        "\n",
        "# Save the vocabulary to a file\n",
        "with open(vocab_file, \"w\") as f:\n",
        "    json.dump(vocab, f)\n",
        "\n",
        "print(f\"Vocabulary saved to {vocab_file}\")"
      ]
    },
    {
      "cell_type": "code",
      "execution_count": 13,
      "metadata": {
        "id": "_G9h9iHY583v",
        "outputId": "78698f6f-1b25-47c2-f854-99f089c36add",
        "colab": {
          "base_uri": "https://localhost:8080/"
        }
      },
      "outputs": [
        {
          "output_type": "execute_result",
          "data": {
            "text/plain": [
              "582"
            ]
          },
          "metadata": {},
          "execution_count": 13
        }
      ],
      "source": [
        "len(user_history_train_cleaned[13538])"
      ]
    },
    {
      "cell_type": "code",
      "execution_count": 14,
      "metadata": {
        "id": "537JfP7y583v"
      },
      "outputs": [],
      "source": [
        "from random import sample\n",
        "\n",
        "def create_samples(behaviors_df, user_history, npratio=NPRATIO, max_sents=MAX_SENTS, max_sent_length=MAX_SENT_LENGTH):\n",
        "    samples = []\n",
        "    labels = []\n",
        "    for _, row in behaviors_df.iterrows():\n",
        "        user_id = row[\"user_id\"]\n",
        "\n",
        "        clicked_articles = clean_article_ids(row['article_ids_clicked'])\n",
        "        inview_articles = clean_article_ids(row['article_ids_inview'])\n",
        "\n",
        "        if clicked_articles is None or inview_articles is None:\n",
        "            continue\n",
        "\n",
        "        clicked_articles = [article_to_idx.get(article_id, 1) for article_id in clicked_articles]  # Map or <UNK>\n",
        "        inview_articles = [article_to_idx.get(article_id, 1) for article_id in inview_articles]  # Map or <UNK>\n",
        "\n",
        "        # Prepare user history\n",
        "        user_hist = user_history.get(user_id, [])\n",
        "        user_hist = [article_to_idx.get(article_id, 1) for article_id in user_hist[:max_sents]]  # Map or <UNK>\n",
        "        user_hist += [0] * (max_sents - len(user_hist))  # Pad to max_sents\n",
        "\n",
        "        # Add positive samples\n",
        "        for article_idx in clicked_articles:\n",
        "            candidate = [article_idx] + [0] * (max_sent_length - 1)\n",
        "            samples.append((user_hist, candidate))\n",
        "            labels.append(1)\n",
        "\n",
        "        # Add negative samples\n",
        "        negative_articles = list(set(inview_articles) - set(clicked_articles))\n",
        "        for article_idx in negative_articles:\n",
        "            candidate = [article_idx] + [0] * (max_sent_length - 1)\n",
        "            samples.append((user_hist, candidate))\n",
        "            labels.append(0)\n",
        "\n",
        "    return samples, labels\n",
        "\n",
        "train_samples_cleaned, train_labels_cleaned = create_samples(\n",
        "    behaviors_train, user_history_train_cleaned, npratio=NPRATIO\n",
        "    )\n",
        "val_samples_cleaned, val_labels_cleaned = create_samples(\n",
        "    behaviors_val, user_history_val_cleaned, npratio=NPRATIO\n",
        "    )"
      ]
    },
    {
      "cell_type": "code",
      "execution_count": 44,
      "metadata": {
        "id": "9D7kuxOL583x"
      },
      "outputs": [],
      "source": [
        "\n",
        "# Step 4: Define PyTorch Dataset\n",
        "class NewsDataset(Dataset):\n",
        "    def __init__(self, samples, labels):\n",
        "        self.samples = samples\n",
        "        self.labels = labels\n",
        "\n",
        "    def __len__(self):\n",
        "        return len(self.labels)\n",
        "\n",
        "    def __getitem__(self, idx):\n",
        "        user_history, candidate = self.samples[idx]\n",
        "        return (\n",
        "            torch.tensor(user_history, dtype=torch.long),\n",
        "            torch.tensor(candidate, dtype=torch.long),\n",
        "            torch.tensor(self.labels[idx], dtype=torch.long),\n",
        "        )\n",
        "\n",
        "train_dataset = NewsDataset(train_samples_cleaned, train_labels_cleaned)\n",
        "val_dataset = NewsDataset(val_samples_cleaned, val_labels_cleaned)\n",
        "\n",
        "train_loader = DataLoader(train_dataset, batch_size=BATCH_SIZE, shuffle=True)\n",
        "val_loader = DataLoader(val_dataset, batch_size=BATCH_SIZE, shuffle=False)"
      ]
    },
    {
      "cell_type": "code",
      "source": [
        "train_samples_cleaned[1]"
      ],
      "metadata": {
        "id": "Z2p0H5TVFeAH",
        "outputId": "35e2110f-d2cb-4da9-859b-e97458230f85",
        "colab": {
          "base_uri": "https://localhost:8080/"
        }
      },
      "execution_count": 49,
      "outputs": [
        {
          "output_type": "execute_result",
          "data": {
            "text/plain": [
              "([6372,\n",
              "  6285,\n",
              "  6401,\n",
              "  5938,\n",
              "  6403,\n",
              "  6393,\n",
              "  6364,\n",
              "  6423,\n",
              "  6417,\n",
              "  6428,\n",
              "  6429,\n",
              "  6433,\n",
              "  6389,\n",
              "  6451,\n",
              "  6451,\n",
              "  6463,\n",
              "  6446,\n",
              "  6383,\n",
              "  6469,\n",
              "  6461,\n",
              "  6421,\n",
              "  6471,\n",
              "  6491,\n",
              "  6518,\n",
              "  6490,\n",
              "  6462,\n",
              "  6539,\n",
              "  6546,\n",
              "  6540,\n",
              "  6611,\n",
              "  6586,\n",
              "  6586,\n",
              "  6575,\n",
              "  6640,\n",
              "  6670,\n",
              "  6652,\n",
              "  6673,\n",
              "  6674,\n",
              "  6361,\n",
              "  6675,\n",
              "  6679,\n",
              "  6414,\n",
              "  6675,\n",
              "  6728,\n",
              "  6659,\n",
              "  6549,\n",
              "  6732,\n",
              "  6746,\n",
              "  6737,\n",
              "  6743],\n",
              " [8481,\n",
              "  0,\n",
              "  0,\n",
              "  0,\n",
              "  0,\n",
              "  0,\n",
              "  0,\n",
              "  0,\n",
              "  0,\n",
              "  0,\n",
              "  0,\n",
              "  0,\n",
              "  0,\n",
              "  0,\n",
              "  0,\n",
              "  0,\n",
              "  0,\n",
              "  0,\n",
              "  0,\n",
              "  0,\n",
              "  0,\n",
              "  0,\n",
              "  0,\n",
              "  0,\n",
              "  0,\n",
              "  0,\n",
              "  0,\n",
              "  0,\n",
              "  0,\n",
              "  0])"
            ]
          },
          "metadata": {},
          "execution_count": 49
        }
      ]
    },
    {
      "cell_type": "code",
      "execution_count": 16,
      "metadata": {
        "id": "IzPhZQu8583x",
        "outputId": "fdca7a4a-0cb0-49d8-94ea-62339212ed22",
        "colab": {
          "base_uri": "https://localhost:8080/",
          "height": 161
        }
      },
      "outputs": [
        {
          "output_type": "execute_result",
          "data": {
            "text/plain": [
              "' # Step 5: Define the NRMS Model\\nclass MultiHeadSelfAttention(nn.Module):\\n    def __init__(self, num_heads, head_size):\\n        super().__init__()\\n        self.num_heads = num_heads\\n        self.head_size = head_size\\n        self.output_dim = num_heads * head_size\\n        self.qkv_linear = nn.Linear(EMBEDDING_DIM, self.output_dim * 3)\\n        self.fc_out = nn.Linear(self.output_dim, EMBEDDING_DIM)\\n\\n    def forward(self, x):\\n        if len(x.size()) != 3:\\n            raise ValueError(f\"Expected input to be 3D (batch_size, seq_length, embed_dim), got {x.size()}\")\\n        batch_size, seq_length, embed_dim = x.size()\\n        qkv = self.qkv_linear(x).reshape(batch_size, seq_length, self.num_heads, 3 * self.head_size)\\n        qkv = qkv.permute(2, 0, 1, 3)\\n        Q, K, V = torch.chunk(qkv, 3, dim=-1)\\n        scores = torch.matmul(Q, K.transpose(-2, -1)) / torch.sqrt(torch.tensor(self.head_size, dtype=torch.float32))\\n        attention = F.softmax(scores, dim=-1)\\n        weighted = torch.matmul(attention, V)\\n        weighted = weighted.permute(1, 2, 0, 3).reshape(batch_size, seq_length, self.output_dim)\\n        return self.fc_out(weighted)\\n\\nclass TitleEncoder(nn.Module):\\n    def __init__(self, article_embedding_size, embedding_dim):\\n        super().__init__()\\n        self.embedding = nn.Embedding(article_embedding_size, embedding_dim)\\n        self.dropout = nn.Dropout(DROPOUT_RATE)\\n        self.self_attention = MultiHeadSelfAttention(NUM_HEADS, HEAD_SIZE)\\n        self.dense = nn.Linear(embedding_dim, 1)\\n\\n    def forward(self, x):\\n        x = self.embedding(x)  # Ensure input is embedded\\n        if len(x.size()) != 3:\\n            raise ValueError(f\"Embedding layer output should be 3D, got {x.size()}\")\\n        x = self.dropout(x)\\n        x = self.self_attention(x)\\n        attention_weights = F.softmax(self.dense(x).squeeze(-1), dim=-1) # attention weights\\n        return torch.sum(x * attention_weights.unsqueeze(-1), dim=1) # weighted sum\\n\\nclass NRMS(nn.Module):\\n    def __init__(self, article_embedding_size, embedding_dim, num_classes):\\n        super().__init__()\\n        self.title_encoder = TitleEncoder(article_embedding_size, embedding_dim)\\n\\n    def forward(self, candidates, user_history):\\n        assert len(user_history.size()) == 2, f\"Expected user_history to have 2 dimensions, got {user_history.size()}\"\\n        assert len(candidates.size()) == 2, f\"Expected candidates to have 2 dimensions, got {candidates.size()}\"\\n\\n        user_rep = self.title_encoder(user_history)  # Output: (batch_size, embedding_dim)\\n        candidate_rep = self.title_encoder(candidates)  # Output: (batch_size, embedding_dim)\\n        return torch.matmul(candidate_rep, user_rep.unsqueeze(-1)).squeeze(-1) '"
            ],
            "application/vnd.google.colaboratory.intrinsic+json": {
              "type": "string"
            }
          },
          "metadata": {},
          "execution_count": 16
        }
      ],
      "source": [
        "''' # Step 5: Define the NRMS Model\n",
        "class MultiHeadSelfAttention(nn.Module):\n",
        "    def __init__(self, num_heads, head_size):\n",
        "        super().__init__()\n",
        "        self.num_heads = num_heads\n",
        "        self.head_size = head_size\n",
        "        self.output_dim = num_heads * head_size\n",
        "        self.qkv_linear = nn.Linear(EMBEDDING_DIM, self.output_dim * 3)\n",
        "        self.fc_out = nn.Linear(self.output_dim, EMBEDDING_DIM)\n",
        "\n",
        "    def forward(self, x):\n",
        "        if len(x.size()) != 3:\n",
        "            raise ValueError(f\"Expected input to be 3D (batch_size, seq_length, embed_dim), got {x.size()}\")\n",
        "        batch_size, seq_length, embed_dim = x.size()\n",
        "        qkv = self.qkv_linear(x).reshape(batch_size, seq_length, self.num_heads, 3 * self.head_size)\n",
        "        qkv = qkv.permute(2, 0, 1, 3)\n",
        "        Q, K, V = torch.chunk(qkv, 3, dim=-1)\n",
        "        scores = torch.matmul(Q, K.transpose(-2, -1)) / torch.sqrt(torch.tensor(self.head_size, dtype=torch.float32))\n",
        "        attention = F.softmax(scores, dim=-1)\n",
        "        weighted = torch.matmul(attention, V)\n",
        "        weighted = weighted.permute(1, 2, 0, 3).reshape(batch_size, seq_length, self.output_dim)\n",
        "        return self.fc_out(weighted)\n",
        "\n",
        "class TitleEncoder(nn.Module):\n",
        "    def __init__(self, article_embedding_size, embedding_dim):\n",
        "        super().__init__()\n",
        "        self.embedding = nn.Embedding(article_embedding_size, embedding_dim)\n",
        "        self.dropout = nn.Dropout(DROPOUT_RATE)\n",
        "        self.self_attention = MultiHeadSelfAttention(NUM_HEADS, HEAD_SIZE)\n",
        "        self.dense = nn.Linear(embedding_dim, 1)\n",
        "\n",
        "    def forward(self, x):\n",
        "        x = self.embedding(x)  # Ensure input is embedded\n",
        "        if len(x.size()) != 3:\n",
        "            raise ValueError(f\"Embedding layer output should be 3D, got {x.size()}\")\n",
        "        x = self.dropout(x)\n",
        "        x = self.self_attention(x)\n",
        "        attention_weights = F.softmax(self.dense(x).squeeze(-1), dim=-1) # attention weights\n",
        "        return torch.sum(x * attention_weights.unsqueeze(-1), dim=1) # weighted sum\n",
        "\n",
        "class NRMS(nn.Module):\n",
        "    def __init__(self, article_embedding_size, embedding_dim, num_classes):\n",
        "        super().__init__()\n",
        "        self.title_encoder = TitleEncoder(article_embedding_size, embedding_dim)\n",
        "\n",
        "    def forward(self, candidates, user_history):\n",
        "        assert len(user_history.size()) == 2, f\"Expected user_history to have 2 dimensions, got {user_history.size()}\"\n",
        "        assert len(candidates.size()) == 2, f\"Expected candidates to have 2 dimensions, got {candidates.size()}\"\n",
        "\n",
        "        user_rep = self.title_encoder(user_history)  # Output: (batch_size, embedding_dim)\n",
        "        candidate_rep = self.title_encoder(candidates)  # Output: (batch_size, embedding_dim)\n",
        "        return torch.matmul(candidate_rep, user_rep.unsqueeze(-1)).squeeze(-1) '''"
      ]
    },
    {
      "cell_type": "code",
      "source": [
        "''' # Step 5: Define the NRMS Model\n",
        "class MultiHeadSelfAttention(nn.Module):\n",
        "    def __init__(self, num_heads, head_size):\n",
        "        super().__init__()\n",
        "        self.num_heads = num_heads\n",
        "        self.head_size = head_size\n",
        "        self.output_dim = num_heads * head_size\n",
        "        self.WQ = nn.Linear(EMBEDDING_DIM, self.output_dim)\n",
        "        self.WK = nn.Linear(EMBEDDING_DIM, self.output_dim)\n",
        "        self.WV = nn.Linear(EMBEDDING_DIM, self.output_dim)\n",
        "        self.fc_out = nn.Linear(self.output_dim, EMBEDDING_DIM)\n",
        "\n",
        "    def forward(self, Q, K, V, mask=None):\n",
        "        batch_size = Q.size(0)\n",
        "\n",
        "        Q = self.WQ(Q).view(batch_size, -1, self.num_heads, self.head_size).permute(0, 2, 1, 3)\n",
        "        K = self.WK(K).view(batch_size, -1, self.num_heads, self.head_size).permute(0, 2, 1, 3)\n",
        "        V = self.WV(V).view(batch_size, -1, self.num_heads, self.head_size).permute(0, 2, 1, 3)\n",
        "\n",
        "        scores = torch.matmul(Q, K.transpose(-2, -1)) / torch.sqrt(torch.tensor(self.head_size, dtype=torch.float32))\n",
        "        if mask is not None:\n",
        "            scores = scores.masked_fill(mask == 0, float('-inf'))\n",
        "        attention = F.softmax(scores, dim=-1)\n",
        "\n",
        "        # Weighted sum\n",
        "        out = torch.matmul(attention, V).permute(0, 2, 1, 3).contiguous()\n",
        "        out = out.view(batch_size, -1, self.output_dim)\n",
        "\n",
        "        return self.fc_out(out)\n",
        "\n",
        "class NewsEncoder(nn.Module):\n",
        "    def __init__(self, vocab_size, embedding_dim, num_heads, head_dim, dropout_rate):\n",
        "        super().__init__()\n",
        "        self.embedding = nn.Embedding(vocab_size, embedding_dim)\n",
        "        self.self_attention = MultiHeadSelfAttention(num_heads, head_dim)\n",
        "        self.additive_attention = nn.Linear(embedding_dim, 1)\n",
        "        self.dropout = nn.Dropout(dropout_rate)\n",
        "\n",
        "    def forward(self, title):\n",
        "        # Convert word IDs to embeddings\n",
        "        embedded = self.embedding(title).float()  # (batch_size, seq_len, embedding_dim)\n",
        "        embedded = self.dropout(embedded)\n",
        "\n",
        "        # Apply word-level self-attention\n",
        "        attended = self.self_attention(embedded, embedded, embedded)\n",
        "\n",
        "        # Additive attention to aggregate word vectors into a single title representation\n",
        "        scores = F.softmax(self.additive_attention(attended), dim=1)  # (batch_size, seq_len, 1)\n",
        "        title_representation = torch.sum(attended * scores, dim=1)  # (batch_size, embedding_dim)\n",
        "\n",
        "        return title_representation\n",
        "\n",
        "class UserEncoder(nn.Module):\n",
        "    def __init__(self, embedding_dim, num_heads, head_dim, dropout_rate):\n",
        "        super().__init__()\n",
        "        self.self_attention = MultiHeadSelfAttention(num_heads, head_dim)\n",
        "        self.additive_attention = nn.Linear(embedding_dim, 1)\n",
        "        self.dropout = nn.Dropout(dropout_rate)\n",
        "\n",
        "    def forward(self, news_representations):\n",
        "        # Apply dropout\n",
        "        news_representations = self.dropout(news_representations)  # (batch_size, num_articles, embedding_dim)\n",
        "\n",
        "        # Apply news-level self-attention\n",
        "        attended = self.self_attention(news_representations, news_representations, news_representations)\n",
        "\n",
        "        # Additive attention to aggregate news vectors into a single user representation\n",
        "        scores = F.softmax(self.additive_attention(attended), dim=1)  # (batch_size, num_articles, 1)\n",
        "        user_representation = torch.sum(attended * scores, dim=1)  # (batch_size, embedding_dim)\n",
        "\n",
        "        return user_representation\n",
        "\n",
        "class NRMS(nn.Module):\n",
        "    def __init__(self, vocab_size, embedding_dim, num_heads, head_dim, dropout_rate):\n",
        "        super().__init__()\n",
        "        self.news_encoder = NewsEncoder(vocab_size, embedding_dim, num_heads, head_dim, dropout_rate)\n",
        "        self.user_encoder = UserEncoder(embedding_dim, num_heads, head_dim, dropout_rate)\n",
        "\n",
        "    def forward(self, candidate_titles, user_histories):\n",
        "        # Encode candidate news articles\n",
        "        candidate_representations = self.news_encoder(candidate_titles)  # (batch_size, embedding_dim)\n",
        "\n",
        "        # Encode user history (sequence of news embeddings)\n",
        "        batch_size, num_articles, title_length = user_histories.size()\n",
        "        user_histories = user_histories.view(batch_size * num_articles, title_length)  # Flatten for processing\n",
        "        user_histories_encoded = self.news_encoder(user_histories)  # Encode all titles at once\n",
        "        user_histories_encoded = user_histories_encoded.view(batch_size, num_articles, -1)  # Reshape back to batch format\n",
        "        user_representations = self.user_encoder(user_histories_encoded)  # (batch_size, embedding_dim)\n",
        "\n",
        "        # Dot product for click prediction\n",
        "        scores = torch.matmul(candidate_representations, user_representations.unsqueeze(-1)).squeeze(-1)\n",
        "\n",
        "        print(f\"Candidate representations shape: {candidate_representations.shape}\")\n",
        "        print(f\"User representations shape: {user_representations.shape}\")\n",
        "        print(f\"Final scores shape: {scores.shape}\")\n",
        "\n",
        "\n",
        "        return scores\n",
        " '''"
      ],
      "metadata": {
        "id": "p_anUwTL0g6D"
      },
      "execution_count": 41,
      "outputs": []
    },
    {
      "cell_type": "code",
      "source": [
        "class MultiheadAttention(nn.Module):\n",
        "    def __init__(self, embed_dim, num_heads, head_dim):\n",
        "        super(MultiheadAttention, self).__init__()\n",
        "\n",
        "        self.embed_dim = embed_dim\n",
        "        self.num_heads = num_heads\n",
        "        self.head_dim = head_dim\n",
        "\n",
        "        # Linear layers for Q, K, V\n",
        "        self.linear_q = nn.Linear(embed_dim, embed_dim)\n",
        "        self.linear_k = nn.Linear(embed_dim, embed_dim)\n",
        "        self.linear_v = nn.Linear(embed_dim, embed_dim)\n",
        "\n",
        "        # Final linear layer\n",
        "        self.final_linear = nn.Linear(embed_dim, embed_dim)\n",
        "\n",
        "        # Dropout layer\n",
        "        self.dropout = nn.Dropout(p=0.1)\n",
        "\n",
        "    def scaled_dot_product_attention(self, query, key, value):\n",
        "        # Calculate the dot product\n",
        "        scores = torch.matmul(query, key.transpose(-2, -1)) / (self.head_dim ** 0.5)\n",
        "\n",
        "        # Apply softmax to get attention scores\n",
        "        attn = F.softmax(scores, dim=-1)\n",
        "\n",
        "        # Apply dropout\n",
        "        attn = self.dropout(attn)\n",
        "\n",
        "        # Multiply by value\n",
        "        output = torch.matmul(attn, value)\n",
        "        return output\n",
        "\n",
        "    def forward(self, query, key, value):\n",
        "        batch_size = query.size(0)\n",
        "        seq_len = query.size(1)\n",
        "\n",
        "        # Perform linear operation and split into h heads\n",
        "\n",
        "        query = self.linear_q(query).view(batch_size, -1, self.num_heads, self.head_dim).transpose(1, 2)\n",
        "        key = self.linear_k(key).view(batch_size, -1, self.num_heads, self.head_dim).transpose(1, 2)\n",
        "        value = self.linear_v(value).view(batch_size, -1, self.num_heads, self.head_dim).transpose(1, 2)\n",
        "\n",
        "        # Apply scaled dot product attention\n",
        "        attn_output = self.scaled_dot_product_attention(query, key, value)\n",
        "\n",
        "\n",
        "        attn_output = attn_output.permute(0, 2, 1, 3).contiguous()  # Shape: (batch_size, seq_len, num_heads, head_dim)\n",
        "        attn_output = attn_output.view(batch_size, seq_len, -1)  # Shape: (batch_size, seq_len, embed_dim)\n",
        "\n",
        "        # combine and redistribute with a final layer\n",
        "        output = self.final_linear(attn_output)\n",
        "\n",
        "        return output\n",
        "\n",
        "class AdditiveAttention(nn.Module):\n",
        "    def __init__(self, embedding_dim):\n",
        "        \"\"\"\n",
        "        Additive attention mechanism based on the paper.\n",
        "        Args:\n",
        "            embedding_dim: The dimension of input embeddings (h^w_i in the paper).\n",
        "        \"\"\"\n",
        "        super(AdditiveAttention, self).__init__()\n",
        "        self.V_w = nn.Linear(embedding_dim, embedding_dim)  # V_w × h^w_i\n",
        "        self.q_w = nn.Parameter(torch.randn(embedding_dim))  # q_w (query vector)\n",
        "        self.v_w = nn.Parameter(torch.randn(1))  # v_w (bias scalar)\n",
        "\n",
        "    def forward(self, word_embeddings):\n",
        "        \"\"\"\n",
        "        Compute attention scores and weighted sum.\n",
        "        Args:\n",
        "            word_embeddings: Tensor of shape (batch_size, seq_len, embedding_dim)\n",
        "                             representing the sequence of word embeddings.\n",
        "        Returns:\n",
        "            Tensor of shape (batch_size, embedding_dim), which is the aggregated\n",
        "            representation of the sequence.\n",
        "        \"\"\"\n",
        "        # Apply V_w (Linear transformation)\n",
        "        Vh = self.V_w(word_embeddings)  # (batch_size, seq_len, embedding_dim)\n",
        "\n",
        "        # Compute additive attention scores\n",
        "        scores = torch.matmul(torch.tanh(Vh + self.v_w), self.q_w)  # (batch_size, seq_len)\n",
        "\n",
        "        # Apply softmax to get attention weights\n",
        "        attention_weights = F.softmax(scores, dim=1)  # (batch_size, seq_len)\n",
        "\n",
        "        # Weighted sum of word embeddings\n",
        "        aggregated_representation = torch.sum(word_embeddings * attention_weights.unsqueeze(-1), dim=1)  # (batch_size, embedding_dim)\n",
        "\n",
        "        return aggregated_representation, attention_weights\n",
        "\n",
        "\n",
        "class TitleEncoder(nn.Module):\n",
        "    def __init__(self, vocab_size, embed_dim, num_heads, head_dim, dropout_rate):\n",
        "        super(TitleEncoder, self).__init__()\n",
        "        self.embedding = nn.Embedding(vocab_size, embed_dim)  # Embedding layer for words\n",
        "        self.self_attention = MultiheadAttention(embed_dim, num_heads, head_dim)  # Multi-head self-attention\n",
        "        self.additive_attention = AdditiveAttention(embed_dim)  # Additive attention\n",
        "        self.dropout = nn.Dropout(dropout_rate)  # Dropout for regularization\n",
        "\n",
        "    def forward(self, title):\n",
        "        \"\"\"\n",
        "        Encodes a single title into a vector representation.\n",
        "\n",
        "        Args:\n",
        "            title: Tensor of shape (title_length,), representing the sequence of word indices in the title.\n",
        "\n",
        "        Returns:\n",
        "            Tensor of shape (embed_dim,), representing the encoded title.\n",
        "        \"\"\"\n",
        "        # Ensure the input is batched\n",
        "        title = title.unsqueeze(0)  # Add batch dimension: (1, title_length)\n",
        "\n",
        "        # Embed the input title\n",
        "        embedded = self.embedding(title)  # (1, title_length, embed_dim)\n",
        "        embedded = self.dropout(embedded)\n",
        "\n",
        "        # Apply multi-head self-attention\n",
        "        attended = self.self_attention(\n",
        "            embedded, embedded, embedded\n",
        "        )  # (1, title_length, embed_dim)\n",
        "\n",
        "        # Additive attention to aggregate word representations into a single vector\n",
        "        aggregated_representation, _ = self.additive_attention(attended)  # (1, embed_dim)\n",
        "\n",
        "        return aggregated_representation.squeeze(0)  # Remove batch dimension: (embed_dim,)\n",
        "\n",
        "class UserEncoder(nn.Module):\n",
        "    def __init__(self, embedding_dim, num_heads, head_dim, dropout_rate):\n",
        "        \"\"\"\n",
        "        User-level multi-head self-attention encoder.\n",
        "\n",
        "        Args:\n",
        "            embedding_dim: Dimension of the input title embeddings.\n",
        "            num_heads: Number of attention heads.\n",
        "            head_dim: Dimension of each attention head.\n",
        "            dropout_rate: Dropout rate for regularization.\n",
        "        \"\"\"\n",
        "        super(UserEncoder, self).__init__()\n",
        "        self.self_attention = MultiheadAttention(embedding_dim, num_heads, head_dim)\n",
        "        self.additive_attention = AdditiveAttention(embedding_dim)\n",
        "        self.dropout = nn.Dropout(dropout_rate)\n",
        "\n",
        "    def forward(self, title_representations):\n",
        "        \"\"\"\n",
        "        Forward pass for user-level multi-head self-attention.\n",
        "\n",
        "        Args:\n",
        "            title_representations: Tensor of shape (batch_size, num_titles, embedding_dim),\n",
        "                                   representing the encoded representations of clicked articles for each user.\n",
        "\n",
        "        Returns:\n",
        "            user_representation: Tensor of shape (batch_size, embedding_dim), the final user embedding.\n",
        "            attention_weights: Tensor of shape (batch_size, num_titles), the attention weights for interpretability.\n",
        "        \"\"\"\n",
        "        # Apply dropout to title representations\n",
        "        title_representations = self.dropout(title_representations)\n",
        "\n",
        "        # Apply multi-head self-attention on the title representations\n",
        "        enhanced_representations = self.self_attention(\n",
        "            title_representations, title_representations, title_representations\n",
        "        )  # (batch_size, num_titles, embedding_dim)\n",
        "\n",
        "        # Use additive attention to compute the final user representation\n",
        "        user_representation, attention_weights = self.additive_attention(enhanced_representations)\n",
        "\n",
        "        return user_representation, attention_weights\n",
        "\n",
        "class NRMSUserPipeline(nn.Module):\n",
        "    def __init__(self, vocab_size, embedding_dim, num_heads, head_dim, dropout_rate):\n",
        "        \"\"\"\n",
        "        NRMS pipeline combining TitleEncoder and UserEncoder.\n",
        "\n",
        "        Args:\n",
        "            vocab_size: Size of the vocabulary.\n",
        "            embedding_dim: Dimension of the input/output embeddings.\n",
        "            num_heads: Number of attention heads for the multi-head attention.\n",
        "            head_dim: Dimension of each attention head.\n",
        "            dropout_rate: Dropout rate for regularization.\n",
        "        \"\"\"\n",
        "        super(NRMSUserPipeline, self).__init__()\n",
        "        self.title_encoder = TitleEncoder(vocab_size, embedding_dim, num_heads, head_dim, dropout_rate)\n",
        "        self.user_encoder = UserEncoder(embedding_dim, num_heads, head_dim, dropout_rate)\n",
        "\n",
        "    def forward(self, user_histories):\n",
        "        \"\"\"\n",
        "        Forward pass for the NRMS pipeline.\n",
        "\n",
        "        Args:\n",
        "            user_histories: Tensor of shape (batch_size, num_titles, title_length),\n",
        "                            representing the word IDs for clicked articles of each user.\n",
        "\n",
        "        Returns:\n",
        "            user_representation: Tensor of shape (batch_size, embedding_dim), the final user embedding.\n",
        "            attention_weights: Tensor of shape (batch_size, num_titles), attention weights for interpretability.\n",
        "        \"\"\"\n",
        "        #num_titles, title_length = user_histories.size()\n",
        "\n",
        "        # Reshape to process all titles in the batch through the TitleEncoder\n",
        "        #user_histories = user_histories.view(num_titles, title_length)  # (batch_size * num_titles, title_length)\n",
        "\n",
        "        # Pass through TitleEncoder to get title representations\n",
        "        title_representations = self.title_encoder(user_histories)  # (batch_size * num_titles, embedding_dim)\n",
        "\n",
        "        # Reshape back to original batch structure\n",
        "        #title_representations = title_representations.view(batch_size, num_titles, -1)  # (batch_size, num_titles, embedding_dim)\n",
        "\n",
        "        # Pass through UserEncoder to get user representation\n",
        "        user_representation, attention_weights = self.user_encoder(title_representations)\n",
        "\n",
        "        return user_representation, attention_weights\n"
      ],
      "metadata": {
        "id": "4g19Cd-aIAXB"
      },
      "execution_count": 103,
      "outputs": []
    },
    {
      "cell_type": "code",
      "source": [
        "import torch\n",
        "\n",
        "# Mock single title: 6 words in the title\n",
        "mock_title = torch.randint(0, 100, (6,))  # Shape: (title_length=6)\n",
        "\n",
        "# Define the TitleEncoder\n",
        "vocab_size = 100  # Mock vocabulary size\n",
        "embedding_dim = 300\n",
        "num_heads = 4\n",
        "head_dim = 75\n",
        "dropout_rate = 0.1\n",
        "\n",
        "title_encoder = TitleEncoder(vocab_size, embedding_dim, num_heads, head_dim, dropout_rate)\n",
        "\n",
        "# Forward pass for a single title\n",
        "title_representation = title_encoder(mock_title)\n",
        "\n",
        "print(\"Title Representation Shape:\", title_representation.shape)  # Expected: (embed_dim=300)\n"
      ],
      "metadata": {
        "id": "V9pm-svWm7Vd",
        "outputId": "ee9d9122-e97e-4451-8f06-71c5a66d5a43",
        "colab": {
          "base_uri": "https://localhost:8080/"
        }
      },
      "execution_count": 104,
      "outputs": [
        {
          "output_type": "stream",
          "name": "stdout",
          "text": [
            "torch.Size([1, 6, 300])\n",
            "Title Representation Shape: torch.Size([300])\n"
          ]
        }
      ]
    },
    {
      "cell_type": "code",
      "source": [
        "mock_titles = torch.randint(0, 100, (2, 6))  # (batch_size=2, title_length=6)"
      ],
      "metadata": {
        "id": "00fF_3PUrzAC"
      },
      "execution_count": 88,
      "outputs": []
    },
    {
      "cell_type": "code",
      "source": [
        "import torch\n",
        "\n",
        "# Mock data: 4 users, each with 5 clicked articles, each article having 10 words\n",
        "mock_user_histories = torch.randint(0, 100, (5, 10))  # (batch_size=4, num_titles=5, title_length=10)\n",
        "\n",
        "# Define pipeline\n",
        "vocab_size = 100  # Mock vocabulary size\n",
        "embedding_dim = 300\n",
        "num_heads = 16\n",
        "head_dim = 16\n",
        "dropout_rate = 0.1\n",
        "\n",
        "nrms_pipeline = NRMSUserPipeline(vocab_size, embedding_dim, num_heads, head_dim, dropout_rate)\n",
        "\n",
        "# Forward pass\n",
        "user_representation, attention_weights = nrms_pipeline(mock_user_histories)\n",
        "\n",
        "print(\"User Representation Shape:\", user_representation.shape)  # Expected: (batch_size=4, embedding_dim=300)\n",
        "print(\"Attention Weights Shape:\", attention_weights.shape)      # Expected: (batch_size=4, num_titles=5)"
      ],
      "metadata": {
        "id": "n0wkSOuFU-YH",
        "outputId": "b7cc64cb-3fee-4b4a-f23f-be7b54ce7039",
        "colab": {
          "base_uri": "https://localhost:8080/",
          "height": 365
        }
      },
      "execution_count": 84,
      "outputs": [
        {
          "output_type": "error",
          "ename": "RuntimeError",
          "evalue": "mat1 and mat2 shapes cannot be multiplied (50x256 and 300x300)",
          "traceback": [
            "\u001b[0;31m---------------------------------------------------------------------------\u001b[0m",
            "\u001b[0;31mRuntimeError\u001b[0m                              Traceback (most recent call last)",
            "\u001b[0;32m<ipython-input-84-c0b35b2c0341>\u001b[0m in \u001b[0;36m<cell line: 16>\u001b[0;34m()\u001b[0m\n\u001b[1;32m     14\u001b[0m \u001b[0;34m\u001b[0m\u001b[0m\n\u001b[1;32m     15\u001b[0m \u001b[0;31m# Forward pass\u001b[0m\u001b[0;34m\u001b[0m\u001b[0;34m\u001b[0m\u001b[0m\n\u001b[0;32m---> 16\u001b[0;31m \u001b[0muser_representation\u001b[0m\u001b[0;34m,\u001b[0m \u001b[0mattention_weights\u001b[0m \u001b[0;34m=\u001b[0m \u001b[0mnrms_pipeline\u001b[0m\u001b[0;34m(\u001b[0m\u001b[0mmock_user_histories\u001b[0m\u001b[0;34m)\u001b[0m\u001b[0;34m\u001b[0m\u001b[0;34m\u001b[0m\u001b[0m\n\u001b[0m\u001b[1;32m     17\u001b[0m \u001b[0;34m\u001b[0m\u001b[0m\n\u001b[1;32m     18\u001b[0m \u001b[0mprint\u001b[0m\u001b[0;34m(\u001b[0m\u001b[0;34m\"User Representation Shape:\"\u001b[0m\u001b[0;34m,\u001b[0m \u001b[0muser_representation\u001b[0m\u001b[0;34m.\u001b[0m\u001b[0mshape\u001b[0m\u001b[0;34m)\u001b[0m  \u001b[0;31m# Expected: (batch_size=4, embedding_dim=300)\u001b[0m\u001b[0;34m\u001b[0m\u001b[0;34m\u001b[0m\u001b[0m\n",
            "\u001b[0;32m/usr/local/lib/python3.10/dist-packages/torch/nn/modules/module.py\u001b[0m in \u001b[0;36m_wrapped_call_impl\u001b[0;34m(self, *args, **kwargs)\u001b[0m\n\u001b[1;32m   1734\u001b[0m             \u001b[0;32mreturn\u001b[0m \u001b[0mself\u001b[0m\u001b[0;34m.\u001b[0m\u001b[0m_compiled_call_impl\u001b[0m\u001b[0;34m(\u001b[0m\u001b[0;34m*\u001b[0m\u001b[0margs\u001b[0m\u001b[0;34m,\u001b[0m \u001b[0;34m**\u001b[0m\u001b[0mkwargs\u001b[0m\u001b[0;34m)\u001b[0m  \u001b[0;31m# type: ignore[misc]\u001b[0m\u001b[0;34m\u001b[0m\u001b[0;34m\u001b[0m\u001b[0m\n\u001b[1;32m   1735\u001b[0m         \u001b[0;32melse\u001b[0m\u001b[0;34m:\u001b[0m\u001b[0;34m\u001b[0m\u001b[0;34m\u001b[0m\u001b[0m\n\u001b[0;32m-> 1736\u001b[0;31m             \u001b[0;32mreturn\u001b[0m \u001b[0mself\u001b[0m\u001b[0;34m.\u001b[0m\u001b[0m_call_impl\u001b[0m\u001b[0;34m(\u001b[0m\u001b[0;34m*\u001b[0m\u001b[0margs\u001b[0m\u001b[0;34m,\u001b[0m \u001b[0;34m**\u001b[0m\u001b[0mkwargs\u001b[0m\u001b[0;34m)\u001b[0m\u001b[0;34m\u001b[0m\u001b[0;34m\u001b[0m\u001b[0m\n\u001b[0m\u001b[1;32m   1737\u001b[0m \u001b[0;34m\u001b[0m\u001b[0m\n\u001b[1;32m   1738\u001b[0m     \u001b[0;31m# torchrec tests the code consistency with the following code\u001b[0m\u001b[0;34m\u001b[0m\u001b[0;34m\u001b[0m\u001b[0m\n",
            "\u001b[0;32m/usr/local/lib/python3.10/dist-packages/torch/nn/modules/module.py\u001b[0m in \u001b[0;36m_call_impl\u001b[0;34m(self, *args, **kwargs)\u001b[0m\n\u001b[1;32m   1745\u001b[0m                 \u001b[0;32mor\u001b[0m \u001b[0m_global_backward_pre_hooks\u001b[0m \u001b[0;32mor\u001b[0m \u001b[0m_global_backward_hooks\u001b[0m\u001b[0;34m\u001b[0m\u001b[0;34m\u001b[0m\u001b[0m\n\u001b[1;32m   1746\u001b[0m                 or _global_forward_hooks or _global_forward_pre_hooks):\n\u001b[0;32m-> 1747\u001b[0;31m             \u001b[0;32mreturn\u001b[0m \u001b[0mforward_call\u001b[0m\u001b[0;34m(\u001b[0m\u001b[0;34m*\u001b[0m\u001b[0margs\u001b[0m\u001b[0;34m,\u001b[0m \u001b[0;34m**\u001b[0m\u001b[0mkwargs\u001b[0m\u001b[0;34m)\u001b[0m\u001b[0;34m\u001b[0m\u001b[0;34m\u001b[0m\u001b[0m\n\u001b[0m\u001b[1;32m   1748\u001b[0m \u001b[0;34m\u001b[0m\u001b[0m\n\u001b[1;32m   1749\u001b[0m         \u001b[0mresult\u001b[0m \u001b[0;34m=\u001b[0m \u001b[0;32mNone\u001b[0m\u001b[0;34m\u001b[0m\u001b[0;34m\u001b[0m\u001b[0m\n",
            "\u001b[0;32m<ipython-input-83-f8695c26ba5a>\u001b[0m in \u001b[0;36mforward\u001b[0;34m(self, user_histories)\u001b[0m\n\u001b[1;32m    198\u001b[0m \u001b[0;34m\u001b[0m\u001b[0m\n\u001b[1;32m    199\u001b[0m         \u001b[0;31m# Pass through TitleEncoder to get title representations\u001b[0m\u001b[0;34m\u001b[0m\u001b[0;34m\u001b[0m\u001b[0m\n\u001b[0;32m--> 200\u001b[0;31m         \u001b[0mtitle_representations\u001b[0m \u001b[0;34m=\u001b[0m \u001b[0mself\u001b[0m\u001b[0;34m.\u001b[0m\u001b[0mtitle_encoder\u001b[0m\u001b[0;34m(\u001b[0m\u001b[0muser_histories\u001b[0m\u001b[0;34m)\u001b[0m  \u001b[0;31m# (batch_size * num_titles, embedding_dim)\u001b[0m\u001b[0;34m\u001b[0m\u001b[0;34m\u001b[0m\u001b[0m\n\u001b[0m\u001b[1;32m    201\u001b[0m \u001b[0;34m\u001b[0m\u001b[0m\n\u001b[1;32m    202\u001b[0m         \u001b[0;31m# Reshape back to original batch structure\u001b[0m\u001b[0;34m\u001b[0m\u001b[0;34m\u001b[0m\u001b[0m\n",
            "\u001b[0;32m/usr/local/lib/python3.10/dist-packages/torch/nn/modules/module.py\u001b[0m in \u001b[0;36m_wrapped_call_impl\u001b[0;34m(self, *args, **kwargs)\u001b[0m\n\u001b[1;32m   1734\u001b[0m             \u001b[0;32mreturn\u001b[0m \u001b[0mself\u001b[0m\u001b[0;34m.\u001b[0m\u001b[0m_compiled_call_impl\u001b[0m\u001b[0;34m(\u001b[0m\u001b[0;34m*\u001b[0m\u001b[0margs\u001b[0m\u001b[0;34m,\u001b[0m \u001b[0;34m**\u001b[0m\u001b[0mkwargs\u001b[0m\u001b[0;34m)\u001b[0m  \u001b[0;31m# type: ignore[misc]\u001b[0m\u001b[0;34m\u001b[0m\u001b[0;34m\u001b[0m\u001b[0m\n\u001b[1;32m   1735\u001b[0m         \u001b[0;32melse\u001b[0m\u001b[0;34m:\u001b[0m\u001b[0;34m\u001b[0m\u001b[0;34m\u001b[0m\u001b[0m\n\u001b[0;32m-> 1736\u001b[0;31m             \u001b[0;32mreturn\u001b[0m \u001b[0mself\u001b[0m\u001b[0;34m.\u001b[0m\u001b[0m_call_impl\u001b[0m\u001b[0;34m(\u001b[0m\u001b[0;34m*\u001b[0m\u001b[0margs\u001b[0m\u001b[0;34m,\u001b[0m \u001b[0;34m**\u001b[0m\u001b[0mkwargs\u001b[0m\u001b[0;34m)\u001b[0m\u001b[0;34m\u001b[0m\u001b[0;34m\u001b[0m\u001b[0m\n\u001b[0m\u001b[1;32m   1737\u001b[0m \u001b[0;34m\u001b[0m\u001b[0m\n\u001b[1;32m   1738\u001b[0m     \u001b[0;31m# torchrec tests the code consistency with the following code\u001b[0m\u001b[0;34m\u001b[0m\u001b[0;34m\u001b[0m\u001b[0m\n",
            "\u001b[0;32m/usr/local/lib/python3.10/dist-packages/torch/nn/modules/module.py\u001b[0m in \u001b[0;36m_call_impl\u001b[0;34m(self, *args, **kwargs)\u001b[0m\n\u001b[1;32m   1745\u001b[0m                 \u001b[0;32mor\u001b[0m \u001b[0m_global_backward_pre_hooks\u001b[0m \u001b[0;32mor\u001b[0m \u001b[0m_global_backward_hooks\u001b[0m\u001b[0;34m\u001b[0m\u001b[0;34m\u001b[0m\u001b[0m\n\u001b[1;32m   1746\u001b[0m                 or _global_forward_hooks or _global_forward_pre_hooks):\n\u001b[0;32m-> 1747\u001b[0;31m             \u001b[0;32mreturn\u001b[0m \u001b[0mforward_call\u001b[0m\u001b[0;34m(\u001b[0m\u001b[0;34m*\u001b[0m\u001b[0margs\u001b[0m\u001b[0;34m,\u001b[0m \u001b[0;34m**\u001b[0m\u001b[0mkwargs\u001b[0m\u001b[0;34m)\u001b[0m\u001b[0;34m\u001b[0m\u001b[0;34m\u001b[0m\u001b[0m\n\u001b[0m\u001b[1;32m   1748\u001b[0m \u001b[0;34m\u001b[0m\u001b[0m\n\u001b[1;32m   1749\u001b[0m         \u001b[0mresult\u001b[0m \u001b[0;34m=\u001b[0m \u001b[0;32mNone\u001b[0m\u001b[0;34m\u001b[0m\u001b[0;34m\u001b[0m\u001b[0m\n",
            "\u001b[0;32m<ipython-input-83-f8695c26ba5a>\u001b[0m in \u001b[0;36mforward\u001b[0;34m(self, titles, key_padding_mask)\u001b[0m\n\u001b[1;32m    114\u001b[0m \u001b[0;34m\u001b[0m\u001b[0m\n\u001b[1;32m    115\u001b[0m         \u001b[0;31m# Apply multi-head self-attention\u001b[0m\u001b[0;34m\u001b[0m\u001b[0;34m\u001b[0m\u001b[0m\n\u001b[0;32m--> 116\u001b[0;31m         attended = self.self_attention(\n\u001b[0m\u001b[1;32m    117\u001b[0m             \u001b[0membedded\u001b[0m\u001b[0;34m,\u001b[0m \u001b[0membedded\u001b[0m\u001b[0;34m,\u001b[0m \u001b[0membedded\u001b[0m\u001b[0;34m\u001b[0m\u001b[0;34m\u001b[0m\u001b[0m\n\u001b[1;32m    118\u001b[0m         )  # (batch_size, title_length, embed_dim)\n",
            "\u001b[0;32m/usr/local/lib/python3.10/dist-packages/torch/nn/modules/module.py\u001b[0m in \u001b[0;36m_wrapped_call_impl\u001b[0;34m(self, *args, **kwargs)\u001b[0m\n\u001b[1;32m   1734\u001b[0m             \u001b[0;32mreturn\u001b[0m \u001b[0mself\u001b[0m\u001b[0;34m.\u001b[0m\u001b[0m_compiled_call_impl\u001b[0m\u001b[0;34m(\u001b[0m\u001b[0;34m*\u001b[0m\u001b[0margs\u001b[0m\u001b[0;34m,\u001b[0m \u001b[0;34m**\u001b[0m\u001b[0mkwargs\u001b[0m\u001b[0;34m)\u001b[0m  \u001b[0;31m# type: ignore[misc]\u001b[0m\u001b[0;34m\u001b[0m\u001b[0;34m\u001b[0m\u001b[0m\n\u001b[1;32m   1735\u001b[0m         \u001b[0;32melse\u001b[0m\u001b[0;34m:\u001b[0m\u001b[0;34m\u001b[0m\u001b[0;34m\u001b[0m\u001b[0m\n\u001b[0;32m-> 1736\u001b[0;31m             \u001b[0;32mreturn\u001b[0m \u001b[0mself\u001b[0m\u001b[0;34m.\u001b[0m\u001b[0m_call_impl\u001b[0m\u001b[0;34m(\u001b[0m\u001b[0;34m*\u001b[0m\u001b[0margs\u001b[0m\u001b[0;34m,\u001b[0m \u001b[0;34m**\u001b[0m\u001b[0mkwargs\u001b[0m\u001b[0;34m)\u001b[0m\u001b[0;34m\u001b[0m\u001b[0;34m\u001b[0m\u001b[0m\n\u001b[0m\u001b[1;32m   1737\u001b[0m \u001b[0;34m\u001b[0m\u001b[0m\n\u001b[1;32m   1738\u001b[0m     \u001b[0;31m# torchrec tests the code consistency with the following code\u001b[0m\u001b[0;34m\u001b[0m\u001b[0;34m\u001b[0m\u001b[0m\n",
            "\u001b[0;32m/usr/local/lib/python3.10/dist-packages/torch/nn/modules/module.py\u001b[0m in \u001b[0;36m_call_impl\u001b[0;34m(self, *args, **kwargs)\u001b[0m\n\u001b[1;32m   1745\u001b[0m                 \u001b[0;32mor\u001b[0m \u001b[0m_global_backward_pre_hooks\u001b[0m \u001b[0;32mor\u001b[0m \u001b[0m_global_backward_hooks\u001b[0m\u001b[0;34m\u001b[0m\u001b[0;34m\u001b[0m\u001b[0m\n\u001b[1;32m   1746\u001b[0m                 or _global_forward_hooks or _global_forward_pre_hooks):\n\u001b[0;32m-> 1747\u001b[0;31m             \u001b[0;32mreturn\u001b[0m \u001b[0mforward_call\u001b[0m\u001b[0;34m(\u001b[0m\u001b[0;34m*\u001b[0m\u001b[0margs\u001b[0m\u001b[0;34m,\u001b[0m \u001b[0;34m**\u001b[0m\u001b[0mkwargs\u001b[0m\u001b[0;34m)\u001b[0m\u001b[0;34m\u001b[0m\u001b[0;34m\u001b[0m\u001b[0m\n\u001b[0m\u001b[1;32m   1748\u001b[0m \u001b[0;34m\u001b[0m\u001b[0m\n\u001b[1;32m   1749\u001b[0m         \u001b[0mresult\u001b[0m \u001b[0;34m=\u001b[0m \u001b[0;32mNone\u001b[0m\u001b[0;34m\u001b[0m\u001b[0;34m\u001b[0m\u001b[0m\n",
            "\u001b[0;32m<ipython-input-83-f8695c26ba5a>\u001b[0m in \u001b[0;36mforward\u001b[0;34m(self, query, key, value)\u001b[0m\n\u001b[1;32m     50\u001b[0m \u001b[0;34m\u001b[0m\u001b[0m\n\u001b[1;32m     51\u001b[0m         \u001b[0;31m# combine and redistribute with a final layer\u001b[0m\u001b[0;34m\u001b[0m\u001b[0;34m\u001b[0m\u001b[0m\n\u001b[0;32m---> 52\u001b[0;31m         \u001b[0moutput\u001b[0m \u001b[0;34m=\u001b[0m \u001b[0mself\u001b[0m\u001b[0;34m.\u001b[0m\u001b[0mfinal_linear\u001b[0m\u001b[0;34m(\u001b[0m\u001b[0mattn_output\u001b[0m\u001b[0;34m)\u001b[0m\u001b[0;34m\u001b[0m\u001b[0;34m\u001b[0m\u001b[0m\n\u001b[0m\u001b[1;32m     53\u001b[0m \u001b[0;34m\u001b[0m\u001b[0m\n\u001b[1;32m     54\u001b[0m         \u001b[0;32mreturn\u001b[0m \u001b[0moutput\u001b[0m\u001b[0;34m\u001b[0m\u001b[0;34m\u001b[0m\u001b[0m\n",
            "\u001b[0;32m/usr/local/lib/python3.10/dist-packages/torch/nn/modules/module.py\u001b[0m in \u001b[0;36m_wrapped_call_impl\u001b[0;34m(self, *args, **kwargs)\u001b[0m\n\u001b[1;32m   1734\u001b[0m             \u001b[0;32mreturn\u001b[0m \u001b[0mself\u001b[0m\u001b[0;34m.\u001b[0m\u001b[0m_compiled_call_impl\u001b[0m\u001b[0;34m(\u001b[0m\u001b[0;34m*\u001b[0m\u001b[0margs\u001b[0m\u001b[0;34m,\u001b[0m \u001b[0;34m**\u001b[0m\u001b[0mkwargs\u001b[0m\u001b[0;34m)\u001b[0m  \u001b[0;31m# type: ignore[misc]\u001b[0m\u001b[0;34m\u001b[0m\u001b[0;34m\u001b[0m\u001b[0m\n\u001b[1;32m   1735\u001b[0m         \u001b[0;32melse\u001b[0m\u001b[0;34m:\u001b[0m\u001b[0;34m\u001b[0m\u001b[0;34m\u001b[0m\u001b[0m\n\u001b[0;32m-> 1736\u001b[0;31m             \u001b[0;32mreturn\u001b[0m \u001b[0mself\u001b[0m\u001b[0;34m.\u001b[0m\u001b[0m_call_impl\u001b[0m\u001b[0;34m(\u001b[0m\u001b[0;34m*\u001b[0m\u001b[0margs\u001b[0m\u001b[0;34m,\u001b[0m \u001b[0;34m**\u001b[0m\u001b[0mkwargs\u001b[0m\u001b[0;34m)\u001b[0m\u001b[0;34m\u001b[0m\u001b[0;34m\u001b[0m\u001b[0m\n\u001b[0m\u001b[1;32m   1737\u001b[0m \u001b[0;34m\u001b[0m\u001b[0m\n\u001b[1;32m   1738\u001b[0m     \u001b[0;31m# torchrec tests the code consistency with the following code\u001b[0m\u001b[0;34m\u001b[0m\u001b[0;34m\u001b[0m\u001b[0m\n",
            "\u001b[0;32m/usr/local/lib/python3.10/dist-packages/torch/nn/modules/module.py\u001b[0m in \u001b[0;36m_call_impl\u001b[0;34m(self, *args, **kwargs)\u001b[0m\n\u001b[1;32m   1745\u001b[0m                 \u001b[0;32mor\u001b[0m \u001b[0m_global_backward_pre_hooks\u001b[0m \u001b[0;32mor\u001b[0m \u001b[0m_global_backward_hooks\u001b[0m\u001b[0;34m\u001b[0m\u001b[0;34m\u001b[0m\u001b[0m\n\u001b[1;32m   1746\u001b[0m                 or _global_forward_hooks or _global_forward_pre_hooks):\n\u001b[0;32m-> 1747\u001b[0;31m             \u001b[0;32mreturn\u001b[0m \u001b[0mforward_call\u001b[0m\u001b[0;34m(\u001b[0m\u001b[0;34m*\u001b[0m\u001b[0margs\u001b[0m\u001b[0;34m,\u001b[0m \u001b[0;34m**\u001b[0m\u001b[0mkwargs\u001b[0m\u001b[0;34m)\u001b[0m\u001b[0;34m\u001b[0m\u001b[0;34m\u001b[0m\u001b[0m\n\u001b[0m\u001b[1;32m   1748\u001b[0m \u001b[0;34m\u001b[0m\u001b[0m\n\u001b[1;32m   1749\u001b[0m         \u001b[0mresult\u001b[0m \u001b[0;34m=\u001b[0m \u001b[0;32mNone\u001b[0m\u001b[0;34m\u001b[0m\u001b[0;34m\u001b[0m\u001b[0m\n",
            "\u001b[0;32m/usr/local/lib/python3.10/dist-packages/torch/nn/modules/linear.py\u001b[0m in \u001b[0;36mforward\u001b[0;34m(self, input)\u001b[0m\n\u001b[1;32m    123\u001b[0m \u001b[0;34m\u001b[0m\u001b[0m\n\u001b[1;32m    124\u001b[0m     \u001b[0;32mdef\u001b[0m \u001b[0mforward\u001b[0m\u001b[0;34m(\u001b[0m\u001b[0mself\u001b[0m\u001b[0;34m,\u001b[0m \u001b[0minput\u001b[0m\u001b[0;34m:\u001b[0m \u001b[0mTensor\u001b[0m\u001b[0;34m)\u001b[0m \u001b[0;34m->\u001b[0m \u001b[0mTensor\u001b[0m\u001b[0;34m:\u001b[0m\u001b[0;34m\u001b[0m\u001b[0;34m\u001b[0m\u001b[0m\n\u001b[0;32m--> 125\u001b[0;31m         \u001b[0;32mreturn\u001b[0m \u001b[0mF\u001b[0m\u001b[0;34m.\u001b[0m\u001b[0mlinear\u001b[0m\u001b[0;34m(\u001b[0m\u001b[0minput\u001b[0m\u001b[0;34m,\u001b[0m \u001b[0mself\u001b[0m\u001b[0;34m.\u001b[0m\u001b[0mweight\u001b[0m\u001b[0;34m,\u001b[0m \u001b[0mself\u001b[0m\u001b[0;34m.\u001b[0m\u001b[0mbias\u001b[0m\u001b[0;34m)\u001b[0m\u001b[0;34m\u001b[0m\u001b[0;34m\u001b[0m\u001b[0m\n\u001b[0m\u001b[1;32m    126\u001b[0m \u001b[0;34m\u001b[0m\u001b[0m\n\u001b[1;32m    127\u001b[0m     \u001b[0;32mdef\u001b[0m \u001b[0mextra_repr\u001b[0m\u001b[0;34m(\u001b[0m\u001b[0mself\u001b[0m\u001b[0;34m)\u001b[0m \u001b[0;34m->\u001b[0m \u001b[0mstr\u001b[0m\u001b[0;34m:\u001b[0m\u001b[0;34m\u001b[0m\u001b[0;34m\u001b[0m\u001b[0m\n",
            "\u001b[0;31mRuntimeError\u001b[0m: mat1 and mat2 shapes cannot be multiplied (50x256 and 300x300)"
          ]
        }
      ]
    },
    {
      "cell_type": "code",
      "source": [
        "mock_user_histories.view(5, 10)"
      ],
      "metadata": {
        "id": "qSzgYgmXkWYZ",
        "outputId": "e55d9e01-b659-4fac-bf18-4ac4494f138a",
        "colab": {
          "base_uri": "https://localhost:8080/"
        }
      },
      "execution_count": 82,
      "outputs": [
        {
          "output_type": "execute_result",
          "data": {
            "text/plain": [
              "tensor([[66, 61, 57,  7, 25, 96, 61, 21, 60, 97],\n",
              "        [53, 40, 14, 50, 84, 63, 43, 29, 93, 78],\n",
              "        [45, 61, 64, 45, 21, 17, 91, 34, 20, 97],\n",
              "        [55, 44, 87, 37, 88, 29,  2, 75,  4, 33],\n",
              "        [24, 83, 41, 65, 80, 19, 28, 87, 63, 64]])"
            ]
          },
          "metadata": {},
          "execution_count": 82
        }
      ]
    },
    {
      "cell_type": "code",
      "source": [
        "# Example hyperparameters\n",
        "vocab_size = 100\n",
        "embedding_dim = 300\n",
        "num_heads = 4\n",
        "dropout_rate = 0.1\n",
        "\n",
        "# Instantiate the TitleEncoder\n",
        "title_encoder = TitleEncoder(vocab_size, embedding_dim, num_heads, dropout_rate)\n",
        "\n",
        "# Move the model to GPU if available\n",
        "device = torch.device('cuda' if torch.cuda.is_available() else 'cpu')\n",
        "title_encoder = title_encoder.to(device)\n",
        "\n",
        "# Move the mock input to the same device\n",
        "mock_titles = mock_titles.to(device)"
      ],
      "metadata": {
        "id": "fjKXYUMEVIXv"
      },
      "execution_count": 56,
      "outputs": []
    },
    {
      "cell_type": "code",
      "execution_count": 23,
      "metadata": {
        "id": "Y_8BpxjG583x"
      },
      "outputs": [],
      "source": [
        "''' from sklearn.metrics import accuracy_score\n",
        "\n",
        "def train_model(model, train_loader, val_loader, optimizer, criterion, epochs=EPOCHS):\n",
        "\n",
        "    for epoch in range(epochs):\n",
        "        # Training Loop\n",
        "        model.train()\n",
        "        total_train_loss = 0\n",
        "        for batch in train_loader:\n",
        "            user_histories, candidates, labels = [x.to(device) for x in batch]\n",
        "\n",
        "            optimizer.zero_grad()\n",
        "            outputs = model(candidates, user_histories)  # Pass inputs to model\n",
        "\n",
        "            # Compute loss and update weights\n",
        "            loss = criterion(outputs, labels)\n",
        "            loss.backward()\n",
        "            optimizer.step()\n",
        "            total_train_loss += loss.item()\n",
        "\n",
        "        # Validation Loop\n",
        "        model.eval()\n",
        "        total_val_loss = 0\n",
        "        all_preds, all_labels = [], []\n",
        "\n",
        "        with torch.no_grad():\n",
        "            for batch in val_loader:\n",
        "                user_histories, candidates, labels = [x.to(device) for x in batch]\n",
        "                outputs = model(candidates, user_histories)\n",
        "                loss = criterion(outputs, labels)\n",
        "                total_val_loss += loss.item()\n",
        "\n",
        "                # Predictions and metrics\n",
        "                _, preds = torch.max(outputs, dim=1)  # Get predicted class\n",
        "                all_preds.extend(preds.cpu().tolist())  # Move predictions to CPU before converting to list\n",
        "                all_labels.extend(labels.cpu().tolist())  # Move labels to CPU before converting to list\n",
        "\n",
        "        # Metrics\n",
        "        accuracy = accuracy_score(all_labels, all_preds)\n",
        "\n",
        "        # Logging\n",
        "        print(f\"Epoch {epoch + 1}/{epochs}\")\n",
        "        print(f\"  Train Loss: {total_train_loss:.4f}\")\n",
        "        print(f\"  Val Loss: {total_val_loss:.4f}\")\n",
        "        print(f\"  Val Accuracy: {accuracy:.4f}\")\n",
        " '''"
      ]
    },
    {
      "cell_type": "code",
      "execution_count": 42,
      "metadata": {
        "id": "HGdVTz5l583x"
      },
      "outputs": [],
      "source": [
        "def train_model(model, train_loader, val_loader, optimizer, criterion, epochs=EPOCHS):\n",
        "    for epoch in range(epochs):\n",
        "        model.train()\n",
        "        total_train_loss = 0\n",
        "\n",
        "        for batch in train_loader:\n",
        "            user_histories, candidates, labels = [x.to(device) for x in batch]\n",
        "\n",
        "            print(f\"User histories shape before model: {user_histories.shape}\")\n",
        "\n",
        "            optimizer.zero_grad()\n",
        "            outputs = model(candidates, user_histories)  # Pass inputs to model\n",
        "\n",
        "            print(f\"Candidates shape: {candidates.shape}\")\n",
        "            print(f\"User histories shape: {user_histories.shape}\")\n",
        "\n",
        "\n",
        "            print(f\"Outputs shape: {outputs.shape}\")\n",
        "            print(f\"Labels shape: {labels.shape}\")\n",
        "\n",
        "\n",
        "            # Compute loss and update weights\n",
        "            loss = criterion(outputs, labels)\n",
        "            loss.backward()\n",
        "            optimizer.step()\n",
        "            total_train_loss += loss.item()\n",
        "\n",
        "        print(f\"Epoch {epoch + 1}, Loss: {total_train_loss:.4f}\")"
      ]
    },
    {
      "cell_type": "code",
      "execution_count": 43,
      "metadata": {
        "id": "nO0Ys2P-583y",
        "outputId": "9e145e2f-e384-43b9-d5ce-ce22c2b33601",
        "colab": {
          "base_uri": "https://localhost:8080/",
          "height": 382
        }
      },
      "outputs": [
        {
          "output_type": "stream",
          "name": "stdout",
          "text": [
            "User histories shape before model: torch.Size([64, 50])\n"
          ]
        },
        {
          "output_type": "error",
          "ename": "ValueError",
          "evalue": "not enough values to unpack (expected 3, got 2)",
          "traceback": [
            "\u001b[0;31m---------------------------------------------------------------------------\u001b[0m",
            "\u001b[0;31mValueError\u001b[0m                                Traceback (most recent call last)",
            "\u001b[0;32m<ipython-input-43-41a59e87adf6>\u001b[0m in \u001b[0;36m<cell line: 15>\u001b[0;34m()\u001b[0m\n\u001b[1;32m     13\u001b[0m \u001b[0;34m\u001b[0m\u001b[0m\n\u001b[1;32m     14\u001b[0m \u001b[0;31m# Train the model\u001b[0m\u001b[0;34m\u001b[0m\u001b[0;34m\u001b[0m\u001b[0m\n\u001b[0;32m---> 15\u001b[0;31m train_model(\n\u001b[0m\u001b[1;32m     16\u001b[0m     \u001b[0mmodel\u001b[0m\u001b[0;34m=\u001b[0m\u001b[0mmodel\u001b[0m\u001b[0;34m,\u001b[0m\u001b[0;34m\u001b[0m\u001b[0;34m\u001b[0m\u001b[0m\n\u001b[1;32m     17\u001b[0m     \u001b[0mtrain_loader\u001b[0m\u001b[0;34m=\u001b[0m\u001b[0mtrain_loader\u001b[0m\u001b[0;34m,\u001b[0m\u001b[0;34m\u001b[0m\u001b[0;34m\u001b[0m\u001b[0m\n",
            "\u001b[0;32m<ipython-input-42-7f480c96f845>\u001b[0m in \u001b[0;36mtrain_model\u001b[0;34m(model, train_loader, val_loader, optimizer, criterion, epochs)\u001b[0m\n\u001b[1;32m     10\u001b[0m \u001b[0;34m\u001b[0m\u001b[0m\n\u001b[1;32m     11\u001b[0m             \u001b[0moptimizer\u001b[0m\u001b[0;34m.\u001b[0m\u001b[0mzero_grad\u001b[0m\u001b[0;34m(\u001b[0m\u001b[0;34m)\u001b[0m\u001b[0;34m\u001b[0m\u001b[0;34m\u001b[0m\u001b[0m\n\u001b[0;32m---> 12\u001b[0;31m             \u001b[0moutputs\u001b[0m \u001b[0;34m=\u001b[0m \u001b[0mmodel\u001b[0m\u001b[0;34m(\u001b[0m\u001b[0mcandidates\u001b[0m\u001b[0;34m,\u001b[0m \u001b[0muser_histories\u001b[0m\u001b[0;34m)\u001b[0m  \u001b[0;31m# Pass inputs to model\u001b[0m\u001b[0;34m\u001b[0m\u001b[0;34m\u001b[0m\u001b[0m\n\u001b[0m\u001b[1;32m     13\u001b[0m \u001b[0;34m\u001b[0m\u001b[0m\n\u001b[1;32m     14\u001b[0m             \u001b[0mprint\u001b[0m\u001b[0;34m(\u001b[0m\u001b[0;34mf\"Candidates shape: {candidates.shape}\"\u001b[0m\u001b[0;34m)\u001b[0m\u001b[0;34m\u001b[0m\u001b[0;34m\u001b[0m\u001b[0m\n",
            "\u001b[0;32m/usr/local/lib/python3.10/dist-packages/torch/nn/modules/module.py\u001b[0m in \u001b[0;36m_wrapped_call_impl\u001b[0;34m(self, *args, **kwargs)\u001b[0m\n\u001b[1;32m   1734\u001b[0m             \u001b[0;32mreturn\u001b[0m \u001b[0mself\u001b[0m\u001b[0;34m.\u001b[0m\u001b[0m_compiled_call_impl\u001b[0m\u001b[0;34m(\u001b[0m\u001b[0;34m*\u001b[0m\u001b[0margs\u001b[0m\u001b[0;34m,\u001b[0m \u001b[0;34m**\u001b[0m\u001b[0mkwargs\u001b[0m\u001b[0;34m)\u001b[0m  \u001b[0;31m# type: ignore[misc]\u001b[0m\u001b[0;34m\u001b[0m\u001b[0;34m\u001b[0m\u001b[0m\n\u001b[1;32m   1735\u001b[0m         \u001b[0;32melse\u001b[0m\u001b[0;34m:\u001b[0m\u001b[0;34m\u001b[0m\u001b[0;34m\u001b[0m\u001b[0m\n\u001b[0;32m-> 1736\u001b[0;31m             \u001b[0;32mreturn\u001b[0m \u001b[0mself\u001b[0m\u001b[0;34m.\u001b[0m\u001b[0m_call_impl\u001b[0m\u001b[0;34m(\u001b[0m\u001b[0;34m*\u001b[0m\u001b[0margs\u001b[0m\u001b[0;34m,\u001b[0m \u001b[0;34m**\u001b[0m\u001b[0mkwargs\u001b[0m\u001b[0;34m)\u001b[0m\u001b[0;34m\u001b[0m\u001b[0;34m\u001b[0m\u001b[0m\n\u001b[0m\u001b[1;32m   1737\u001b[0m \u001b[0;34m\u001b[0m\u001b[0m\n\u001b[1;32m   1738\u001b[0m     \u001b[0;31m# torchrec tests the code consistency with the following code\u001b[0m\u001b[0;34m\u001b[0m\u001b[0;34m\u001b[0m\u001b[0m\n",
            "\u001b[0;32m/usr/local/lib/python3.10/dist-packages/torch/nn/modules/module.py\u001b[0m in \u001b[0;36m_call_impl\u001b[0;34m(self, *args, **kwargs)\u001b[0m\n\u001b[1;32m   1745\u001b[0m                 \u001b[0;32mor\u001b[0m \u001b[0m_global_backward_pre_hooks\u001b[0m \u001b[0;32mor\u001b[0m \u001b[0m_global_backward_hooks\u001b[0m\u001b[0;34m\u001b[0m\u001b[0;34m\u001b[0m\u001b[0m\n\u001b[1;32m   1746\u001b[0m                 or _global_forward_hooks or _global_forward_pre_hooks):\n\u001b[0;32m-> 1747\u001b[0;31m             \u001b[0;32mreturn\u001b[0m \u001b[0mforward_call\u001b[0m\u001b[0;34m(\u001b[0m\u001b[0;34m*\u001b[0m\u001b[0margs\u001b[0m\u001b[0;34m,\u001b[0m \u001b[0;34m**\u001b[0m\u001b[0mkwargs\u001b[0m\u001b[0;34m)\u001b[0m\u001b[0;34m\u001b[0m\u001b[0;34m\u001b[0m\u001b[0m\n\u001b[0m\u001b[1;32m   1748\u001b[0m \u001b[0;34m\u001b[0m\u001b[0m\n\u001b[1;32m   1749\u001b[0m         \u001b[0mresult\u001b[0m \u001b[0;34m=\u001b[0m \u001b[0;32mNone\u001b[0m\u001b[0;34m\u001b[0m\u001b[0;34m\u001b[0m\u001b[0m\n",
            "\u001b[0;32m<ipython-input-41-313dae6b712b>\u001b[0m in \u001b[0;36mforward\u001b[0;34m(self, candidate_titles, user_histories)\u001b[0m\n\u001b[1;32m     82\u001b[0m \u001b[0;34m\u001b[0m\u001b[0m\n\u001b[1;32m     83\u001b[0m         \u001b[0;31m# Encode user history (sequence of news embeddings)\u001b[0m\u001b[0;34m\u001b[0m\u001b[0;34m\u001b[0m\u001b[0m\n\u001b[0;32m---> 84\u001b[0;31m         \u001b[0mbatch_size\u001b[0m\u001b[0;34m,\u001b[0m \u001b[0mnum_articles\u001b[0m\u001b[0;34m,\u001b[0m \u001b[0mtitle_length\u001b[0m \u001b[0;34m=\u001b[0m \u001b[0muser_histories\u001b[0m\u001b[0;34m.\u001b[0m\u001b[0msize\u001b[0m\u001b[0;34m(\u001b[0m\u001b[0;34m)\u001b[0m\u001b[0;34m\u001b[0m\u001b[0;34m\u001b[0m\u001b[0m\n\u001b[0m\u001b[1;32m     85\u001b[0m         \u001b[0muser_histories\u001b[0m \u001b[0;34m=\u001b[0m \u001b[0muser_histories\u001b[0m\u001b[0;34m.\u001b[0m\u001b[0mview\u001b[0m\u001b[0;34m(\u001b[0m\u001b[0mbatch_size\u001b[0m \u001b[0;34m*\u001b[0m \u001b[0mnum_articles\u001b[0m\u001b[0;34m,\u001b[0m \u001b[0mtitle_length\u001b[0m\u001b[0;34m)\u001b[0m  \u001b[0;31m# Flatten for processing\u001b[0m\u001b[0;34m\u001b[0m\u001b[0;34m\u001b[0m\u001b[0m\n\u001b[1;32m     86\u001b[0m         \u001b[0muser_histories_encoded\u001b[0m \u001b[0;34m=\u001b[0m \u001b[0mself\u001b[0m\u001b[0;34m.\u001b[0m\u001b[0mnews_encoder\u001b[0m\u001b[0;34m(\u001b[0m\u001b[0muser_histories\u001b[0m\u001b[0;34m)\u001b[0m  \u001b[0;31m# Encode all titles at once\u001b[0m\u001b[0;34m\u001b[0m\u001b[0;34m\u001b[0m\u001b[0m\n",
            "\u001b[0;31mValueError\u001b[0m: not enough values to unpack (expected 3, got 2)"
          ]
        }
      ],
      "source": [
        "device = torch.device('cuda' if torch.cuda.is_available() else 'cpu')\n",
        "\n",
        "model = NRMS(\n",
        "    vocab_size=VOCAB_SIZE,\n",
        "    embedding_dim=EMBEDDING_DIM,\n",
        "    num_heads=NUM_HEADS,\n",
        "    head_dim=HEAD_SIZE,\n",
        "    dropout_rate=DROPOUT_RATE\n",
        ").to(device)\n",
        "\n",
        "optimizer = optim.Adam(model.parameters(), lr=1e-3)\n",
        "criterion = nn.CrossEntropyLoss()\n",
        "\n",
        "# Train the model\n",
        "train_model(\n",
        "    model=model,\n",
        "    train_loader=train_loader,\n",
        "    val_loader=val_loader,\n",
        "    optimizer=optimizer,\n",
        "    criterion=criterion,\n",
        "    epochs=5\n",
        ")"
      ]
    },
    {
      "cell_type": "code",
      "execution_count": null,
      "metadata": {
        "id": "s_5yu6Kn583y"
      },
      "outputs": [],
      "source": [
        "model_path = '/content/drive/MyDrive/DTU/Kandidat/Semester 9/Deep learning/Final project/nrms_model.pth'\n",
        "torch.save(model.state_dict(), model_path)\n"
      ]
    }
  ],
  "metadata": {
    "kernelspec": {
      "display_name": "Python 3",
      "name": "python3"
    },
    "language_info": {
      "codemirror_mode": {
        "name": "ipython",
        "version": 3
      },
      "file_extension": ".py",
      "mimetype": "text/x-python",
      "name": "python",
      "nbconvert_exporter": "python",
      "pygments_lexer": "ipython3",
      "version": "3.9.6"
    },
    "colab": {
      "provenance": [],
      "gpuType": "T4"
    },
    "accelerator": "GPU"
  },
  "nbformat": 4,
  "nbformat_minor": 0
}