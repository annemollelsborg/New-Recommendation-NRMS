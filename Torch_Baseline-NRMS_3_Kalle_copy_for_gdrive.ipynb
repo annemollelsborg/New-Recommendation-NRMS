{
  "cells": [
    {
      "cell_type": "code",
      "execution_count": 1,
      "metadata": {
        "id": "lYKGc7Py583k"
      },
      "outputs": [],
      "source": [
        "import torch\n",
        "import torch.nn as nn\n",
        "import torch.optim as optim\n",
        "import torch.nn.functional as F\n",
        "from torch.utils.data import DataLoader, Dataset\n",
        "import pandas as pd\n",
        "import numpy as np\n",
        "from collections import defaultdict\n",
        "from google.colab import drive\n",
        "\n",
        "# Constants\n",
        "MAX_SENT_LENGTH = 30\n",
        "MAX_SENTS = 50\n",
        "EMBEDDING_DIM = 300\n",
        "NUM_HEADS = 16\n",
        "HEAD_SIZE = 16\n",
        "DROPOUT_RATE = 0.2\n",
        "NPRATIO = 4  # Number of negative samples per positive\n",
        "BATCH_SIZE = 64\n",
        "EPOCHS = 5\n"
      ]
    },
    {
      "cell_type": "code",
      "source": [
        "drive.mount('/content/drive')"
      ],
      "metadata": {
        "id": "uOLDthQr5_kZ",
        "outputId": "51bcaac3-8cdf-47ac-c9e6-2470e0419f20",
        "colab": {
          "base_uri": "https://localhost:8080/"
        }
      },
      "execution_count": 2,
      "outputs": [
        {
          "output_type": "stream",
          "name": "stdout",
          "text": [
            "Mounted at /content/drive\n"
          ]
        }
      ]
    },
    {
      "cell_type": "code",
      "source": [
        "import torch\n",
        "print(torch.cuda.is_available())\n",
        "print(torch.cuda.get_device_name(0))"
      ],
      "metadata": {
        "id": "S_3ashud9UKX",
        "outputId": "09bb3fdb-b516-4dc0-e528-5f8c83c2d68d",
        "colab": {
          "base_uri": "https://localhost:8080/"
        }
      },
      "execution_count": 3,
      "outputs": [
        {
          "output_type": "stream",
          "name": "stdout",
          "text": [
            "True\n",
            "Tesla T4\n"
          ]
        }
      ]
    },
    {
      "cell_type": "code",
      "source": [
        "articles_path = '/content/drive/MyDrive/DTU/Kandidat/Semester 9/Deep learning/Final project/Data/articles.csv'\n",
        "behaviors_train_path = '/content/drive/MyDrive/DTU/Kandidat/Semester 9/Deep learning/Final project/Data/behaviors_train.csv'\n",
        "behaviors_val_path = '/content/drive/MyDrive/DTU/Kandidat/Semester 9/Deep learning/Final project/Data/behaviors_val.csv'\n",
        "history_train_path = '/content/drive/MyDrive/DTU/Kandidat/Semester 9/Deep learning/Final project/Data/history_train.csv'\n",
        "history_val_path = '/content/drive/MyDrive/DTU/Kandidat/Semester 9/Deep learning/Final project/Data/history_val.csv'"
      ],
      "metadata": {
        "id": "3axavoJa8PoS"
      },
      "execution_count": 4,
      "outputs": []
    },
    {
      "cell_type": "code",
      "execution_count": 5,
      "metadata": {
        "id": "gUn_UulZ583m"
      },
      "outputs": [],
      "source": [
        "# Load Datasets\n",
        "articles = pd.read_csv(articles_path)\n",
        "behaviors_train = pd.read_csv(behaviors_train_path)\n",
        "behaviors_val = pd.read_csv(behaviors_val_path)\n",
        "history_train = pd.read_csv(history_train_path)\n",
        "history_val = pd.read_csv(history_val_path)"
      ]
    },
    {
      "cell_type": "code",
      "execution_count": 6,
      "metadata": {
        "id": "QBuD8vvJ583m"
      },
      "outputs": [],
      "source": [
        "def build_vocab_and_tokenize(titles, max_len=MAX_SENT_LENGTH):\n",
        "    \"\"\"\n",
        "    Builds a vocabulary and tokenizes article titles.\n",
        "\n",
        "    Args:\n",
        "        titles (list of str): List of article titles to tokenize.\n",
        "        max_len (int): Maximum length for tokenized titles (truncation/padding length).\n",
        "\n",
        "    Returns:\n",
        "        tokenized_titles (list of list of int): Tokenized and padded titles.\n",
        "        vocab (dict): A dictionary mapping tokens to unique integer indices.\n",
        "        vocab_size (int): Size of the vocabulary.\n",
        "    \"\"\"\n",
        "    vocab = defaultdict(lambda: len(vocab))  # Default dictionary for token ids\n",
        "    vocab[\"<PAD>\"] = 0  # Padding token\n",
        "    vocab[\"<UNK>\"] = 1  # Unknown token\n",
        "\n",
        "    tokenized_titles = []\n",
        "    for title in titles:\n",
        "        tokens = title.lower().split()[:max_len]  # Simple whitespace tokenizer\n",
        "        tokenized = [vocab[token] for token in tokens]\n",
        "        padded = pad_sequence_to_length(tokenized, max_len, pad_value=vocab[\"<PAD>\"])\n",
        "        tokenized_titles.append(padded)\n",
        "\n",
        "    # Freeze the vocabulary after processing to get accurate vocab size\n",
        "    vocab = dict(vocab)  # Convert to a regular dict to freeze it\n",
        "    vocab_size = len(vocab)\n",
        "\n",
        "    return tokenized_titles, vocab, vocab_size\n",
        "\n",
        "def pad_sequence_to_length(sequence, target_length, pad_value=0):\n",
        "    \"\"\"\n",
        "    Pads or truncates a sequence to the specified target length.\n",
        "\n",
        "    Args:\n",
        "        sequence (list of int): Input sequence to pad or truncate.\n",
        "        target_length (int): Desired length of the sequence.\n",
        "        pad_value (int): Value to use for padding shorter sequences.\n",
        "\n",
        "    Returns:\n",
        "        list of int: Padded or truncated sequence.\n",
        "    \"\"\"\n",
        "    if len(sequence) >= target_length:\n",
        "        return sequence[:target_length]\n",
        "    else:\n",
        "        return sequence + [pad_value] * (target_length - len(sequence))"
      ]
    },
    {
      "cell_type": "code",
      "execution_count": 7,
      "metadata": {
        "id": "tCtmsNac583o"
      },
      "outputs": [],
      "source": [
        "# Tokenize titles and build vocabulary\n",
        "articles[\"tokenized_title\"], vocab, VOCAB_SIZE = build_vocab_and_tokenize(\n",
        "    articles[\"title\"].fillna(\"<UNK>\"),\n",
        "    max_len=MAX_SENT_LENGTH\n",
        ")"
      ]
    },
    {
      "cell_type": "code",
      "execution_count": 8,
      "metadata": {
        "id": "suYEokoT583p"
      },
      "outputs": [],
      "source": [
        "article_to_tokens = {row['article_id']: row['tokenized_title'] for _, row in articles.iterrows()}\n",
        "\n",
        "article_to_idx = {article_id: idx for idx, article_id in enumerate(articles['article_id'].unique(), start=2)}\n",
        "article_to_idx[0] = 0  # Reserved for <PAD>\n",
        "article_to_idx[1] = 1  # Reserved for <UNK>\n",
        "\n",
        "article_embedding_size = len(article_to_idx) + 1"
      ]
    },
    {
      "cell_type": "code",
      "execution_count": 9,
      "metadata": {
        "id": "IHyEQRye583t",
        "outputId": "e8f13df9-678d-4a59-d138-351af9aaec58",
        "colab": {
          "base_uri": "https://localhost:8080/"
        }
      },
      "outputs": [
        {
          "output_type": "stream",
          "name": "stderr",
          "text": [
            "WARNING:root:Malformed article_ids found: '[9738366 9737535 9738173 ... 9766140 9766140 9766140]'. Skipping.\n",
            "WARNING:root:Malformed article_ids found: '[9737083 9737083 9738216 ... 9770037 9769994 9768321]'. Skipping.\n"
          ]
        },
        {
          "output_type": "stream",
          "name": "stdout",
          "text": [
            "train: Skipped 2 rows out of 1590 (0.13%).\n",
            "train: Saved 2 problematic rows to 'invalid_article_ids_train.csv'.\n",
            "train: Remaining rows after cleaning: 1588\n",
            "val: Skipped 0 rows out of 1562 (0.00%).\n",
            "val: Saved 0 problematic rows to 'invalid_article_ids_val.csv'.\n",
            "val: Remaining rows after cleaning: 1562\n"
          ]
        }
      ],
      "source": [
        "import logging\n",
        "\n",
        "# Setup logging (if not already configured in your project)\n",
        "logging.basicConfig(level=logging.INFO, format=\"%(asctime)s - %(levelname)s - %(message)s\")\n",
        "\n",
        "def clean_article_ids(article_ids):\n",
        "    \"\"\"\n",
        "    Cleans and parses article IDs from a string representation to a list of integers.\n",
        "\n",
        "    Args:\n",
        "        article_ids (str): String representation of article IDs (e.g., \"[1, 2, 3]\").\n",
        "\n",
        "    Returns:\n",
        "        list of int or None: List of parsed article IDs, or None if input is invalid.\n",
        "    \"\"\"\n",
        "    try:\n",
        "        # Check for invalid placeholders or empty strings\n",
        "        if not article_ids or \"...\" in article_ids:\n",
        "            logging.warning(f\"Malformed article_ids found: '{article_ids}'. Skipping.\")\n",
        "            return None\n",
        "\n",
        "        # Remove brackets and split on spaces or commas, then convert to integers\n",
        "        cleaned_ids = article_ids.strip(\"[]\").replace(\",\", \" \").split()\n",
        "        return list(map(int, cleaned_ids))\n",
        "    except Exception as e:\n",
        "        logging.error(f\"Failed to clean article_ids '{article_ids}' due to error: {e}\")\n",
        "        return None\n",
        "\n",
        "# Function to process a single dataset (train or val)\n",
        "def clean_and_report_history(history_df, dataset_name=\"dataset\"):\n",
        "    \"\"\"\n",
        "    Cleans article IDs in the user history dataset and reports cleaning statistics.\n",
        "\n",
        "    Args:\n",
        "        history_df (pd.DataFrame): Input dataset with article history to clean.\n",
        "        dataset_name (str): Name of the dataset (for logging and reporting).\n",
        "\n",
        "    Returns:\n",
        "        pd.DataFrame: Cleaned dataset with invalid rows removed.\n",
        "    \"\"\"\n",
        "    # Clean article IDs\n",
        "    history_df[\"cleaned_article_ids\"] = history_df[\"article_id_fixed\"].apply(clean_article_ids)\n",
        "\n",
        "    # Count skipped rows\n",
        "    skipped_rows = history_df[\"cleaned_article_ids\"].isna().sum()\n",
        "    total_rows = len(history_df)\n",
        "    print(f\"{dataset_name}: Skipped {skipped_rows} rows out of {total_rows} \"\n",
        "          f\"({skipped_rows / total_rows:.2%}).\")\n",
        "\n",
        "    # Save problematic rows\n",
        "    invalid_rows = history_df[history_df[\"cleaned_article_ids\"].isna()]\n",
        "    invalid_rows_file = f\"invalid_article_ids_{dataset_name}.csv\"\n",
        "    invalid_rows.to_csv(invalid_rows_file, index=False)\n",
        "    print(f\"{dataset_name}: Saved {len(invalid_rows)} problematic rows to '{invalid_rows_file}'.\")\n",
        "\n",
        "    # Drop invalid rows and reset index\n",
        "    cleaned_df = history_df.dropna(subset=[\"cleaned_article_ids\"]).reset_index(drop=True)\n",
        "    print(f\"{dataset_name}: Remaining rows after cleaning: {len(cleaned_df)}\")\n",
        "\n",
        "    return cleaned_df\n",
        "\n",
        "# Clean train and validation datasets\n",
        "history_train_cleaned = clean_and_report_history(history_train, dataset_name=\"train\")\n",
        "history_val_cleaned = clean_and_report_history(history_val, dataset_name=\"val\")\n",
        "\n",
        "\n",
        "def process_cleaned_user_history(cleaned_history_df):\n",
        "    user_histories = defaultdict(list)\n",
        "    for _, row in cleaned_history_df.iterrows():\n",
        "        user_id = row[\"user_id\"]\n",
        "        article_ids = row[\"cleaned_article_ids\"]\n",
        "        user_histories[user_id].extend(article_ids)\n",
        "    return user_histories\n",
        "\n",
        "user_history_train_cleaned = process_cleaned_user_history(history_train_cleaned)\n",
        "user_history_val_cleaned = process_cleaned_user_history(history_val_cleaned)"
      ]
    },
    {
      "cell_type": "code",
      "execution_count": 10,
      "metadata": {
        "id": "HKiNZlCn583u",
        "outputId": "d76dcd3a-e8d2-4f2a-8bc7-544d18942775",
        "colab": {
          "base_uri": "https://localhost:8080/"
        }
      },
      "outputs": [
        {
          "output_type": "stream",
          "name": "stdout",
          "text": [
            "Vocabulary Size: 18591\n",
            "Sample Tokens: ['<PAD>', '<UNK>', 'ishockey-spiller:', 'jeg', 'troede', 'skulle', 'dø', 'prins', 'harry', 'tvunget']\n"
          ]
        }
      ],
      "source": [
        "print(f\"Vocabulary Size: {VOCAB_SIZE}\")\n",
        "print(f\"Sample Tokens: {list(vocab.keys())[:10]}\")"
      ]
    },
    {
      "cell_type": "code",
      "execution_count": 11,
      "metadata": {
        "id": "i2GmK3b1583u",
        "outputId": "1a91cbeb-0789-48f3-858f-302b7426cbcf",
        "colab": {
          "base_uri": "https://localhost:8080/"
        }
      },
      "outputs": [
        {
          "output_type": "stream",
          "name": "stdout",
          "text": [
            "Vocabulary saved to /content/drive/MyDrive/DTU/Kandidat/Semester 9/Deep learning/Final project/Data/vocab.json\n"
          ]
        }
      ],
      "source": [
        "import json\n",
        "import os\n",
        "\n",
        "data_folder = \"/content/drive/MyDrive/DTU/Kandidat/Semester 9/Deep learning/Final project/Data\"\n",
        "vocab_file = os.path.join(data_folder, \"vocab.json\")\n",
        "\n",
        "os.makedirs(data_folder, exist_ok=True)\n",
        "\n",
        "# Save the vocabulary to a file\n",
        "with open(vocab_file, \"w\") as f:\n",
        "    json.dump(vocab, f)\n",
        "\n",
        "print(f\"Vocabulary saved to {vocab_file}\")"
      ]
    },
    {
      "cell_type": "code",
      "execution_count": 12,
      "metadata": {
        "id": "_G9h9iHY583v",
        "outputId": "e74ab855-d573-4e6c-fd41-3e69ebeed973",
        "colab": {
          "base_uri": "https://localhost:8080/"
        }
      },
      "outputs": [
        {
          "output_type": "execute_result",
          "data": {
            "text/plain": [
              "582"
            ]
          },
          "metadata": {},
          "execution_count": 12
        }
      ],
      "source": [
        "len(user_history_train_cleaned[13538])"
      ]
    },
    {
      "cell_type": "code",
      "execution_count": 13,
      "metadata": {
        "id": "537JfP7y583v"
      },
      "outputs": [],
      "source": [
        "from random import sample\n",
        "\n",
        "def create_samples(behaviors_df, user_history, npratio=NPRATIO, max_sents=MAX_SENTS, max_sent_length=MAX_SENT_LENGTH):\n",
        "    samples = []\n",
        "    labels = []\n",
        "    for _, row in behaviors_df.iterrows():\n",
        "        user_id = row[\"user_id\"]\n",
        "\n",
        "        clicked_articles = clean_article_ids(row['article_ids_clicked'])\n",
        "        inview_articles = clean_article_ids(row['article_ids_inview'])\n",
        "\n",
        "        if clicked_articles is None or inview_articles is None:\n",
        "            continue\n",
        "\n",
        "        clicked_articles = [article_to_idx.get(article_id, 1) for article_id in clicked_articles]  # Map or <UNK>\n",
        "        inview_articles = [article_to_idx.get(article_id, 1) for article_id in inview_articles]  # Map or <UNK>\n",
        "\n",
        "        # Prepare user history\n",
        "        user_hist = user_history.get(user_id, [])\n",
        "        user_hist = [article_to_idx.get(article_id, 1) for article_id in user_hist[:max_sents]]  # Map or <UNK>\n",
        "        user_hist += [0] * (max_sents - len(user_hist))  # Pad to max_sents\n",
        "\n",
        "        # Add positive samples\n",
        "        for article_idx in clicked_articles:\n",
        "            candidate = [article_idx] + [0] * (max_sent_length - 1)\n",
        "            samples.append((user_hist, candidate))\n",
        "            labels.append(1)\n",
        "\n",
        "        # Add negative samples\n",
        "        negative_articles = list(set(inview_articles) - set(clicked_articles))\n",
        "        for article_idx in negative_articles:\n",
        "            candidate = [article_idx] + [0] * (max_sent_length - 1)\n",
        "            samples.append((user_hist, candidate))\n",
        "            labels.append(0)\n",
        "\n",
        "    return samples, labels\n",
        "\n",
        "train_samples_cleaned, train_labels_cleaned = create_samples(\n",
        "    behaviors_train, user_history_train_cleaned, npratio=NPRATIO\n",
        "    )\n",
        "val_samples_cleaned, val_labels_cleaned = create_samples(\n",
        "    behaviors_val, user_history_val_cleaned, npratio=NPRATIO\n",
        "    )"
      ]
    },
    {
      "cell_type": "code",
      "execution_count": 14,
      "metadata": {
        "id": "9D7kuxOL583x"
      },
      "outputs": [],
      "source": [
        "\n",
        "# Step 4: Define PyTorch Dataset\n",
        "class NewsDataset(Dataset):\n",
        "    def __init__(self, samples, labels):\n",
        "        self.samples = samples\n",
        "        self.labels = labels\n",
        "\n",
        "    def __len__(self):\n",
        "        return len(self.labels)\n",
        "\n",
        "    def __getitem__(self, idx):\n",
        "        user_history, candidate = self.samples[idx]\n",
        "        return (\n",
        "            torch.tensor(user_history, dtype=torch.long),\n",
        "            torch.tensor(candidate, dtype=torch.long),\n",
        "            torch.tensor(self.labels[idx], dtype=torch.long),\n",
        "        )\n",
        "\n",
        "train_dataset = NewsDataset(train_samples_cleaned, train_labels_cleaned)\n",
        "val_dataset = NewsDataset(val_samples_cleaned, val_labels_cleaned)\n",
        "\n",
        "train_loader = DataLoader(train_dataset, batch_size=BATCH_SIZE, shuffle=True)\n",
        "val_loader = DataLoader(val_dataset, batch_size=BATCH_SIZE, shuffle=False)"
      ]
    },
    {
      "cell_type": "code",
      "execution_count": 15,
      "metadata": {
        "id": "IzPhZQu8583x"
      },
      "outputs": [],
      "source": [
        "# Step 5: Define the NRMS Model\n",
        "class MultiHeadSelfAttention(nn.Module):\n",
        "    def __init__(self, num_heads, head_size):\n",
        "        super().__init__()\n",
        "        self.num_heads = num_heads\n",
        "        self.head_size = head_size\n",
        "        self.output_dim = num_heads * head_size\n",
        "        self.qkv_linear = nn.Linear(EMBEDDING_DIM, self.output_dim * 3)\n",
        "        self.fc_out = nn.Linear(self.output_dim, EMBEDDING_DIM)\n",
        "\n",
        "    def forward(self, x):\n",
        "        if len(x.size()) != 3:\n",
        "            raise ValueError(f\"Expected input to be 3D (batch_size, seq_length, embed_dim), got {x.size()}\")\n",
        "        batch_size, seq_length, embed_dim = x.size()\n",
        "        qkv = self.qkv_linear(x).reshape(batch_size, seq_length, self.num_heads, 3 * self.head_size)\n",
        "        qkv = qkv.permute(2, 0, 1, 3)\n",
        "        Q, K, V = torch.chunk(qkv, 3, dim=-1)\n",
        "        scores = torch.matmul(Q, K.transpose(-2, -1)) / torch.sqrt(torch.tensor(self.head_size, dtype=torch.float32))\n",
        "        attention = F.softmax(scores, dim=-1)\n",
        "        weighted = torch.matmul(attention, V)\n",
        "        weighted = weighted.permute(1, 2, 0, 3).reshape(batch_size, seq_length, self.output_dim)\n",
        "        return self.fc_out(weighted)\n",
        "\n",
        "class TitleEncoder(nn.Module):\n",
        "    def __init__(self, article_embedding_size, embedding_dim):\n",
        "        super().__init__()\n",
        "        self.embedding = nn.Embedding(article_embedding_size, embedding_dim)\n",
        "        self.dropout = nn.Dropout(DROPOUT_RATE)\n",
        "        self.self_attention = MultiHeadSelfAttention(NUM_HEADS, HEAD_SIZE)\n",
        "        self.dense = nn.Linear(embedding_dim, 1)\n",
        "\n",
        "    def forward(self, x):\n",
        "        x = self.embedding(x)  # Ensure input is embedded\n",
        "        if len(x.size()) != 3:\n",
        "            raise ValueError(f\"Embedding layer output should be 3D, got {x.size()}\")\n",
        "        x = self.dropout(x)\n",
        "        x = self.self_attention(x)\n",
        "        attention_weights = F.softmax(self.dense(x).squeeze(-1), dim=-1) # attention weights\n",
        "        return torch.sum(x * attention_weights.unsqueeze(-1), dim=1) # weighted sum\n",
        "\n",
        "class NRMS(nn.Module):\n",
        "    def __init__(self, article_embedding_size, embedding_dim, num_classes):\n",
        "        super().__init__()\n",
        "        self.title_encoder = TitleEncoder(article_embedding_size, embedding_dim)\n",
        "\n",
        "    def forward(self, candidates, user_history):\n",
        "        assert len(user_history.size()) == 2, f\"Expected user_history to have 2 dimensions, got {user_history.size()}\"\n",
        "        assert len(candidates.size()) == 2, f\"Expected candidates to have 2 dimensions, got {candidates.size()}\"\n",
        "\n",
        "        user_rep = self.title_encoder(user_history)  # Output: (batch_size, embedding_dim)\n",
        "        candidate_rep = self.title_encoder(candidates)  # Output: (batch_size, embedding_dim)\n",
        "        return torch.matmul(candidate_rep, user_rep.unsqueeze(-1)).squeeze(-1)"
      ]
    },
    {
      "cell_type": "code",
      "execution_count": 18,
      "metadata": {
        "id": "Y_8BpxjG583x"
      },
      "outputs": [],
      "source": [
        "from sklearn.metrics import accuracy_score\n",
        "\n",
        "def train_model(model, train_loader, val_loader, optimizer, criterion, epochs=EPOCHS):\n",
        "\n",
        "    for epoch in range(epochs):\n",
        "        # Training Loop\n",
        "        model.train()\n",
        "        total_train_loss = 0\n",
        "        for batch in train_loader:\n",
        "            user_histories, candidates, labels = [x.to(device) for x in batch]\n",
        "\n",
        "            optimizer.zero_grad()\n",
        "            outputs = model(candidates, user_histories)  # Pass inputs to model\n",
        "\n",
        "            # Compute loss and update weights\n",
        "            loss = criterion(outputs, labels)\n",
        "            loss.backward()\n",
        "            optimizer.step()\n",
        "            total_train_loss += loss.item()\n",
        "\n",
        "        # Validation Loop\n",
        "        model.eval()\n",
        "        total_val_loss = 0\n",
        "        all_preds, all_labels = [], []\n",
        "\n",
        "        with torch.no_grad():\n",
        "            for batch in val_loader:\n",
        "                user_histories, candidates, labels = [x.to(device) for x in batch]\n",
        "                outputs = model(candidates, user_histories)\n",
        "                loss = criterion(outputs, labels)\n",
        "                total_val_loss += loss.item()\n",
        "\n",
        "                # Predictions and metrics\n",
        "                _, preds = torch.max(outputs, dim=1)  # Get predicted class\n",
        "                all_preds.extend(preds.cpu().tolist())  # Move predictions to CPU before converting to list\n",
        "                all_labels.extend(labels.cpu().tolist())  # Move labels to CPU before converting to list\n",
        "\n",
        "        # Metrics\n",
        "        accuracy = accuracy_score(all_labels, all_preds)\n",
        "\n",
        "        # Logging\n",
        "        print(f\"Epoch {epoch + 1}/{epochs}\")\n",
        "        print(f\"  Train Loss: {total_train_loss:.4f}\")\n",
        "        print(f\"  Val Loss: {total_val_loss:.4f}\")\n",
        "        print(f\"  Val Accuracy: {accuracy:.4f}\")\n"
      ]
    },
    {
      "cell_type": "code",
      "execution_count": 19,
      "metadata": {
        "id": "HGdVTz5l583x"
      },
      "outputs": [],
      "source": [
        "def train_model(model, train_loader, val_loader, optimizer, criterion, epochs=EPOCHS):\n",
        "    for epoch in range(epochs):\n",
        "        model.train()\n",
        "        total_train_loss = 0\n",
        "\n",
        "        for batch in train_loader:\n",
        "            user_histories, candidates, labels = [x.to(device) for x in batch]\n",
        "\n",
        "            optimizer.zero_grad()\n",
        "            outputs = model(candidates, user_histories)  # Pass inputs to model\n",
        "\n",
        "            # Compute loss and update weights\n",
        "            loss = criterion(outputs, labels)\n",
        "            loss.backward()\n",
        "            optimizer.step()\n",
        "            total_train_loss += loss.item()\n",
        "\n",
        "        print(f\"Epoch {epoch + 1}, Loss: {total_train_loss:.4f}\")"
      ]
    },
    {
      "cell_type": "code",
      "execution_count": 20,
      "metadata": {
        "id": "nO0Ys2P-583y",
        "outputId": "a781ede0-cbc7-40a5-ecef-c930b2ac6cb5",
        "colab": {
          "base_uri": "https://localhost:8080/"
        }
      },
      "outputs": [
        {
          "output_type": "stream",
          "name": "stdout",
          "text": [
            "Epoch 1, Loss: 18355.2704\n",
            "Epoch 2, Loss: 18259.3426\n",
            "Epoch 3, Loss: 18194.9731\n",
            "Epoch 4, Loss: 18232.3040\n",
            "Epoch 5, Loss: 18192.3330\n"
          ]
        }
      ],
      "source": [
        "device = torch.device('cuda' if torch.cuda.is_available() else 'cpu')\n",
        "\n",
        "model = NRMS(article_embedding_size, EMBEDDING_DIM, NPRATIO + 1).to(device)\n",
        "optimizer = optim.Adam(model.parameters(), lr=1e-3)\n",
        "criterion = nn.CrossEntropyLoss()\n",
        "\n",
        "# Train the model\n",
        "train_model(\n",
        "    model=model,\n",
        "    train_loader=train_loader,\n",
        "    val_loader=val_loader,\n",
        "    optimizer=optimizer,\n",
        "    criterion=criterion,\n",
        "    epochs=5\n",
        ")"
      ]
    },
    {
      "cell_type": "code",
      "execution_count": 21,
      "metadata": {
        "id": "s_5yu6Kn583y"
      },
      "outputs": [],
      "source": [
        "model_path = '/content/drive/MyDrive/DTU/Kandidat/Semester 9/Deep learning/Final project/nrms_model.pth'\n",
        "torch.save(model.state_dict(), model_path)\n"
      ]
    }
  ],
  "metadata": {
    "kernelspec": {
      "display_name": "Python 3",
      "name": "python3"
    },
    "language_info": {
      "codemirror_mode": {
        "name": "ipython",
        "version": 3
      },
      "file_extension": ".py",
      "mimetype": "text/x-python",
      "name": "python",
      "nbconvert_exporter": "python",
      "pygments_lexer": "ipython3",
      "version": "3.9.6"
    },
    "colab": {
      "provenance": [],
      "gpuType": "T4"
    },
    "accelerator": "GPU"
  },
  "nbformat": 4,
  "nbformat_minor": 0
}