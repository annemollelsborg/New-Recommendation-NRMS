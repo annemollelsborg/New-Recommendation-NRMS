{
  "cells": [
    {
      "cell_type": "code",
      "execution_count": 2,
      "metadata": {
        "id": "lYKGc7Py583k"
      },
      "outputs": [],
      "source": [
        "import torch\n",
        "import torch.nn as nn\n",
        "import torch.optim as optim\n",
        "import torch.nn.functional as F\n",
        "from torch.utils.data import DataLoader, Dataset\n",
        "import pandas as pd\n",
        "import numpy as np\n",
        "from collections import defaultdict\n",
        "#from google.colab import drive\n",
        "\n",
        "# Constants\n",
        "MAX_SENT_LENGTH = 30\n",
        "MAX_SENTS = 50\n",
        "EMBEDDING_DIM = 300\n",
        "NUM_HEADS = 16\n",
        "HEAD_SIZE = 16\n",
        "DROPOUT_RATE = 0.2\n",
        "NPRATIO = 4  # Number of negative samples per positive\n",
        "BATCH_SIZE = 64\n",
        "EPOCHS = 5\n"
      ]
    },
    {
      "cell_type": "code",
      "execution_count": 2,
      "metadata": {
        "colab": {
          "base_uri": "https://localhost:8080/"
        },
        "id": "uOLDthQr5_kZ",
        "outputId": "06da1032-ce66-47d4-f300-15f9dd9b0764"
      },
      "outputs": [
        {
          "name": "stdout",
          "output_type": "stream",
          "text": [
            "Mounted at /content/drive\n"
          ]
        }
      ],
      "source": [
        "drive.mount('/content/drive')"
      ]
    },
    {
      "cell_type": "code",
      "execution_count": 3,
      "metadata": {
        "colab": {
          "base_uri": "https://localhost:8080/"
        },
        "id": "S_3ashud9UKX",
        "outputId": "c90f40b0-b8e4-42ff-d61f-0fcf83a3c5ae"
      },
      "outputs": [
        {
          "name": "stdout",
          "output_type": "stream",
          "text": [
            "False\n"
          ]
        }
      ],
      "source": [
        "import torch\n",
        "print(torch.cuda.is_available())"
      ]
    },
    {
      "cell_type": "code",
      "execution_count": 5,
      "metadata": {
        "id": "3axavoJa8PoS"
      },
      "outputs": [],
      "source": [
        "articles_path = '/content/drive/MyDrive/DTU/Kandidat/Semester 9/Deep learning/Final project/Data/articles.csv'\n",
        "behaviors_train_path = '/content/drive/MyDrive/DTU/Kandidat/Semester 9/Deep learning/Final project/Data/behaviors_train.csv'\n",
        "behaviors_val_path = '/content/drive/MyDrive/DTU/Kandidat/Semester 9/Deep learning/Final project/Data/behaviors_val.csv'\n",
        "history_train_path = '/content/drive/MyDrive/DTU/Kandidat/Semester 9/Deep learning/Final project/Data/history_train.csv'\n",
        "history_val_path = '/content/drive/MyDrive/DTU/Kandidat/Semester 9/Deep learning/Final project/Data/history_val.csv'"
      ]
    },
    {
      "cell_type": "code",
      "execution_count": 6,
      "metadata": {
        "id": "gUn_UulZ583m"
      },
      "outputs": [],
      "source": [
        "# Load Datasets\n",
        "articles = pd.read_csv(articles_path)\n",
        "behaviors_train = pd.read_csv(behaviors_train_path)\n",
        "behaviors_val = pd.read_csv(behaviors_val_path)\n",
        "history_train = pd.read_csv(history_train_path)\n",
        "history_val = pd.read_csv(history_val_path)"
      ]
    },
    {
      "cell_type": "code",
      "execution_count": 5,
      "metadata": {
        "id": "QBuD8vvJ583m"
      },
      "outputs": [],
      "source": [
        "def build_vocab_and_tokenize(titles, max_len=MAX_SENT_LENGTH):\n",
        "    \"\"\"\n",
        "    Builds a vocabulary and tokenizes article titles.\n",
        "\n",
        "    Args:\n",
        "        titles (list of str): List of article titles to tokenize.\n",
        "        max_len (int): Maximum length for tokenized titles (truncation/padding length).\n",
        "\n",
        "    Returns:\n",
        "        tokenized_titles (list of list of int): Tokenized and padded titles.\n",
        "        vocab (dict): A dictionary mapping tokens to unique integer indices.\n",
        "        vocab_size (int): Size of the vocabulary.\n",
        "    \"\"\"\n",
        "    vocab = defaultdict(lambda: len(vocab))  # Default dictionary for token ids\n",
        "    vocab[\"<PAD>\"] = 0  # Padding token\n",
        "    vocab[\"<UNK>\"] = 1  # Unknown token\n",
        "\n",
        "    tokenized_titles = []\n",
        "    for title in titles:\n",
        "        tokens = title.lower().split()[:max_len]  # Simple whitespace tokenizer\n",
        "        tokenized = [vocab[token] for token in tokens]\n",
        "        padded = pad_sequence_to_length(tokenized, max_len, pad_value=vocab[\"<PAD>\"])\n",
        "        tokenized_titles.append(padded)\n",
        "\n",
        "    # Freeze the vocabulary after processing to get accurate vocab size\n",
        "    vocab = dict(vocab)  # Convert to a regular dict to freeze it\n",
        "    vocab_size = len(vocab)\n",
        "\n",
        "    return tokenized_titles, vocab, vocab_size\n",
        "\n",
        "def pad_sequence_to_length(sequence, target_length, pad_value=0):\n",
        "    \"\"\"\n",
        "    Pads or truncates a sequence to the specified target length.\n",
        "\n",
        "    Args:\n",
        "        sequence (list of int): Input sequence to pad or truncate.\n",
        "        target_length (int): Desired length of the sequence.\n",
        "        pad_value (int): Value to use for padding shorter sequences.\n",
        "\n",
        "    Returns:\n",
        "        list of int: Padded or truncated sequence.\n",
        "    \"\"\"\n",
        "    if len(sequence) >= target_length:\n",
        "        return sequence[:target_length]\n",
        "    else:\n",
        "        return sequence + [pad_value] * (target_length - len(sequence))"
      ]
    },
    {
      "cell_type": "code",
      "execution_count": 6,
      "metadata": {
        "id": "tCtmsNac583o"
      },
      "outputs": [],
      "source": [
        "# Tokenize titles and build vocabulary\n",
        "articles[\"tokenized_title\"], vocab, VOCAB_SIZE = build_vocab_and_tokenize(\n",
        "    articles[\"title\"].fillna(\"<UNK>\"),\n",
        "    max_len=MAX_SENT_LENGTH\n",
        ")"
      ]
    },
    {
      "cell_type": "code",
      "execution_count": 7,
      "metadata": {
        "id": "suYEokoT583p"
      },
      "outputs": [],
      "source": [
        "article_to_tokens = {row['article_id']: row['tokenized_title'] for _, row in articles.iterrows()}\n",
        "\n",
        "article_to_idx = {article_id: idx for idx, article_id in enumerate(articles['article_id'].unique(), start=2)}\n",
        "article_to_idx[0] = 0  # Reserved for <PAD>\n",
        "article_to_idx[1] = 1  # Reserved for <UNK>\n",
        "\n",
        "article_embedding_size = len(article_to_idx) + 1"
      ]
    },
    {
      "cell_type": "code",
      "execution_count": 8,
      "metadata": {
        "colab": {
          "base_uri": "https://localhost:8080/"
        },
        "id": "IHyEQRye583t",
        "outputId": "3fdc3f6d-db16-4b34-f08e-6bb99db82db3"
      },
      "outputs": [
        {
          "name": "stderr",
          "output_type": "stream",
          "text": [
            "2024-12-09 08:33:50,072 - WARNING - Malformed article_ids found: '[9738366 9737535 9738173 ... 9766140 9766140 9766140]'. Skipping.\n",
            "2024-12-09 08:33:50,076 - WARNING - Malformed article_ids found: '[9737083 9737083 9738216 ... 9770037 9769994 9768321]'. Skipping.\n"
          ]
        },
        {
          "name": "stdout",
          "output_type": "stream",
          "text": [
            "train: Skipped 2 rows out of 1590 (0.13%).\n",
            "train: Saved 2 problematic rows to 'invalid_article_ids_train.csv'.\n",
            "train: Remaining rows after cleaning: 1588\n",
            "val: Skipped 0 rows out of 1562 (0.00%).\n",
            "val: Saved 0 problematic rows to 'invalid_article_ids_val.csv'.\n",
            "val: Remaining rows after cleaning: 1562\n"
          ]
        }
      ],
      "source": [
        "import logging\n",
        "\n",
        "# Setup logging (if not already configured in your project)\n",
        "logging.basicConfig(level=logging.INFO, format=\"%(asctime)s - %(levelname)s - %(message)s\")\n",
        "\n",
        "def clean_article_ids(article_ids):\n",
        "    \"\"\"\n",
        "    Cleans and parses article IDs from a string representation to a list of integers.\n",
        "\n",
        "    Args:\n",
        "        article_ids (str): String representation of article IDs (e.g., \"[1, 2, 3]\").\n",
        "\n",
        "    Returns:\n",
        "        list of int or None: List of parsed article IDs, or None if input is invalid.\n",
        "    \"\"\"\n",
        "    try:\n",
        "        # Check for invalid placeholders or empty strings\n",
        "        if not article_ids or \"...\" in article_ids:\n",
        "            logging.warning(f\"Malformed article_ids found: '{article_ids}'. Skipping.\")\n",
        "            return None\n",
        "\n",
        "        # Remove brackets and split on spaces or commas, then convert to integers\n",
        "        cleaned_ids = article_ids.strip(\"[]\").replace(\",\", \" \").split()\n",
        "        return list(map(int, cleaned_ids))\n",
        "    except Exception as e:\n",
        "        logging.error(f\"Failed to clean article_ids '{article_ids}' due to error: {e}\")\n",
        "        return None\n",
        "\n",
        "# Function to process a single dataset (train or val)\n",
        "def clean_and_report_history(history_df, dataset_name=\"dataset\"):\n",
        "    \"\"\"\n",
        "    Cleans article IDs in the user history dataset and reports cleaning statistics.\n",
        "\n",
        "    Args:\n",
        "        history_df (pd.DataFrame): Input dataset with article history to clean.\n",
        "        dataset_name (str): Name of the dataset (for logging and reporting).\n",
        "\n",
        "    Returns:\n",
        "        pd.DataFrame: Cleaned dataset with invalid rows removed.\n",
        "    \"\"\"\n",
        "    # Clean article IDs\n",
        "    history_df[\"cleaned_article_ids\"] = history_df[\"article_id_fixed\"].apply(clean_article_ids)\n",
        "\n",
        "    # Count skipped rows\n",
        "    skipped_rows = history_df[\"cleaned_article_ids\"].isna().sum()\n",
        "    total_rows = len(history_df)\n",
        "    print(f\"{dataset_name}: Skipped {skipped_rows} rows out of {total_rows} \"\n",
        "          f\"({skipped_rows / total_rows:.2%}).\")\n",
        "\n",
        "    # Save problematic rows\n",
        "    invalid_rows = history_df[history_df[\"cleaned_article_ids\"].isna()]\n",
        "    invalid_rows_file = f\"invalid_article_ids_{dataset_name}.csv\"\n",
        "    invalid_rows.to_csv(invalid_rows_file, index=False)\n",
        "    print(f\"{dataset_name}: Saved {len(invalid_rows)} problematic rows to '{invalid_rows_file}'.\")\n",
        "\n",
        "    # Drop invalid rows and reset index\n",
        "    cleaned_df = history_df.dropna(subset=[\"cleaned_article_ids\"]).reset_index(drop=True)\n",
        "    print(f\"{dataset_name}: Remaining rows after cleaning: {len(cleaned_df)}\")\n",
        "\n",
        "    return cleaned_df\n",
        "\n",
        "# Clean train and validation datasets\n",
        "history_train_cleaned = clean_and_report_history(history_train, dataset_name=\"train\")\n",
        "history_val_cleaned = clean_and_report_history(history_val, dataset_name=\"val\")\n",
        "\n",
        "\n",
        "def process_cleaned_user_history(cleaned_history_df):\n",
        "    user_histories = defaultdict(list)\n",
        "    for _, row in cleaned_history_df.iterrows():\n",
        "        user_id = row[\"user_id\"]\n",
        "        article_ids = row[\"cleaned_article_ids\"]\n",
        "        user_histories[user_id].extend(article_ids)\n",
        "    return user_histories\n",
        "\n",
        "user_history_train_cleaned = process_cleaned_user_history(history_train_cleaned)\n",
        "user_history_val_cleaned = process_cleaned_user_history(history_val_cleaned)"
      ]
    },
    {
      "cell_type": "code",
      "execution_count": 9,
      "metadata": {
        "colab": {
          "base_uri": "https://localhost:8080/"
        },
        "id": "HKiNZlCn583u",
        "outputId": "312e547c-30b9-48c4-8f8b-dad019933b0a"
      },
      "outputs": [
        {
          "name": "stdout",
          "output_type": "stream",
          "text": [
            "Vocabulary Size: 18591\n",
            "Sample Tokens: ['<PAD>', '<UNK>', 'ishockey-spiller:', 'jeg', 'troede', 'skulle', 'dø', 'prins', 'harry', 'tvunget']\n"
          ]
        }
      ],
      "source": [
        "print(f\"Vocabulary Size: {VOCAB_SIZE}\")\n",
        "print(f\"Sample Tokens: {list(vocab.keys())[:10]}\")"
      ]
    },
    {
      "cell_type": "code",
      "execution_count": 10,
      "metadata": {
        "colab": {
          "base_uri": "https://localhost:8080/"
        },
        "id": "i2GmK3b1583u",
        "outputId": "1995871b-1b68-43f5-a71b-fccb2bf4f214"
      },
      "outputs": [
        {
          "ename": "OSError",
          "evalue": "[Errno 30] Read-only file system: '/content'",
          "output_type": "error",
          "traceback": [
            "\u001b[0;31m---------------------------------------------------------------------------\u001b[0m",
            "\u001b[0;31mOSError\u001b[0m                                   Traceback (most recent call last)",
            "\u001b[1;32m/Users/paulagranlund/Documents/GitHub/New-Recommendation-NRMS/Torch_Baseline-NRMS_3_Kalle_copy_for_gdrive.ipynb Cell 12\u001b[0m line \u001b[0;36m7\n\u001b[1;32m      <a href='vscode-notebook-cell:/Users/paulagranlund/Documents/GitHub/New-Recommendation-NRMS/Torch_Baseline-NRMS_3_Kalle_copy_for_gdrive.ipynb#X13sZmlsZQ%3D%3D?line=3'>4</a>\u001b[0m data_folder \u001b[39m=\u001b[39m \u001b[39m\"\u001b[39m\u001b[39m/content/drive/MyDrive/DTU/Kandidat/Semester 9/Deep learning/Final project/Data\u001b[39m\u001b[39m\"\u001b[39m\n\u001b[1;32m      <a href='vscode-notebook-cell:/Users/paulagranlund/Documents/GitHub/New-Recommendation-NRMS/Torch_Baseline-NRMS_3_Kalle_copy_for_gdrive.ipynb#X13sZmlsZQ%3D%3D?line=4'>5</a>\u001b[0m vocab_file \u001b[39m=\u001b[39m os\u001b[39m.\u001b[39mpath\u001b[39m.\u001b[39mjoin(data_folder, \u001b[39m\"\u001b[39m\u001b[39mvocab.json\u001b[39m\u001b[39m\"\u001b[39m)\n\u001b[0;32m----> <a href='vscode-notebook-cell:/Users/paulagranlund/Documents/GitHub/New-Recommendation-NRMS/Torch_Baseline-NRMS_3_Kalle_copy_for_gdrive.ipynb#X13sZmlsZQ%3D%3D?line=6'>7</a>\u001b[0m os\u001b[39m.\u001b[39;49mmakedirs(data_folder, exist_ok\u001b[39m=\u001b[39;49m\u001b[39mTrue\u001b[39;49;00m)\n\u001b[1;32m      <a href='vscode-notebook-cell:/Users/paulagranlund/Documents/GitHub/New-Recommendation-NRMS/Torch_Baseline-NRMS_3_Kalle_copy_for_gdrive.ipynb#X13sZmlsZQ%3D%3D?line=8'>9</a>\u001b[0m \u001b[39m# Save the vocabulary to a file\u001b[39;00m\n\u001b[1;32m     <a href='vscode-notebook-cell:/Users/paulagranlund/Documents/GitHub/New-Recommendation-NRMS/Torch_Baseline-NRMS_3_Kalle_copy_for_gdrive.ipynb#X13sZmlsZQ%3D%3D?line=9'>10</a>\u001b[0m \u001b[39mwith\u001b[39;00m \u001b[39mopen\u001b[39m(vocab_file, \u001b[39m\"\u001b[39m\u001b[39mw\u001b[39m\u001b[39m\"\u001b[39m) \u001b[39mas\u001b[39;00m f:\n",
            "File \u001b[0;32m/Library/Developer/CommandLineTools/Library/Frameworks/Python3.framework/Versions/3.9/lib/python3.9/os.py:215\u001b[0m, in \u001b[0;36mmakedirs\u001b[0;34m(name, mode, exist_ok)\u001b[0m\n\u001b[1;32m    213\u001b[0m \u001b[39mif\u001b[39;00m head \u001b[39mand\u001b[39;00m tail \u001b[39mand\u001b[39;00m \u001b[39mnot\u001b[39;00m path\u001b[39m.\u001b[39mexists(head):\n\u001b[1;32m    214\u001b[0m     \u001b[39mtry\u001b[39;00m:\n\u001b[0;32m--> 215\u001b[0m         makedirs(head, exist_ok\u001b[39m=\u001b[39;49mexist_ok)\n\u001b[1;32m    216\u001b[0m     \u001b[39mexcept\u001b[39;00m \u001b[39mFileExistsError\u001b[39;00m:\n\u001b[1;32m    217\u001b[0m         \u001b[39m# Defeats race condition when another thread created the path\u001b[39;00m\n\u001b[1;32m    218\u001b[0m         \u001b[39mpass\u001b[39;00m\n",
            "File \u001b[0;32m/Library/Developer/CommandLineTools/Library/Frameworks/Python3.framework/Versions/3.9/lib/python3.9/os.py:215\u001b[0m, in \u001b[0;36mmakedirs\u001b[0;34m(name, mode, exist_ok)\u001b[0m\n\u001b[1;32m    213\u001b[0m \u001b[39mif\u001b[39;00m head \u001b[39mand\u001b[39;00m tail \u001b[39mand\u001b[39;00m \u001b[39mnot\u001b[39;00m path\u001b[39m.\u001b[39mexists(head):\n\u001b[1;32m    214\u001b[0m     \u001b[39mtry\u001b[39;00m:\n\u001b[0;32m--> 215\u001b[0m         makedirs(head, exist_ok\u001b[39m=\u001b[39;49mexist_ok)\n\u001b[1;32m    216\u001b[0m     \u001b[39mexcept\u001b[39;00m \u001b[39mFileExistsError\u001b[39;00m:\n\u001b[1;32m    217\u001b[0m         \u001b[39m# Defeats race condition when another thread created the path\u001b[39;00m\n\u001b[1;32m    218\u001b[0m         \u001b[39mpass\u001b[39;00m\n",
            "    \u001b[0;31m[... skipping similar frames: makedirs at line 215 (5 times)]\u001b[0m\n",
            "File \u001b[0;32m/Library/Developer/CommandLineTools/Library/Frameworks/Python3.framework/Versions/3.9/lib/python3.9/os.py:215\u001b[0m, in \u001b[0;36mmakedirs\u001b[0;34m(name, mode, exist_ok)\u001b[0m\n\u001b[1;32m    213\u001b[0m \u001b[39mif\u001b[39;00m head \u001b[39mand\u001b[39;00m tail \u001b[39mand\u001b[39;00m \u001b[39mnot\u001b[39;00m path\u001b[39m.\u001b[39mexists(head):\n\u001b[1;32m    214\u001b[0m     \u001b[39mtry\u001b[39;00m:\n\u001b[0;32m--> 215\u001b[0m         makedirs(head, exist_ok\u001b[39m=\u001b[39;49mexist_ok)\n\u001b[1;32m    216\u001b[0m     \u001b[39mexcept\u001b[39;00m \u001b[39mFileExistsError\u001b[39;00m:\n\u001b[1;32m    217\u001b[0m         \u001b[39m# Defeats race condition when another thread created the path\u001b[39;00m\n\u001b[1;32m    218\u001b[0m         \u001b[39mpass\u001b[39;00m\n",
            "File \u001b[0;32m/Library/Developer/CommandLineTools/Library/Frameworks/Python3.framework/Versions/3.9/lib/python3.9/os.py:225\u001b[0m, in \u001b[0;36mmakedirs\u001b[0;34m(name, mode, exist_ok)\u001b[0m\n\u001b[1;32m    223\u001b[0m         \u001b[39mreturn\u001b[39;00m\n\u001b[1;32m    224\u001b[0m \u001b[39mtry\u001b[39;00m:\n\u001b[0;32m--> 225\u001b[0m     mkdir(name, mode)\n\u001b[1;32m    226\u001b[0m \u001b[39mexcept\u001b[39;00m \u001b[39mOSError\u001b[39;00m:\n\u001b[1;32m    227\u001b[0m     \u001b[39m# Cannot rely on checking for EEXIST, since the operating system\u001b[39;00m\n\u001b[1;32m    228\u001b[0m     \u001b[39m# could give priority to other errors like EACCES or EROFS\u001b[39;00m\n\u001b[1;32m    229\u001b[0m     \u001b[39mif\u001b[39;00m \u001b[39mnot\u001b[39;00m exist_ok \u001b[39mor\u001b[39;00m \u001b[39mnot\u001b[39;00m path\u001b[39m.\u001b[39misdir(name):\n",
            "\u001b[0;31mOSError\u001b[0m: [Errno 30] Read-only file system: '/content'"
          ]
        }
      ],
      "source": [
        "import json\n",
        "import os\n",
        "\n",
        "data_folder = \"/content/drive/MyDrive/DTU/Kandidat/Semester 9/Deep learning/Final project/Data\"\n",
        "vocab_file = os.path.join(data_folder, \"vocab.json\")\n",
        "\n",
        "os.makedirs(data_folder, exist_ok=True)\n",
        "\n",
        "# Save the vocabulary to a file\n",
        "with open(vocab_file, \"w\") as f:\n",
        "    json.dump(vocab, f)\n",
        "\n",
        "print(f\"Vocabulary saved to {vocab_file}\")"
      ]
    },
    {
      "cell_type": "code",
      "execution_count": 11,
      "metadata": {
        "colab": {
          "base_uri": "https://localhost:8080/"
        },
        "id": "_G9h9iHY583v",
        "outputId": "78698f6f-1b25-47c2-f854-99f089c36add"
      },
      "outputs": [
        {
          "data": {
            "text/plain": [
              "582"
            ]
          },
          "execution_count": 11,
          "metadata": {},
          "output_type": "execute_result"
        }
      ],
      "source": [
        "len(user_history_train_cleaned[13538])"
      ]
    },
    {
      "cell_type": "code",
      "execution_count": 12,
      "metadata": {
        "id": "537JfP7y583v"
      },
      "outputs": [],
      "source": [
        "from random import sample\n",
        "\n",
        "def create_samples(behaviors_df, user_history, npratio=NPRATIO, max_sents=MAX_SENTS, max_sent_length=MAX_SENT_LENGTH):\n",
        "    samples = []\n",
        "    labels = []\n",
        "    for _, row in behaviors_df.iterrows():\n",
        "        user_id = row[\"user_id\"]\n",
        "\n",
        "        clicked_articles = clean_article_ids(row['article_ids_clicked'])\n",
        "        inview_articles = clean_article_ids(row['article_ids_inview'])\n",
        "\n",
        "        if clicked_articles is None or inview_articles is None:\n",
        "            continue\n",
        "\n",
        "        clicked_articles = [article_to_idx.get(article_id, 1) for article_id in clicked_articles]  # Map or <UNK>\n",
        "        inview_articles = [article_to_idx.get(article_id, 1) for article_id in inview_articles]  # Map or <UNK>\n",
        "\n",
        "        # Prepare user history\n",
        "        user_hist = user_history.get(user_id, [])\n",
        "        user_hist = [article_to_idx.get(article_id, 1) for article_id in user_hist[:max_sents]]  # Map or <UNK>\n",
        "        user_hist += [0] * (max_sents - len(user_hist))  # Pad to max_sents\n",
        "\n",
        "        # Add positive samples\n",
        "        for article_idx in clicked_articles:\n",
        "            candidate = [article_idx] + [0] * (max_sent_length - 1)\n",
        "            samples.append((user_hist, candidate))\n",
        "            labels.append(1)\n",
        "\n",
        "        # Add negative samples\n",
        "        negative_articles = list(set(inview_articles) - set(clicked_articles))\n",
        "        for article_idx in negative_articles:\n",
        "            candidate = [article_idx] + [0] * (max_sent_length - 1)\n",
        "            samples.append((user_hist, candidate))\n",
        "            labels.append(0)\n",
        "\n",
        "    return samples, labels\n",
        "\n",
        "train_samples_cleaned, train_labels_cleaned = create_samples(\n",
        "    behaviors_train, user_history_train_cleaned, npratio=NPRATIO\n",
        "    )\n",
        "val_samples_cleaned, val_labels_cleaned = create_samples(\n",
        "    behaviors_val, user_history_val_cleaned, npratio=NPRATIO\n",
        "    )"
      ]
    },
    {
      "cell_type": "code",
      "execution_count": 13,
      "metadata": {
        "id": "9D7kuxOL583x"
      },
      "outputs": [],
      "source": [
        "\n",
        "# Step 4: Define PyTorch Dataset\n",
        "class NewsDataset(Dataset):\n",
        "    def __init__(self, samples, labels):\n",
        "        self.samples = samples\n",
        "        self.labels = labels\n",
        "\n",
        "    def __len__(self):\n",
        "        return len(self.labels)\n",
        "\n",
        "    def __getitem__(self, idx):\n",
        "        user_history, candidate = self.samples[idx]\n",
        "        return (\n",
        "            torch.tensor(user_history, dtype=torch.long),\n",
        "            torch.tensor(candidate, dtype=torch.long),\n",
        "            torch.tensor(self.labels[idx], dtype=torch.long),\n",
        "        )\n",
        "\n",
        "train_dataset = NewsDataset(train_samples_cleaned, train_labels_cleaned)\n",
        "val_dataset = NewsDataset(val_samples_cleaned, val_labels_cleaned)\n",
        "\n",
        "train_loader = DataLoader(train_dataset, batch_size=BATCH_SIZE, shuffle=True)\n",
        "val_loader = DataLoader(val_dataset, batch_size=BATCH_SIZE, shuffle=False)"
      ]
    },
    {
      "cell_type": "code",
      "execution_count": 14,
      "metadata": {
        "colab": {
          "base_uri": "https://localhost:8080/"
        },
        "id": "Z2p0H5TVFeAH",
        "outputId": "35e2110f-d2cb-4da9-859b-e97458230f85"
      },
      "outputs": [
        {
          "data": {
            "text/plain": [
              "([6372,\n",
              "  6285,\n",
              "  6401,\n",
              "  5938,\n",
              "  6403,\n",
              "  6393,\n",
              "  6364,\n",
              "  6423,\n",
              "  6417,\n",
              "  6428,\n",
              "  6429,\n",
              "  6433,\n",
              "  6389,\n",
              "  6451,\n",
              "  6451,\n",
              "  6463,\n",
              "  6446,\n",
              "  6383,\n",
              "  6469,\n",
              "  6461,\n",
              "  6421,\n",
              "  6471,\n",
              "  6491,\n",
              "  6518,\n",
              "  6490,\n",
              "  6462,\n",
              "  6539,\n",
              "  6546,\n",
              "  6540,\n",
              "  6611,\n",
              "  6586,\n",
              "  6586,\n",
              "  6575,\n",
              "  6640,\n",
              "  6670,\n",
              "  6652,\n",
              "  6673,\n",
              "  6674,\n",
              "  6361,\n",
              "  6675,\n",
              "  6679,\n",
              "  6414,\n",
              "  6675,\n",
              "  6728,\n",
              "  6659,\n",
              "  6549,\n",
              "  6732,\n",
              "  6746,\n",
              "  6737,\n",
              "  6743],\n",
              " [8481,\n",
              "  0,\n",
              "  0,\n",
              "  0,\n",
              "  0,\n",
              "  0,\n",
              "  0,\n",
              "  0,\n",
              "  0,\n",
              "  0,\n",
              "  0,\n",
              "  0,\n",
              "  0,\n",
              "  0,\n",
              "  0,\n",
              "  0,\n",
              "  0,\n",
              "  0,\n",
              "  0,\n",
              "  0,\n",
              "  0,\n",
              "  0,\n",
              "  0,\n",
              "  0,\n",
              "  0,\n",
              "  0,\n",
              "  0,\n",
              "  0,\n",
              "  0,\n",
              "  0])"
            ]
          },
          "execution_count": 14,
          "metadata": {},
          "output_type": "execute_result"
        }
      ],
      "source": [
        "train_samples_cleaned[1]"
      ]
    },
    {
      "cell_type": "code",
      "execution_count": 16,
      "metadata": {
        "colab": {
          "base_uri": "https://localhost:8080/",
          "height": 161
        },
        "id": "IzPhZQu8583x",
        "outputId": "fdca7a4a-0cb0-49d8-94ea-62339212ed22"
      },
      "outputs": [
        {
          "data": {
            "application/vnd.google.colaboratory.intrinsic+json": {
              "type": "string"
            },
            "text/plain": [
              "' # Step 5: Define the NRMS Model\\nclass MultiHeadSelfAttention(nn.Module):\\n    def __init__(self, num_heads, head_size):\\n        super().__init__()\\n        self.num_heads = num_heads\\n        self.head_size = head_size\\n        self.output_dim = num_heads * head_size\\n        self.qkv_linear = nn.Linear(EMBEDDING_DIM, self.output_dim * 3)\\n        self.fc_out = nn.Linear(self.output_dim, EMBEDDING_DIM)\\n\\n    def forward(self, x):\\n        if len(x.size()) != 3:\\n            raise ValueError(f\"Expected input to be 3D (batch_size, seq_length, embed_dim), got {x.size()}\")\\n        batch_size, seq_length, embed_dim = x.size()\\n        qkv = self.qkv_linear(x).reshape(batch_size, seq_length, self.num_heads, 3 * self.head_size)\\n        qkv = qkv.permute(2, 0, 1, 3)\\n        Q, K, V = torch.chunk(qkv, 3, dim=-1)\\n        scores = torch.matmul(Q, K.transpose(-2, -1)) / torch.sqrt(torch.tensor(self.head_size, dtype=torch.float32))\\n        attention = F.softmax(scores, dim=-1)\\n        weighted = torch.matmul(attention, V)\\n        weighted = weighted.permute(1, 2, 0, 3).reshape(batch_size, seq_length, self.output_dim)\\n        return self.fc_out(weighted)\\n\\nclass TitleEncoder(nn.Module):\\n    def __init__(self, article_embedding_size, embedding_dim):\\n        super().__init__()\\n        self.embedding = nn.Embedding(article_embedding_size, embedding_dim)\\n        self.dropout = nn.Dropout(DROPOUT_RATE)\\n        self.self_attention = MultiHeadSelfAttention(NUM_HEADS, HEAD_SIZE)\\n        self.dense = nn.Linear(embedding_dim, 1)\\n\\n    def forward(self, x):\\n        x = self.embedding(x)  # Ensure input is embedded\\n        if len(x.size()) != 3:\\n            raise ValueError(f\"Embedding layer output should be 3D, got {x.size()}\")\\n        x = self.dropout(x)\\n        x = self.self_attention(x)\\n        attention_weights = F.softmax(self.dense(x).squeeze(-1), dim=-1) # attention weights\\n        return torch.sum(x * attention_weights.unsqueeze(-1), dim=1) # weighted sum\\n\\nclass NRMS(nn.Module):\\n    def __init__(self, article_embedding_size, embedding_dim, num_classes):\\n        super().__init__()\\n        self.title_encoder = TitleEncoder(article_embedding_size, embedding_dim)\\n\\n    def forward(self, candidates, user_history):\\n        assert len(user_history.size()) == 2, f\"Expected user_history to have 2 dimensions, got {user_history.size()}\"\\n        assert len(candidates.size()) == 2, f\"Expected candidates to have 2 dimensions, got {candidates.size()}\"\\n\\n        user_rep = self.title_encoder(user_history)  # Output: (batch_size, embedding_dim)\\n        candidate_rep = self.title_encoder(candidates)  # Output: (batch_size, embedding_dim)\\n        return torch.matmul(candidate_rep, user_rep.unsqueeze(-1)).squeeze(-1) '"
            ]
          },
          "execution_count": 16,
          "metadata": {},
          "output_type": "execute_result"
        }
      ],
      "source": [
        "''' # Step 5: Define the NRMS Model\n",
        "class MultiHeadSelfAttention(nn.Module):\n",
        "    def __init__(self, num_heads, head_size):\n",
        "        super().__init__()\n",
        "        self.num_heads = num_heads\n",
        "        self.head_size = head_size\n",
        "        self.output_dim = num_heads * head_size\n",
        "        self.qkv_linear = nn.Linear(EMBEDDING_DIM, self.output_dim * 3)\n",
        "        self.fc_out = nn.Linear(self.output_dim, EMBEDDING_DIM)\n",
        "\n",
        "    def forward(self, x):\n",
        "        if len(x.size()) != 3:\n",
        "            raise ValueError(f\"Expected input to be 3D (batch_size, seq_length, embed_dim), got {x.size()}\")\n",
        "        batch_size, seq_length, embed_dim = x.size()\n",
        "        qkv = self.qkv_linear(x).reshape(batch_size, seq_length, self.num_heads, 3 * self.head_size)\n",
        "        qkv = qkv.permute(2, 0, 1, 3)\n",
        "        Q, K, V = torch.chunk(qkv, 3, dim=-1)\n",
        "        scores = torch.matmul(Q, K.transpose(-2, -1)) / torch.sqrt(torch.tensor(self.head_size, dtype=torch.float32))\n",
        "        attention = F.softmax(scores, dim=-1)\n",
        "        weighted = torch.matmul(attention, V)\n",
        "        weighted = weighted.permute(1, 2, 0, 3).reshape(batch_size, seq_length, self.output_dim)\n",
        "        return self.fc_out(weighted)\n",
        "\n",
        "class TitleEncoder(nn.Module):\n",
        "    def __init__(self, article_embedding_size, embedding_dim):\n",
        "        super().__init__()\n",
        "        self.embedding = nn.Embedding(article_embedding_size, embedding_dim)\n",
        "        self.dropout = nn.Dropout(DROPOUT_RATE)\n",
        "        self.self_attention = MultiHeadSelfAttention(NUM_HEADS, HEAD_SIZE)\n",
        "        self.dense = nn.Linear(embedding_dim, 1)\n",
        "\n",
        "    def forward(self, x):\n",
        "        x = self.embedding(x)  # Ensure input is embedded\n",
        "        if len(x.size()) != 3:\n",
        "            raise ValueError(f\"Embedding layer output should be 3D, got {x.size()}\")\n",
        "        x = self.dropout(x)\n",
        "        x = self.self_attention(x)\n",
        "        attention_weights = F.softmax(self.dense(x).squeeze(-1), dim=-1) # attention weights\n",
        "        return torch.sum(x * attention_weights.unsqueeze(-1), dim=1) # weighted sum\n",
        "\n",
        "class NRMS(nn.Module):\n",
        "    def __init__(self, article_embedding_size, embedding_dim, num_classes):\n",
        "        super().__init__()\n",
        "        self.title_encoder = TitleEncoder(article_embedding_size, embedding_dim)\n",
        "\n",
        "    def forward(self, candidates, user_history):\n",
        "        assert len(user_history.size()) == 2, f\"Expected user_history to have 2 dimensions, got {user_history.size()}\"\n",
        "        assert len(candidates.size()) == 2, f\"Expected candidates to have 2 dimensions, got {candidates.size()}\"\n",
        "\n",
        "        user_rep = self.title_encoder(user_history)  # Output: (batch_size, embedding_dim)\n",
        "        candidate_rep = self.title_encoder(candidates)  # Output: (batch_size, embedding_dim)\n",
        "        return torch.matmul(candidate_rep, user_rep.unsqueeze(-1)).squeeze(-1) '''"
      ]
    },
    {
      "cell_type": "code",
      "execution_count": 41,
      "metadata": {
        "id": "p_anUwTL0g6D"
      },
      "outputs": [],
      "source": [
        "''' # Step 5: Define the NRMS Model\n",
        "class MultiHeadSelfAttention(nn.Module):\n",
        "    def __init__(self, num_heads, head_size):\n",
        "        super().__init__()\n",
        "        self.num_heads = num_heads\n",
        "        self.head_size = head_size\n",
        "        self.output_dim = num_heads * head_size\n",
        "        self.WQ = nn.Linear(EMBEDDING_DIM, self.output_dim)\n",
        "        self.WK = nn.Linear(EMBEDDING_DIM, self.output_dim)\n",
        "        self.WV = nn.Linear(EMBEDDING_DIM, self.output_dim)\n",
        "        self.fc_out = nn.Linear(self.output_dim, EMBEDDING_DIM)\n",
        "\n",
        "    def forward(self, Q, K, V, mask=None):\n",
        "        batch_size = Q.size(0)\n",
        "\n",
        "        Q = self.WQ(Q).view(batch_size, -1, self.num_heads, self.head_size).permute(0, 2, 1, 3)\n",
        "        K = self.WK(K).view(batch_size, -1, self.num_heads, self.head_size).permute(0, 2, 1, 3)\n",
        "        V = self.WV(V).view(batch_size, -1, self.num_heads, self.head_size).permute(0, 2, 1, 3)\n",
        "\n",
        "        scores = torch.matmul(Q, K.transpose(-2, -1)) / torch.sqrt(torch.tensor(self.head_size, dtype=torch.float32))\n",
        "        if mask is not None:\n",
        "            scores = scores.masked_fill(mask == 0, float('-inf'))\n",
        "        attention = F.softmax(scores, dim=-1)\n",
        "\n",
        "        # Weighted sum\n",
        "        out = torch.matmul(attention, V).permute(0, 2, 1, 3).contiguous()\n",
        "        out = out.view(batch_size, -1, self.output_dim)\n",
        "\n",
        "        return self.fc_out(out)\n",
        "\n",
        "class NewsEncoder(nn.Module):\n",
        "    def __init__(self, vocab_size, embedding_dim, num_heads, head_dim, dropout_rate):\n",
        "        super().__init__()\n",
        "        self.embedding = nn.Embedding(vocab_size, embedding_dim)\n",
        "        self.self_attention = MultiHeadSelfAttention(num_heads, head_dim)\n",
        "        self.additive_attention = nn.Linear(embedding_dim, 1)\n",
        "        self.dropout = nn.Dropout(dropout_rate)\n",
        "\n",
        "    def forward(self, title):\n",
        "        # Convert word IDs to embeddings\n",
        "        embedded = self.embedding(title).float()  # (batch_size, seq_len, embedding_dim)\n",
        "        embedded = self.dropout(embedded)\n",
        "\n",
        "        # Apply word-level self-attention\n",
        "        attended = self.self_attention(embedded, embedded, embedded)\n",
        "\n",
        "        # Additive attention to aggregate word vectors into a single title representation\n",
        "        scores = F.softmax(self.additive_attention(attended), dim=1)  # (batch_size, seq_len, 1)\n",
        "        title_representation = torch.sum(attended * scores, dim=1)  # (batch_size, embedding_dim)\n",
        "\n",
        "        return title_representation\n",
        "\n",
        "class UserEncoder(nn.Module):\n",
        "    def __init__(self, embedding_dim, num_heads, head_dim, dropout_rate):\n",
        "        super().__init__()\n",
        "        self.self_attention = MultiHeadSelfAttention(num_heads, head_dim)\n",
        "        self.additive_attention = nn.Linear(embedding_dim, 1)\n",
        "        self.dropout = nn.Dropout(dropout_rate)\n",
        "\n",
        "    def forward(self, news_representations):\n",
        "        # Apply dropout\n",
        "        news_representations = self.dropout(news_representations)  # (batch_size, num_articles, embedding_dim)\n",
        "\n",
        "        # Apply news-level self-attention\n",
        "        attended = self.self_attention(news_representations, news_representations, news_representations)\n",
        "\n",
        "        # Additive attention to aggregate news vectors into a single user representation\n",
        "        scores = F.softmax(self.additive_attention(attended), dim=1)  # (batch_size, num_articles, 1)\n",
        "        user_representation = torch.sum(attended * scores, dim=1)  # (batch_size, embedding_dim)\n",
        "\n",
        "        return user_representation\n",
        "\n",
        "class NRMS(nn.Module):\n",
        "    def __init__(self, vocab_size, embedding_dim, num_heads, head_dim, dropout_rate):\n",
        "        super().__init__()\n",
        "        self.news_encoder = NewsEncoder(vocab_size, embedding_dim, num_heads, head_dim, dropout_rate)\n",
        "        self.user_encoder = UserEncoder(embedding_dim, num_heads, head_dim, dropout_rate)\n",
        "\n",
        "    def forward(self, candidate_titles, user_histories):\n",
        "        # Encode candidate news articles\n",
        "        candidate_representations = self.news_encoder(candidate_titles)  # (batch_size, embedding_dim)\n",
        "\n",
        "        # Encode user history (sequence of news embeddings)\n",
        "        batch_size, num_articles, title_length = user_histories.size()\n",
        "        user_histories = user_histories.view(batch_size * num_articles, title_length)  # Flatten for processing\n",
        "        user_histories_encoded = self.news_encoder(user_histories)  # Encode all titles at once\n",
        "        user_histories_encoded = user_histories_encoded.view(batch_size, num_articles, -1)  # Reshape back to batch format\n",
        "        user_representations = self.user_encoder(user_histories_encoded)  # (batch_size, embedding_dim)\n",
        "\n",
        "        # Dot product for click prediction\n",
        "        scores = torch.matmul(candidate_representations, user_representations.unsqueeze(-1)).squeeze(-1)\n",
        "\n",
        "        print(f\"Candidate representations shape: {candidate_representations.shape}\")\n",
        "        print(f\"User representations shape: {user_representations.shape}\")\n",
        "        print(f\"Final scores shape: {scores.shape}\")\n",
        "\n",
        "\n",
        "        return scores\n",
        " '''"
      ]
    },
    {
      "cell_type": "code",
      "execution_count": 15,
      "metadata": {
        "id": "4g19Cd-aIAXB"
      },
      "outputs": [],
      "source": [
        "class MultiheadAttention(nn.Module):\n",
        "    def __init__(self, embed_dim, num_heads, head_dim):\n",
        "        super(MultiheadAttention, self).__init__()\n",
        "\n",
        "        self.embed_dim = embed_dim\n",
        "        self.num_heads = num_heads\n",
        "        self.head_dim = head_dim\n",
        "\n",
        "        # Linear layers for Q, K, V\n",
        "        self.linear_q = nn.Linear(embed_dim, embed_dim)\n",
        "        self.linear_k = nn.Linear(embed_dim, embed_dim)\n",
        "        self.linear_v = nn.Linear(embed_dim, embed_dim)\n",
        "\n",
        "        # Final linear layer\n",
        "        self.final_linear = nn.Linear(embed_dim, embed_dim)\n",
        "\n",
        "        # Dropout layer\n",
        "        self.dropout = nn.Dropout(p=0.1)\n",
        "\n",
        "    def scaled_dot_product_attention(self, query, key, value):\n",
        "        # Calculate the dot product\n",
        "        scores = torch.matmul(query, key.transpose(-2, -1)) / (self.head_dim ** 0.5)\n",
        "\n",
        "        # Apply softmax to get attention scores\n",
        "        attn = F.softmax(scores, dim=-1)\n",
        "\n",
        "        # Apply dropout\n",
        "        attn = self.dropout(attn)\n",
        "\n",
        "        # Multiply by value\n",
        "        output = torch.matmul(attn, value)\n",
        "        return output\n",
        "\n",
        "    def forward(self, query, key, value):\n",
        "        batch_size = query.size(0)\n",
        "        seq_len = query.size(1)\n",
        "\n",
        "        # Perform linear operation and split into h heads\n",
        "\n",
        "        query = self.linear_q(query).view(batch_size, -1, self.num_heads, self.head_dim).transpose(1, 2)\n",
        "        key = self.linear_k(key).view(batch_size, -1, self.num_heads, self.head_dim).transpose(1, 2)\n",
        "        value = self.linear_v(value).view(batch_size, -1, self.num_heads, self.head_dim).transpose(1, 2)\n",
        "\n",
        "        # Apply scaled dot product attention\n",
        "        attn_output = self.scaled_dot_product_attention(query, key, value)\n",
        "\n",
        "\n",
        "        attn_output = attn_output.permute(0, 2, 1, 3).contiguous()  # Shape: (batch_size, seq_len, num_heads, head_dim)\n",
        "        attn_output = attn_output.view(batch_size, seq_len, -1)  # Shape: (batch_size, seq_len, embed_dim)\n",
        "\n",
        "        # combine and redistribute with a final layer\n",
        "        output = self.final_linear(attn_output)\n",
        "\n",
        "        return output\n",
        "\n",
        "class AdditiveAttention(nn.Module):\n",
        "    def __init__(self, embedding_dim):\n",
        "        \"\"\"\n",
        "        Additive attention mechanism based on the paper.\n",
        "        Args:\n",
        "            embedding_dim: The dimension of input embeddings (h^w_i in the paper).\n",
        "        \"\"\"\n",
        "        super(AdditiveAttention, self).__init__()\n",
        "        self.V_w = nn.Linear(embedding_dim, embedding_dim)  # V_w × h^w_i\n",
        "        self.q_w = nn.Parameter(torch.randn(embedding_dim))  # q_w (query vector)\n",
        "        self.v_w = nn.Parameter(torch.randn(1))  # v_w (bias scalar)\n",
        "\n",
        "    def forward(self, word_embeddings):\n",
        "        \"\"\"\n",
        "        Compute attention scores and weighted sum.\n",
        "        Args:\n",
        "            word_embeddings: Tensor of shape (batch_size, seq_len, embedding_dim)\n",
        "                             representing the sequence of word embeddings.\n",
        "        Returns:\n",
        "            Tensor of shape (batch_size, embedding_dim), which is the aggregated\n",
        "            representation of the sequence.\n",
        "        \"\"\"\n",
        "        # Apply V_w (Linear transformation)\n",
        "        Vh = self.V_w(word_embeddings)  # (batch_size, seq_len, embedding_dim)\n",
        "\n",
        "        # Compute additive attention scores\n",
        "        scores = torch.matmul(torch.tanh(Vh + self.v_w), self.q_w)  # (batch_size, seq_len)\n",
        "\n",
        "        # Apply softmax to get attention weights\n",
        "        attention_weights = F.softmax(scores, dim=1)  # (batch_size, seq_len)\n",
        "\n",
        "        # Weighted sum of word embeddings\n",
        "        aggregated_representation = torch.sum(word_embeddings * attention_weights.unsqueeze(-1), dim=1)  # (batch_size, embedding_dim)\n",
        "\n",
        "        return aggregated_representation, attention_weights\n",
        "\n",
        "\n",
        "class TitleEncoder(nn.Module):\n",
        "    def __init__(self, vocab_size, embed_dim, num_heads, head_dim, dropout_rate):\n",
        "        super(TitleEncoder, self).__init__()\n",
        "        self.embedding = nn.Embedding(vocab_size, embed_dim)  # Embedding layer for words\n",
        "        self.self_attention = MultiheadAttention(embed_dim, num_heads, head_dim)  # Multi-head self-attention\n",
        "        self.additive_attention = AdditiveAttention(embed_dim)  # Additive attention\n",
        "        self.dropout = nn.Dropout(dropout_rate)  # Dropout for regularization\n",
        "\n",
        "    def forward(self, title):\n",
        "        \"\"\"\n",
        "        Encodes a single title into a vector representation.\n",
        "\n",
        "        Args:\n",
        "            title: Tensor of shape (title_length,), representing the sequence of word indices in the title.\n",
        "\n",
        "        Returns:\n",
        "            Tensor of shape (embed_dim,), representing the encoded title.\n",
        "        \"\"\"\n",
        "        # Ensure the input is batched\n",
        "        title = title.unsqueeze(0)  # Add batch dimension: (1, title_length)\n",
        "\n",
        "        # Embed the input title\n",
        "        embedded = self.embedding(title)  # (1, title_length, embed_dim)\n",
        "        embedded = self.dropout(embedded)\n",
        "\n",
        "        # Apply multi-head self-attention\n",
        "        attended = self.self_attention(\n",
        "            embedded, embedded, embedded\n",
        "        )  # (1, title_length, embed_dim)\n",
        "\n",
        "        # Additive attention to aggregate word representations into a single vector\n",
        "        aggregated_representation, _ = self.additive_attention(attended)  # (1, embed_dim)\n",
        "\n",
        "        return aggregated_representation.squeeze(0)  # Remove batch dimension: (embed_dim,)\n",
        "\n",
        "class UserEncoder(nn.Module):\n",
        "    def __init__(self, embedding_dim, num_heads, head_dim, dropout_rate):\n",
        "        \"\"\"\n",
        "        User-level multi-head self-attention encoder.\n",
        "\n",
        "        Args:\n",
        "            embedding_dim: Dimension of the input title embeddings.\n",
        "            num_heads: Number of attention heads.\n",
        "            head_dim: Dimension of each attention head.\n",
        "            dropout_rate: Dropout rate for regularization.\n",
        "        \"\"\"\n",
        "        super(UserEncoder, self).__init__()\n",
        "        self.self_attention = MultiheadAttention(embedding_dim, num_heads, head_dim)\n",
        "        self.additive_attention = AdditiveAttention(embedding_dim)\n",
        "        self.dropout = nn.Dropout(dropout_rate)\n",
        "\n",
        "    def forward(self, title_representations):\n",
        "        \"\"\"\n",
        "        Forward pass for user-level multi-head self-attention.\n",
        "\n",
        "        Args:\n",
        "            title_representations: Tensor of shape (batch_size, num_titles, embedding_dim),\n",
        "                                   representing the encoded representations of clicked articles for each user.\n",
        "\n",
        "        Returns:\n",
        "            user_representation: Tensor of shape (batch_size, embedding_dim), the final user embedding.\n",
        "            attention_weights: Tensor of shape (batch_size, num_titles), the attention weights for interpretability.\n",
        "        \"\"\"\n",
        "        # Apply dropout to title representations\n",
        "        title_representations = self.dropout(title_representations)\n",
        "\n",
        "        # Apply multi-head self-attention on the title representations\n",
        "        enhanced_representations = self.self_attention(\n",
        "            title_representations, title_representations, title_representations\n",
        "        )  # (batch_size, num_titles, embedding_dim)\n",
        "\n",
        "        # Use additive attention to compute the final user representation\n",
        "        user_representation, attention_weights = self.additive_attention(enhanced_representations)\n",
        "\n",
        "        return user_representation, attention_weights\n",
        "\n",
        "class NRMSUserPipeline(nn.Module):\n",
        "    def __init__(self, vocab_size, embedding_dim, num_heads, head_dim, dropout_rate):\n",
        "        \"\"\"\n",
        "        NRMS pipeline combining TitleEncoder and UserEncoder.\n",
        "\n",
        "        Args:\n",
        "            vocab_size: Size of the vocabulary.\n",
        "            embedding_dim: Dimension of the input/output embeddings.\n",
        "            num_heads: Number of attention heads for the multi-head attention.\n",
        "            head_dim: Dimension of each attention head.\n",
        "            dropout_rate: Dropout rate for regularization.\n",
        "        \"\"\"\n",
        "        super(NRMSUserPipeline, self).__init__()\n",
        "        self.title_encoder = TitleEncoder(vocab_size, embedding_dim, num_heads, head_dim, dropout_rate)\n",
        "        self.user_encoder = UserEncoder(embedding_dim, num_heads, head_dim, dropout_rate)\n",
        "\n",
        "    def forward(self, user_histories):\n",
        "        \"\"\"\n",
        "        Forward pass for the NRMS pipeline.\n",
        "\n",
        "        Args:\n",
        "            user_histories: Tensor of shape (batch_size, num_titles, title_length),\n",
        "                            representing the word IDs for clicked articles of each user.\n",
        "\n",
        "        Returns:\n",
        "            user_representation: Tensor of shape (batch_size, embedding_dim), the final user embedding.\n",
        "            attention_weights: Tensor of shape (batch_size, num_titles), attention weights for interpretability.\n",
        "        \"\"\"\n",
        "        #num_titles, title_length = user_histories.size()\n",
        "\n",
        "        # Reshape to process all titles in the batch through the TitleEncoder\n",
        "        #user_histories = user_histories.view(num_titles, title_length)  # (batch_size * num_titles, title_length)\n",
        "\n",
        "        # Pass through TitleEncoder to get title representations\n",
        "        title_representations = self.title_encoder(user_histories)  # (batch_size * num_titles, embedding_dim)\n",
        "\n",
        "        # Reshape back to original batch structure\n",
        "        #title_representations = title_representations.view(batch_size, num_titles, -1)  # (batch_size, num_titles, embedding_dim)\n",
        "\n",
        "        # Pass through UserEncoder to get user representation\n",
        "        user_representation, attention_weights = self.user_encoder(title_representations)\n",
        "\n",
        "        return user_representation, attention_weights\n"
      ]
    },
    {
      "cell_type": "code",
      "execution_count": 16,
      "metadata": {
        "colab": {
          "base_uri": "https://localhost:8080/"
        },
        "id": "V9pm-svWm7Vd",
        "outputId": "ee9d9122-e97e-4451-8f06-71c5a66d5a43"
      },
      "outputs": [
        {
          "name": "stdout",
          "output_type": "stream",
          "text": [
            "Title Representation Shape: torch.Size([300])\n"
          ]
        }
      ],
      "source": [
        "import torch\n",
        "\n",
        "# Mock single title: 6 words in the title\n",
        "mock_title = torch.randint(0, 100, (6,))  # Shape: (title_length=6)\n",
        "\n",
        "# Define the TitleEncoder\n",
        "vocab_size = 100  # Mock vocabulary size\n",
        "embedding_dim = 300\n",
        "num_heads = 4\n",
        "head_dim = 75\n",
        "dropout_rate = 0.1\n",
        "\n",
        "title_encoder = TitleEncoder(vocab_size, embedding_dim, num_heads, head_dim, dropout_rate)\n",
        "\n",
        "# Forward pass for a single title\n",
        "title_representation = title_encoder(mock_title)\n",
        "\n",
        "print(\"Title Representation Shape:\", title_representation.shape)  # Expected: (embed_dim=300)\n"
      ]
    },
    {
      "cell_type": "code",
      "execution_count": 17,
      "metadata": {
        "id": "00fF_3PUrzAC"
      },
      "outputs": [],
      "source": [
        "mock_titles = torch.randint(0, 100, (2, 6))  # (batch_size=2, title_length=6)"
      ]
    },
    {
      "cell_type": "code",
      "execution_count": 18,
      "metadata": {
        "colab": {
          "base_uri": "https://localhost:8080/",
          "height": 365
        },
        "id": "n0wkSOuFU-YH",
        "outputId": "b7cc64cb-3fee-4b4a-f23f-be7b54ce7039"
      },
      "outputs": [
        {
          "ename": "RuntimeError",
          "evalue": "shape '[1, -1, 16, 16]' is invalid for input of size 15000",
          "output_type": "error",
          "traceback": [
            "\u001b[0;31m---------------------------------------------------------------------------\u001b[0m",
            "\u001b[0;31mRuntimeError\u001b[0m                              Traceback (most recent call last)",
            "\u001b[1;32m/Users/paulagranlund/Documents/GitHub/New-Recommendation-NRMS/Torch_Baseline-NRMS_3_Kalle_copy_for_gdrive.ipynb Cell 22\u001b[0m line \u001b[0;36m1\n\u001b[1;32m     <a href='vscode-notebook-cell:/Users/paulagranlund/Documents/GitHub/New-Recommendation-NRMS/Torch_Baseline-NRMS_3_Kalle_copy_for_gdrive.ipynb#X26sZmlsZQ%3D%3D?line=12'>13</a>\u001b[0m nrms_pipeline \u001b[39m=\u001b[39m NRMSUserPipeline(vocab_size, embedding_dim, num_heads, head_dim, dropout_rate)\n\u001b[1;32m     <a href='vscode-notebook-cell:/Users/paulagranlund/Documents/GitHub/New-Recommendation-NRMS/Torch_Baseline-NRMS_3_Kalle_copy_for_gdrive.ipynb#X26sZmlsZQ%3D%3D?line=14'>15</a>\u001b[0m \u001b[39m# Forward pass\u001b[39;00m\n\u001b[0;32m---> <a href='vscode-notebook-cell:/Users/paulagranlund/Documents/GitHub/New-Recommendation-NRMS/Torch_Baseline-NRMS_3_Kalle_copy_for_gdrive.ipynb#X26sZmlsZQ%3D%3D?line=15'>16</a>\u001b[0m user_representation, attention_weights \u001b[39m=\u001b[39m nrms_pipeline(mock_user_histories)\n\u001b[1;32m     <a href='vscode-notebook-cell:/Users/paulagranlund/Documents/GitHub/New-Recommendation-NRMS/Torch_Baseline-NRMS_3_Kalle_copy_for_gdrive.ipynb#X26sZmlsZQ%3D%3D?line=17'>18</a>\u001b[0m \u001b[39mprint\u001b[39m(\u001b[39m\"\u001b[39m\u001b[39mUser Representation Shape:\u001b[39m\u001b[39m\"\u001b[39m, user_representation\u001b[39m.\u001b[39mshape)  \u001b[39m# Expected: (batch_size=4, embedding_dim=300)\u001b[39;00m\n\u001b[1;32m     <a href='vscode-notebook-cell:/Users/paulagranlund/Documents/GitHub/New-Recommendation-NRMS/Torch_Baseline-NRMS_3_Kalle_copy_for_gdrive.ipynb#X26sZmlsZQ%3D%3D?line=18'>19</a>\u001b[0m \u001b[39mprint\u001b[39m(\u001b[39m\"\u001b[39m\u001b[39mAttention Weights Shape:\u001b[39m\u001b[39m\"\u001b[39m, attention_weights\u001b[39m.\u001b[39mshape)      \u001b[39m# Expected: (batch_size=4, num_titles=5)\u001b[39;00m\n",
            "File \u001b[0;32m~/Documents/GitHub/New-Recommendation-NRMS/.venv/lib/python3.9/site-packages/torch/nn/modules/module.py:1736\u001b[0m, in \u001b[0;36mModule._wrapped_call_impl\u001b[0;34m(self, *args, **kwargs)\u001b[0m\n\u001b[1;32m   1734\u001b[0m     \u001b[39mreturn\u001b[39;00m \u001b[39mself\u001b[39m\u001b[39m.\u001b[39m_compiled_call_impl(\u001b[39m*\u001b[39margs, \u001b[39m*\u001b[39m\u001b[39m*\u001b[39mkwargs)  \u001b[39m# type: ignore[misc]\u001b[39;00m\n\u001b[1;32m   1735\u001b[0m \u001b[39melse\u001b[39;00m:\n\u001b[0;32m-> 1736\u001b[0m     \u001b[39mreturn\u001b[39;00m \u001b[39mself\u001b[39;49m\u001b[39m.\u001b[39;49m_call_impl(\u001b[39m*\u001b[39;49margs, \u001b[39m*\u001b[39;49m\u001b[39m*\u001b[39;49mkwargs)\n",
            "File \u001b[0;32m~/Documents/GitHub/New-Recommendation-NRMS/.venv/lib/python3.9/site-packages/torch/nn/modules/module.py:1747\u001b[0m, in \u001b[0;36mModule._call_impl\u001b[0;34m(self, *args, **kwargs)\u001b[0m\n\u001b[1;32m   1742\u001b[0m \u001b[39m# If we don't have any hooks, we want to skip the rest of the logic in\u001b[39;00m\n\u001b[1;32m   1743\u001b[0m \u001b[39m# this function, and just call forward.\u001b[39;00m\n\u001b[1;32m   1744\u001b[0m \u001b[39mif\u001b[39;00m \u001b[39mnot\u001b[39;00m (\u001b[39mself\u001b[39m\u001b[39m.\u001b[39m_backward_hooks \u001b[39mor\u001b[39;00m \u001b[39mself\u001b[39m\u001b[39m.\u001b[39m_backward_pre_hooks \u001b[39mor\u001b[39;00m \u001b[39mself\u001b[39m\u001b[39m.\u001b[39m_forward_hooks \u001b[39mor\u001b[39;00m \u001b[39mself\u001b[39m\u001b[39m.\u001b[39m_forward_pre_hooks\n\u001b[1;32m   1745\u001b[0m         \u001b[39mor\u001b[39;00m _global_backward_pre_hooks \u001b[39mor\u001b[39;00m _global_backward_hooks\n\u001b[1;32m   1746\u001b[0m         \u001b[39mor\u001b[39;00m _global_forward_hooks \u001b[39mor\u001b[39;00m _global_forward_pre_hooks):\n\u001b[0;32m-> 1747\u001b[0m     \u001b[39mreturn\u001b[39;00m forward_call(\u001b[39m*\u001b[39;49margs, \u001b[39m*\u001b[39;49m\u001b[39m*\u001b[39;49mkwargs)\n\u001b[1;32m   1749\u001b[0m result \u001b[39m=\u001b[39m \u001b[39mNone\u001b[39;00m\n\u001b[1;32m   1750\u001b[0m called_always_called_hooks \u001b[39m=\u001b[39m \u001b[39mset\u001b[39m()\n",
            "\u001b[1;32m/Users/paulagranlund/Documents/GitHub/New-Recommendation-NRMS/Torch_Baseline-NRMS_3_Kalle_copy_for_gdrive.ipynb Cell 22\u001b[0m line \u001b[0;36m2\n\u001b[1;32m    <a href='vscode-notebook-cell:/Users/paulagranlund/Documents/GitHub/New-Recommendation-NRMS/Torch_Baseline-NRMS_3_Kalle_copy_for_gdrive.ipynb#X26sZmlsZQ%3D%3D?line=185'>186</a>\u001b[0m \u001b[39m\u001b[39m\u001b[39m\"\"\"\u001b[39;00m\n\u001b[1;32m    <a href='vscode-notebook-cell:/Users/paulagranlund/Documents/GitHub/New-Recommendation-NRMS/Torch_Baseline-NRMS_3_Kalle_copy_for_gdrive.ipynb#X26sZmlsZQ%3D%3D?line=186'>187</a>\u001b[0m \u001b[39mForward pass for the NRMS pipeline.\u001b[39;00m\n\u001b[1;32m    <a href='vscode-notebook-cell:/Users/paulagranlund/Documents/GitHub/New-Recommendation-NRMS/Torch_Baseline-NRMS_3_Kalle_copy_for_gdrive.ipynb#X26sZmlsZQ%3D%3D?line=187'>188</a>\u001b[0m \n\u001b[0;32m   (...)\u001b[0m\n\u001b[1;32m    <a href='vscode-notebook-cell:/Users/paulagranlund/Documents/GitHub/New-Recommendation-NRMS/Torch_Baseline-NRMS_3_Kalle_copy_for_gdrive.ipynb#X26sZmlsZQ%3D%3D?line=194'>195</a>\u001b[0m \u001b[39m    attention_weights: Tensor of shape (batch_size, num_titles), attention weights for interpretability.\u001b[39;00m\n\u001b[1;32m    <a href='vscode-notebook-cell:/Users/paulagranlund/Documents/GitHub/New-Recommendation-NRMS/Torch_Baseline-NRMS_3_Kalle_copy_for_gdrive.ipynb#X26sZmlsZQ%3D%3D?line=195'>196</a>\u001b[0m \u001b[39m\"\"\"\u001b[39;00m\n\u001b[1;32m    <a href='vscode-notebook-cell:/Users/paulagranlund/Documents/GitHub/New-Recommendation-NRMS/Torch_Baseline-NRMS_3_Kalle_copy_for_gdrive.ipynb#X26sZmlsZQ%3D%3D?line=196'>197</a>\u001b[0m \u001b[39m#num_titles, title_length = user_histories.size()\u001b[39;00m\n\u001b[1;32m    <a href='vscode-notebook-cell:/Users/paulagranlund/Documents/GitHub/New-Recommendation-NRMS/Torch_Baseline-NRMS_3_Kalle_copy_for_gdrive.ipynb#X26sZmlsZQ%3D%3D?line=197'>198</a>\u001b[0m \n\u001b[1;32m    <a href='vscode-notebook-cell:/Users/paulagranlund/Documents/GitHub/New-Recommendation-NRMS/Torch_Baseline-NRMS_3_Kalle_copy_for_gdrive.ipynb#X26sZmlsZQ%3D%3D?line=198'>199</a>\u001b[0m \u001b[39m# Reshape to process all titles in the batch through the TitleEncoder\u001b[39;00m\n\u001b[1;32m    <a href='vscode-notebook-cell:/Users/paulagranlund/Documents/GitHub/New-Recommendation-NRMS/Torch_Baseline-NRMS_3_Kalle_copy_for_gdrive.ipynb#X26sZmlsZQ%3D%3D?line=199'>200</a>\u001b[0m \u001b[39m#user_histories = user_histories.view(num_titles, title_length)  # (batch_size * num_titles, title_length)\u001b[39;00m\n\u001b[1;32m    <a href='vscode-notebook-cell:/Users/paulagranlund/Documents/GitHub/New-Recommendation-NRMS/Torch_Baseline-NRMS_3_Kalle_copy_for_gdrive.ipynb#X26sZmlsZQ%3D%3D?line=200'>201</a>\u001b[0m \n\u001b[1;32m    <a href='vscode-notebook-cell:/Users/paulagranlund/Documents/GitHub/New-Recommendation-NRMS/Torch_Baseline-NRMS_3_Kalle_copy_for_gdrive.ipynb#X26sZmlsZQ%3D%3D?line=201'>202</a>\u001b[0m \u001b[39m# Pass through TitleEncoder to get title representations\u001b[39;00m\n\u001b[0;32m--> <a href='vscode-notebook-cell:/Users/paulagranlund/Documents/GitHub/New-Recommendation-NRMS/Torch_Baseline-NRMS_3_Kalle_copy_for_gdrive.ipynb#X26sZmlsZQ%3D%3D?line=202'>203</a>\u001b[0m title_representations \u001b[39m=\u001b[39m \u001b[39mself\u001b[39;49m\u001b[39m.\u001b[39;49mtitle_encoder(user_histories)  \u001b[39m# (batch_size * num_titles, embedding_dim)\u001b[39;00m\n\u001b[1;32m    <a href='vscode-notebook-cell:/Users/paulagranlund/Documents/GitHub/New-Recommendation-NRMS/Torch_Baseline-NRMS_3_Kalle_copy_for_gdrive.ipynb#X26sZmlsZQ%3D%3D?line=204'>205</a>\u001b[0m \u001b[39m# Reshape back to original batch structure\u001b[39;00m\n\u001b[1;32m    <a href='vscode-notebook-cell:/Users/paulagranlund/Documents/GitHub/New-Recommendation-NRMS/Torch_Baseline-NRMS_3_Kalle_copy_for_gdrive.ipynb#X26sZmlsZQ%3D%3D?line=205'>206</a>\u001b[0m \u001b[39m#title_representations = title_representations.view(batch_size, num_titles, -1)  # (batch_size, num_titles, embedding_dim)\u001b[39;00m\n\u001b[1;32m    <a href='vscode-notebook-cell:/Users/paulagranlund/Documents/GitHub/New-Recommendation-NRMS/Torch_Baseline-NRMS_3_Kalle_copy_for_gdrive.ipynb#X26sZmlsZQ%3D%3D?line=206'>207</a>\u001b[0m \n\u001b[1;32m    <a href='vscode-notebook-cell:/Users/paulagranlund/Documents/GitHub/New-Recommendation-NRMS/Torch_Baseline-NRMS_3_Kalle_copy_for_gdrive.ipynb#X26sZmlsZQ%3D%3D?line=207'>208</a>\u001b[0m \u001b[39m# Pass through UserEncoder to get user representation\u001b[39;00m\n\u001b[1;32m    <a href='vscode-notebook-cell:/Users/paulagranlund/Documents/GitHub/New-Recommendation-NRMS/Torch_Baseline-NRMS_3_Kalle_copy_for_gdrive.ipynb#X26sZmlsZQ%3D%3D?line=208'>209</a>\u001b[0m user_representation, attention_weights \u001b[39m=\u001b[39m \u001b[39mself\u001b[39m\u001b[39m.\u001b[39muser_encoder(title_representations)\n",
            "File \u001b[0;32m~/Documents/GitHub/New-Recommendation-NRMS/.venv/lib/python3.9/site-packages/torch/nn/modules/module.py:1736\u001b[0m, in \u001b[0;36mModule._wrapped_call_impl\u001b[0;34m(self, *args, **kwargs)\u001b[0m\n\u001b[1;32m   1734\u001b[0m     \u001b[39mreturn\u001b[39;00m \u001b[39mself\u001b[39m\u001b[39m.\u001b[39m_compiled_call_impl(\u001b[39m*\u001b[39margs, \u001b[39m*\u001b[39m\u001b[39m*\u001b[39mkwargs)  \u001b[39m# type: ignore[misc]\u001b[39;00m\n\u001b[1;32m   1735\u001b[0m \u001b[39melse\u001b[39;00m:\n\u001b[0;32m-> 1736\u001b[0m     \u001b[39mreturn\u001b[39;00m \u001b[39mself\u001b[39;49m\u001b[39m.\u001b[39;49m_call_impl(\u001b[39m*\u001b[39;49margs, \u001b[39m*\u001b[39;49m\u001b[39m*\u001b[39;49mkwargs)\n",
            "File \u001b[0;32m~/Documents/GitHub/New-Recommendation-NRMS/.venv/lib/python3.9/site-packages/torch/nn/modules/module.py:1747\u001b[0m, in \u001b[0;36mModule._call_impl\u001b[0;34m(self, *args, **kwargs)\u001b[0m\n\u001b[1;32m   1742\u001b[0m \u001b[39m# If we don't have any hooks, we want to skip the rest of the logic in\u001b[39;00m\n\u001b[1;32m   1743\u001b[0m \u001b[39m# this function, and just call forward.\u001b[39;00m\n\u001b[1;32m   1744\u001b[0m \u001b[39mif\u001b[39;00m \u001b[39mnot\u001b[39;00m (\u001b[39mself\u001b[39m\u001b[39m.\u001b[39m_backward_hooks \u001b[39mor\u001b[39;00m \u001b[39mself\u001b[39m\u001b[39m.\u001b[39m_backward_pre_hooks \u001b[39mor\u001b[39;00m \u001b[39mself\u001b[39m\u001b[39m.\u001b[39m_forward_hooks \u001b[39mor\u001b[39;00m \u001b[39mself\u001b[39m\u001b[39m.\u001b[39m_forward_pre_hooks\n\u001b[1;32m   1745\u001b[0m         \u001b[39mor\u001b[39;00m _global_backward_pre_hooks \u001b[39mor\u001b[39;00m _global_backward_hooks\n\u001b[1;32m   1746\u001b[0m         \u001b[39mor\u001b[39;00m _global_forward_hooks \u001b[39mor\u001b[39;00m _global_forward_pre_hooks):\n\u001b[0;32m-> 1747\u001b[0m     \u001b[39mreturn\u001b[39;00m forward_call(\u001b[39m*\u001b[39;49margs, \u001b[39m*\u001b[39;49m\u001b[39m*\u001b[39;49mkwargs)\n\u001b[1;32m   1749\u001b[0m result \u001b[39m=\u001b[39m \u001b[39mNone\u001b[39;00m\n\u001b[1;32m   1750\u001b[0m called_always_called_hooks \u001b[39m=\u001b[39m \u001b[39mset\u001b[39m()\n",
            "\u001b[1;32m/Users/paulagranlund/Documents/GitHub/New-Recommendation-NRMS/Torch_Baseline-NRMS_3_Kalle_copy_for_gdrive.ipynb Cell 22\u001b[0m line \u001b[0;36m1\n\u001b[1;32m    <a href='vscode-notebook-cell:/Users/paulagranlund/Documents/GitHub/New-Recommendation-NRMS/Torch_Baseline-NRMS_3_Kalle_copy_for_gdrive.ipynb#X26sZmlsZQ%3D%3D?line=115'>116</a>\u001b[0m embedded \u001b[39m=\u001b[39m \u001b[39mself\u001b[39m\u001b[39m.\u001b[39mdropout(embedded)\n\u001b[1;32m    <a href='vscode-notebook-cell:/Users/paulagranlund/Documents/GitHub/New-Recommendation-NRMS/Torch_Baseline-NRMS_3_Kalle_copy_for_gdrive.ipynb#X26sZmlsZQ%3D%3D?line=117'>118</a>\u001b[0m \u001b[39m# Apply multi-head self-attention\u001b[39;00m\n\u001b[0;32m--> <a href='vscode-notebook-cell:/Users/paulagranlund/Documents/GitHub/New-Recommendation-NRMS/Torch_Baseline-NRMS_3_Kalle_copy_for_gdrive.ipynb#X26sZmlsZQ%3D%3D?line=118'>119</a>\u001b[0m attended \u001b[39m=\u001b[39m \u001b[39mself\u001b[39;49m\u001b[39m.\u001b[39;49mself_attention(\n\u001b[1;32m    <a href='vscode-notebook-cell:/Users/paulagranlund/Documents/GitHub/New-Recommendation-NRMS/Torch_Baseline-NRMS_3_Kalle_copy_for_gdrive.ipynb#X26sZmlsZQ%3D%3D?line=119'>120</a>\u001b[0m     embedded, embedded, embedded\n\u001b[1;32m    <a href='vscode-notebook-cell:/Users/paulagranlund/Documents/GitHub/New-Recommendation-NRMS/Torch_Baseline-NRMS_3_Kalle_copy_for_gdrive.ipynb#X26sZmlsZQ%3D%3D?line=120'>121</a>\u001b[0m )  \u001b[39m# (1, title_length, embed_dim)\u001b[39;00m\n\u001b[1;32m    <a href='vscode-notebook-cell:/Users/paulagranlund/Documents/GitHub/New-Recommendation-NRMS/Torch_Baseline-NRMS_3_Kalle_copy_for_gdrive.ipynb#X26sZmlsZQ%3D%3D?line=122'>123</a>\u001b[0m \u001b[39m# Additive attention to aggregate word representations into a single vector\u001b[39;00m\n\u001b[1;32m    <a href='vscode-notebook-cell:/Users/paulagranlund/Documents/GitHub/New-Recommendation-NRMS/Torch_Baseline-NRMS_3_Kalle_copy_for_gdrive.ipynb#X26sZmlsZQ%3D%3D?line=123'>124</a>\u001b[0m aggregated_representation, _ \u001b[39m=\u001b[39m \u001b[39mself\u001b[39m\u001b[39m.\u001b[39madditive_attention(attended)  \u001b[39m# (1, embed_dim)\u001b[39;00m\n",
            "File \u001b[0;32m~/Documents/GitHub/New-Recommendation-NRMS/.venv/lib/python3.9/site-packages/torch/nn/modules/module.py:1736\u001b[0m, in \u001b[0;36mModule._wrapped_call_impl\u001b[0;34m(self, *args, **kwargs)\u001b[0m\n\u001b[1;32m   1734\u001b[0m     \u001b[39mreturn\u001b[39;00m \u001b[39mself\u001b[39m\u001b[39m.\u001b[39m_compiled_call_impl(\u001b[39m*\u001b[39margs, \u001b[39m*\u001b[39m\u001b[39m*\u001b[39mkwargs)  \u001b[39m# type: ignore[misc]\u001b[39;00m\n\u001b[1;32m   1735\u001b[0m \u001b[39melse\u001b[39;00m:\n\u001b[0;32m-> 1736\u001b[0m     \u001b[39mreturn\u001b[39;00m \u001b[39mself\u001b[39;49m\u001b[39m.\u001b[39;49m_call_impl(\u001b[39m*\u001b[39;49margs, \u001b[39m*\u001b[39;49m\u001b[39m*\u001b[39;49mkwargs)\n",
            "File \u001b[0;32m~/Documents/GitHub/New-Recommendation-NRMS/.venv/lib/python3.9/site-packages/torch/nn/modules/module.py:1747\u001b[0m, in \u001b[0;36mModule._call_impl\u001b[0;34m(self, *args, **kwargs)\u001b[0m\n\u001b[1;32m   1742\u001b[0m \u001b[39m# If we don't have any hooks, we want to skip the rest of the logic in\u001b[39;00m\n\u001b[1;32m   1743\u001b[0m \u001b[39m# this function, and just call forward.\u001b[39;00m\n\u001b[1;32m   1744\u001b[0m \u001b[39mif\u001b[39;00m \u001b[39mnot\u001b[39;00m (\u001b[39mself\u001b[39m\u001b[39m.\u001b[39m_backward_hooks \u001b[39mor\u001b[39;00m \u001b[39mself\u001b[39m\u001b[39m.\u001b[39m_backward_pre_hooks \u001b[39mor\u001b[39;00m \u001b[39mself\u001b[39m\u001b[39m.\u001b[39m_forward_hooks \u001b[39mor\u001b[39;00m \u001b[39mself\u001b[39m\u001b[39m.\u001b[39m_forward_pre_hooks\n\u001b[1;32m   1745\u001b[0m         \u001b[39mor\u001b[39;00m _global_backward_pre_hooks \u001b[39mor\u001b[39;00m _global_backward_hooks\n\u001b[1;32m   1746\u001b[0m         \u001b[39mor\u001b[39;00m _global_forward_hooks \u001b[39mor\u001b[39;00m _global_forward_pre_hooks):\n\u001b[0;32m-> 1747\u001b[0m     \u001b[39mreturn\u001b[39;00m forward_call(\u001b[39m*\u001b[39;49margs, \u001b[39m*\u001b[39;49m\u001b[39m*\u001b[39;49mkwargs)\n\u001b[1;32m   1749\u001b[0m result \u001b[39m=\u001b[39m \u001b[39mNone\u001b[39;00m\n\u001b[1;32m   1750\u001b[0m called_always_called_hooks \u001b[39m=\u001b[39m \u001b[39mset\u001b[39m()\n",
            "\u001b[1;32m/Users/paulagranlund/Documents/GitHub/New-Recommendation-NRMS/Torch_Baseline-NRMS_3_Kalle_copy_for_gdrive.ipynb Cell 22\u001b[0m line \u001b[0;36m4\n\u001b[1;32m     <a href='vscode-notebook-cell:/Users/paulagranlund/Documents/GitHub/New-Recommendation-NRMS/Torch_Baseline-NRMS_3_Kalle_copy_for_gdrive.ipynb#X26sZmlsZQ%3D%3D?line=35'>36</a>\u001b[0m seq_len \u001b[39m=\u001b[39m query\u001b[39m.\u001b[39msize(\u001b[39m1\u001b[39m)\n\u001b[1;32m     <a href='vscode-notebook-cell:/Users/paulagranlund/Documents/GitHub/New-Recommendation-NRMS/Torch_Baseline-NRMS_3_Kalle_copy_for_gdrive.ipynb#X26sZmlsZQ%3D%3D?line=37'>38</a>\u001b[0m \u001b[39m# Perform linear operation and split into h heads\u001b[39;00m\n\u001b[0;32m---> <a href='vscode-notebook-cell:/Users/paulagranlund/Documents/GitHub/New-Recommendation-NRMS/Torch_Baseline-NRMS_3_Kalle_copy_for_gdrive.ipynb#X26sZmlsZQ%3D%3D?line=39'>40</a>\u001b[0m query \u001b[39m=\u001b[39m \u001b[39mself\u001b[39;49m\u001b[39m.\u001b[39;49mlinear_q(query)\u001b[39m.\u001b[39;49mview(batch_size, \u001b[39m-\u001b[39;49m\u001b[39m1\u001b[39;49m, \u001b[39mself\u001b[39;49m\u001b[39m.\u001b[39;49mnum_heads, \u001b[39mself\u001b[39;49m\u001b[39m.\u001b[39;49mhead_dim)\u001b[39m.\u001b[39mtranspose(\u001b[39m1\u001b[39m, \u001b[39m2\u001b[39m)\n\u001b[1;32m     <a href='vscode-notebook-cell:/Users/paulagranlund/Documents/GitHub/New-Recommendation-NRMS/Torch_Baseline-NRMS_3_Kalle_copy_for_gdrive.ipynb#X26sZmlsZQ%3D%3D?line=40'>41</a>\u001b[0m key \u001b[39m=\u001b[39m \u001b[39mself\u001b[39m\u001b[39m.\u001b[39mlinear_k(key)\u001b[39m.\u001b[39mview(batch_size, \u001b[39m-\u001b[39m\u001b[39m1\u001b[39m, \u001b[39mself\u001b[39m\u001b[39m.\u001b[39mnum_heads, \u001b[39mself\u001b[39m\u001b[39m.\u001b[39mhead_dim)\u001b[39m.\u001b[39mtranspose(\u001b[39m1\u001b[39m, \u001b[39m2\u001b[39m)\n\u001b[1;32m     <a href='vscode-notebook-cell:/Users/paulagranlund/Documents/GitHub/New-Recommendation-NRMS/Torch_Baseline-NRMS_3_Kalle_copy_for_gdrive.ipynb#X26sZmlsZQ%3D%3D?line=41'>42</a>\u001b[0m value \u001b[39m=\u001b[39m \u001b[39mself\u001b[39m\u001b[39m.\u001b[39mlinear_v(value)\u001b[39m.\u001b[39mview(batch_size, \u001b[39m-\u001b[39m\u001b[39m1\u001b[39m, \u001b[39mself\u001b[39m\u001b[39m.\u001b[39mnum_heads, \u001b[39mself\u001b[39m\u001b[39m.\u001b[39mhead_dim)\u001b[39m.\u001b[39mtranspose(\u001b[39m1\u001b[39m, \u001b[39m2\u001b[39m)\n",
            "\u001b[0;31mRuntimeError\u001b[0m: shape '[1, -1, 16, 16]' is invalid for input of size 15000"
          ]
        }
      ],
      "source": [
        "import torch\n",
        "\n",
        "# Mock data: 4 users, each with 5 clicked articles, each article having 10 words\n",
        "mock_user_histories = torch.randint(0, 100, (5, 10))  # (batch_size=4, num_titles=5, title_length=10)\n",
        "\n",
        "# Define pipeline\n",
        "vocab_size = 100  # Mock vocabulary size\n",
        "embedding_dim = 300\n",
        "num_heads = 16\n",
        "head_dim = 16\n",
        "dropout_rate = 0.1\n",
        "\n",
        "nrms_pipeline = NRMSUserPipeline(vocab_size, embedding_dim, num_heads, head_dim, dropout_rate)\n",
        "\n",
        "# Forward pass\n",
        "user_representation, attention_weights = nrms_pipeline(mock_user_histories)\n",
        "\n",
        "print(\"User Representation Shape:\", user_representation.shape)  # Expected: (batch_size=4, embedding_dim=300)\n",
        "print(\"Attention Weights Shape:\", attention_weights.shape)      # Expected: (batch_size=4, num_titles=5)"
      ]
    },
    {
      "cell_type": "code",
      "execution_count": 82,
      "metadata": {
        "colab": {
          "base_uri": "https://localhost:8080/"
        },
        "id": "qSzgYgmXkWYZ",
        "outputId": "e55d9e01-b659-4fac-bf18-4ac4494f138a"
      },
      "outputs": [
        {
          "data": {
            "text/plain": [
              "tensor([[66, 61, 57,  7, 25, 96, 61, 21, 60, 97],\n",
              "        [53, 40, 14, 50, 84, 63, 43, 29, 93, 78],\n",
              "        [45, 61, 64, 45, 21, 17, 91, 34, 20, 97],\n",
              "        [55, 44, 87, 37, 88, 29,  2, 75,  4, 33],\n",
              "        [24, 83, 41, 65, 80, 19, 28, 87, 63, 64]])"
            ]
          },
          "execution_count": 82,
          "metadata": {},
          "output_type": "execute_result"
        }
      ],
      "source": [
        "mock_user_histories.view(5, 10)"
      ]
    },
    {
      "cell_type": "code",
      "execution_count": 56,
      "metadata": {
        "id": "fjKXYUMEVIXv"
      },
      "outputs": [],
      "source": [
        "# Example hyperparameters\n",
        "vocab_size = 100\n",
        "embedding_dim = 300\n",
        "num_heads = 4\n",
        "dropout_rate = 0.1\n",
        "\n",
        "# Instantiate the TitleEncoder\n",
        "title_encoder = TitleEncoder(vocab_size, embedding_dim, num_heads, dropout_rate)\n",
        "\n",
        "# Move the model to GPU if available\n",
        "device = torch.device('cuda' if torch.cuda.is_available() else 'cpu')\n",
        "title_encoder = title_encoder.to(device)\n",
        "\n",
        "# Move the mock input to the same device\n",
        "mock_titles = mock_titles.to(device)"
      ]
    },
    {
      "cell_type": "code",
      "execution_count": 23,
      "metadata": {
        "id": "Y_8BpxjG583x"
      },
      "outputs": [],
      "source": [
        "''' from sklearn.metrics import accuracy_score\n",
        "\n",
        "def train_model(model, train_loader, val_loader, optimizer, criterion, epochs=EPOCHS):\n",
        "\n",
        "    for epoch in range(epochs):\n",
        "        # Training Loop\n",
        "        model.train()\n",
        "        total_train_loss = 0\n",
        "        for batch in train_loader:\n",
        "            user_histories, candidates, labels = [x.to(device) for x in batch]\n",
        "\n",
        "            optimizer.zero_grad()\n",
        "            outputs = model(candidates, user_histories)  # Pass inputs to model\n",
        "\n",
        "            # Compute loss and update weights\n",
        "            loss = criterion(outputs, labels)\n",
        "            loss.backward()\n",
        "            optimizer.step()\n",
        "            total_train_loss += loss.item()\n",
        "\n",
        "        # Validation Loop\n",
        "        model.eval()\n",
        "        total_val_loss = 0\n",
        "        all_preds, all_labels = [], []\n",
        "\n",
        "        with torch.no_grad():\n",
        "            for batch in val_loader:\n",
        "                user_histories, candidates, labels = [x.to(device) for x in batch]\n",
        "                outputs = model(candidates, user_histories)\n",
        "                loss = criterion(outputs, labels)\n",
        "                total_val_loss += loss.item()\n",
        "\n",
        "                # Predictions and metrics\n",
        "                _, preds = torch.max(outputs, dim=1)  # Get predicted class\n",
        "                all_preds.extend(preds.cpu().tolist())  # Move predictions to CPU before converting to list\n",
        "                all_labels.extend(labels.cpu().tolist())  # Move labels to CPU before converting to list\n",
        "\n",
        "        # Metrics\n",
        "        accuracy = accuracy_score(all_labels, all_preds)\n",
        "\n",
        "        # Logging\n",
        "        print(f\"Epoch {epoch + 1}/{epochs}\")\n",
        "        print(f\"  Train Loss: {total_train_loss:.4f}\")\n",
        "        print(f\"  Val Loss: {total_val_loss:.4f}\")\n",
        "        print(f\"  Val Accuracy: {accuracy:.4f}\")\n",
        " '''"
      ]
    },
    {
      "cell_type": "code",
      "execution_count": 42,
      "metadata": {
        "id": "HGdVTz5l583x"
      },
      "outputs": [],
      "source": [
        "def train_model(model, train_loader, val_loader, optimizer, criterion, epochs=EPOCHS):\n",
        "    for epoch in range(epochs):\n",
        "        model.train()\n",
        "        total_train_loss = 0\n",
        "\n",
        "        for batch in train_loader:\n",
        "            user_histories, candidates, labels = [x.to(device) for x in batch]\n",
        "\n",
        "            print(f\"User histories shape before model: {user_histories.shape}\")\n",
        "\n",
        "            optimizer.zero_grad()\n",
        "            outputs = model(candidates, user_histories)  # Pass inputs to model\n",
        "\n",
        "            print(f\"Candidates shape: {candidates.shape}\")\n",
        "            print(f\"User histories shape: {user_histories.shape}\")\n",
        "\n",
        "\n",
        "            print(f\"Outputs shape: {outputs.shape}\")\n",
        "            print(f\"Labels shape: {labels.shape}\")\n",
        "\n",
        "\n",
        "            # Compute loss and update weights\n",
        "            loss = criterion(outputs, labels)\n",
        "            loss.backward()\n",
        "            optimizer.step()\n",
        "            total_train_loss += loss.item()\n",
        "\n",
        "        print(f\"Epoch {epoch + 1}, Loss: {total_train_loss:.4f}\")"
      ]
    },
    {
      "cell_type": "code",
      "execution_count": 43,
      "metadata": {
        "colab": {
          "base_uri": "https://localhost:8080/",
          "height": 382
        },
        "id": "nO0Ys2P-583y",
        "outputId": "9e145e2f-e384-43b9-d5ce-ce22c2b33601"
      },
      "outputs": [
        {
          "name": "stdout",
          "output_type": "stream",
          "text": [
            "User histories shape before model: torch.Size([64, 50])\n"
          ]
        },
        {
          "ename": "ValueError",
          "evalue": "not enough values to unpack (expected 3, got 2)",
          "output_type": "error",
          "traceback": [
            "\u001b[0;31m---------------------------------------------------------------------------\u001b[0m",
            "\u001b[0;31mValueError\u001b[0m                                Traceback (most recent call last)",
            "\u001b[0;32m<ipython-input-43-41a59e87adf6>\u001b[0m in \u001b[0;36m<cell line: 15>\u001b[0;34m()\u001b[0m\n\u001b[1;32m     13\u001b[0m \u001b[0;34m\u001b[0m\u001b[0m\n\u001b[1;32m     14\u001b[0m \u001b[0;31m# Train the model\u001b[0m\u001b[0;34m\u001b[0m\u001b[0;34m\u001b[0m\u001b[0m\n\u001b[0;32m---> 15\u001b[0;31m train_model(\n\u001b[0m\u001b[1;32m     16\u001b[0m     \u001b[0mmodel\u001b[0m\u001b[0;34m=\u001b[0m\u001b[0mmodel\u001b[0m\u001b[0;34m,\u001b[0m\u001b[0;34m\u001b[0m\u001b[0;34m\u001b[0m\u001b[0m\n\u001b[1;32m     17\u001b[0m     \u001b[0mtrain_loader\u001b[0m\u001b[0;34m=\u001b[0m\u001b[0mtrain_loader\u001b[0m\u001b[0;34m,\u001b[0m\u001b[0;34m\u001b[0m\u001b[0;34m\u001b[0m\u001b[0m\n",
            "\u001b[0;32m<ipython-input-42-7f480c96f845>\u001b[0m in \u001b[0;36mtrain_model\u001b[0;34m(model, train_loader, val_loader, optimizer, criterion, epochs)\u001b[0m\n\u001b[1;32m     10\u001b[0m \u001b[0;34m\u001b[0m\u001b[0m\n\u001b[1;32m     11\u001b[0m             \u001b[0moptimizer\u001b[0m\u001b[0;34m.\u001b[0m\u001b[0mzero_grad\u001b[0m\u001b[0;34m(\u001b[0m\u001b[0;34m)\u001b[0m\u001b[0;34m\u001b[0m\u001b[0;34m\u001b[0m\u001b[0m\n\u001b[0;32m---> 12\u001b[0;31m             \u001b[0moutputs\u001b[0m \u001b[0;34m=\u001b[0m \u001b[0mmodel\u001b[0m\u001b[0;34m(\u001b[0m\u001b[0mcandidates\u001b[0m\u001b[0;34m,\u001b[0m \u001b[0muser_histories\u001b[0m\u001b[0;34m)\u001b[0m  \u001b[0;31m# Pass inputs to model\u001b[0m\u001b[0;34m\u001b[0m\u001b[0;34m\u001b[0m\u001b[0m\n\u001b[0m\u001b[1;32m     13\u001b[0m \u001b[0;34m\u001b[0m\u001b[0m\n\u001b[1;32m     14\u001b[0m             \u001b[0mprint\u001b[0m\u001b[0;34m(\u001b[0m\u001b[0;34mf\"Candidates shape: {candidates.shape}\"\u001b[0m\u001b[0;34m)\u001b[0m\u001b[0;34m\u001b[0m\u001b[0;34m\u001b[0m\u001b[0m\n",
            "\u001b[0;32m/usr/local/lib/python3.10/dist-packages/torch/nn/modules/module.py\u001b[0m in \u001b[0;36m_wrapped_call_impl\u001b[0;34m(self, *args, **kwargs)\u001b[0m\n\u001b[1;32m   1734\u001b[0m             \u001b[0;32mreturn\u001b[0m \u001b[0mself\u001b[0m\u001b[0;34m.\u001b[0m\u001b[0m_compiled_call_impl\u001b[0m\u001b[0;34m(\u001b[0m\u001b[0;34m*\u001b[0m\u001b[0margs\u001b[0m\u001b[0;34m,\u001b[0m \u001b[0;34m**\u001b[0m\u001b[0mkwargs\u001b[0m\u001b[0;34m)\u001b[0m  \u001b[0;31m# type: ignore[misc]\u001b[0m\u001b[0;34m\u001b[0m\u001b[0;34m\u001b[0m\u001b[0m\n\u001b[1;32m   1735\u001b[0m         \u001b[0;32melse\u001b[0m\u001b[0;34m:\u001b[0m\u001b[0;34m\u001b[0m\u001b[0;34m\u001b[0m\u001b[0m\n\u001b[0;32m-> 1736\u001b[0;31m             \u001b[0;32mreturn\u001b[0m \u001b[0mself\u001b[0m\u001b[0;34m.\u001b[0m\u001b[0m_call_impl\u001b[0m\u001b[0;34m(\u001b[0m\u001b[0;34m*\u001b[0m\u001b[0margs\u001b[0m\u001b[0;34m,\u001b[0m \u001b[0;34m**\u001b[0m\u001b[0mkwargs\u001b[0m\u001b[0;34m)\u001b[0m\u001b[0;34m\u001b[0m\u001b[0;34m\u001b[0m\u001b[0m\n\u001b[0m\u001b[1;32m   1737\u001b[0m \u001b[0;34m\u001b[0m\u001b[0m\n\u001b[1;32m   1738\u001b[0m     \u001b[0;31m# torchrec tests the code consistency with the following code\u001b[0m\u001b[0;34m\u001b[0m\u001b[0;34m\u001b[0m\u001b[0m\n",
            "\u001b[0;32m/usr/local/lib/python3.10/dist-packages/torch/nn/modules/module.py\u001b[0m in \u001b[0;36m_call_impl\u001b[0;34m(self, *args, **kwargs)\u001b[0m\n\u001b[1;32m   1745\u001b[0m                 \u001b[0;32mor\u001b[0m \u001b[0m_global_backward_pre_hooks\u001b[0m \u001b[0;32mor\u001b[0m \u001b[0m_global_backward_hooks\u001b[0m\u001b[0;34m\u001b[0m\u001b[0;34m\u001b[0m\u001b[0m\n\u001b[1;32m   1746\u001b[0m                 or _global_forward_hooks or _global_forward_pre_hooks):\n\u001b[0;32m-> 1747\u001b[0;31m             \u001b[0;32mreturn\u001b[0m \u001b[0mforward_call\u001b[0m\u001b[0;34m(\u001b[0m\u001b[0;34m*\u001b[0m\u001b[0margs\u001b[0m\u001b[0;34m,\u001b[0m \u001b[0;34m**\u001b[0m\u001b[0mkwargs\u001b[0m\u001b[0;34m)\u001b[0m\u001b[0;34m\u001b[0m\u001b[0;34m\u001b[0m\u001b[0m\n\u001b[0m\u001b[1;32m   1748\u001b[0m \u001b[0;34m\u001b[0m\u001b[0m\n\u001b[1;32m   1749\u001b[0m         \u001b[0mresult\u001b[0m \u001b[0;34m=\u001b[0m \u001b[0;32mNone\u001b[0m\u001b[0;34m\u001b[0m\u001b[0;34m\u001b[0m\u001b[0m\n",
            "\u001b[0;32m<ipython-input-41-313dae6b712b>\u001b[0m in \u001b[0;36mforward\u001b[0;34m(self, candidate_titles, user_histories)\u001b[0m\n\u001b[1;32m     82\u001b[0m \u001b[0;34m\u001b[0m\u001b[0m\n\u001b[1;32m     83\u001b[0m         \u001b[0;31m# Encode user history (sequence of news embeddings)\u001b[0m\u001b[0;34m\u001b[0m\u001b[0;34m\u001b[0m\u001b[0m\n\u001b[0;32m---> 84\u001b[0;31m         \u001b[0mbatch_size\u001b[0m\u001b[0;34m,\u001b[0m \u001b[0mnum_articles\u001b[0m\u001b[0;34m,\u001b[0m \u001b[0mtitle_length\u001b[0m \u001b[0;34m=\u001b[0m \u001b[0muser_histories\u001b[0m\u001b[0;34m.\u001b[0m\u001b[0msize\u001b[0m\u001b[0;34m(\u001b[0m\u001b[0;34m)\u001b[0m\u001b[0;34m\u001b[0m\u001b[0;34m\u001b[0m\u001b[0m\n\u001b[0m\u001b[1;32m     85\u001b[0m         \u001b[0muser_histories\u001b[0m \u001b[0;34m=\u001b[0m \u001b[0muser_histories\u001b[0m\u001b[0;34m.\u001b[0m\u001b[0mview\u001b[0m\u001b[0;34m(\u001b[0m\u001b[0mbatch_size\u001b[0m \u001b[0;34m*\u001b[0m \u001b[0mnum_articles\u001b[0m\u001b[0;34m,\u001b[0m \u001b[0mtitle_length\u001b[0m\u001b[0;34m)\u001b[0m  \u001b[0;31m# Flatten for processing\u001b[0m\u001b[0;34m\u001b[0m\u001b[0;34m\u001b[0m\u001b[0m\n\u001b[1;32m     86\u001b[0m         \u001b[0muser_histories_encoded\u001b[0m \u001b[0;34m=\u001b[0m \u001b[0mself\u001b[0m\u001b[0;34m.\u001b[0m\u001b[0mnews_encoder\u001b[0m\u001b[0;34m(\u001b[0m\u001b[0muser_histories\u001b[0m\u001b[0;34m)\u001b[0m  \u001b[0;31m# Encode all titles at once\u001b[0m\u001b[0;34m\u001b[0m\u001b[0;34m\u001b[0m\u001b[0m\n",
            "\u001b[0;31mValueError\u001b[0m: not enough values to unpack (expected 3, got 2)"
          ]
        }
      ],
      "source": [
        "device = torch.device('cuda' if torch.cuda.is_available() else 'cpu')\n",
        "\n",
        "model = NRMS(\n",
        "    vocab_size=VOCAB_SIZE,\n",
        "    embedding_dim=EMBEDDING_DIM,\n",
        "    num_heads=NUM_HEADS,\n",
        "    head_dim=HEAD_SIZE,\n",
        "    dropout_rate=DROPOUT_RATE\n",
        ").to(device)\n",
        "\n",
        "optimizer = optim.Adam(model.parameters(), lr=1e-3)\n",
        "criterion = nn.CrossEntropyLoss()\n",
        "\n",
        "# Train the model\n",
        "train_model(\n",
        "    model=model,\n",
        "    train_loader=train_loader,\n",
        "    val_loader=val_loader,\n",
        "    optimizer=optimizer,\n",
        "    criterion=criterion,\n",
        "    epochs=5\n",
        ")"
      ]
    },
    {
      "cell_type": "code",
      "execution_count": null,
      "metadata": {
        "id": "s_5yu6Kn583y"
      },
      "outputs": [],
      "source": [
        "model_path = '/content/drive/MyDrive/DTU/Kandidat/Semester 9/Deep learning/Final project/nrms_model.pth'\n",
        "torch.save(model.state_dict(), model_path)\n"
      ]
    }
  ],
  "metadata": {
    "accelerator": "GPU",
    "colab": {
      "gpuType": "T4",
      "provenance": []
    },
    "kernelspec": {
      "display_name": "Python 3",
      "name": "python3"
    },
    "language_info": {
      "codemirror_mode": {
        "name": "ipython",
        "version": 3
      },
      "file_extension": ".py",
      "mimetype": "text/x-python",
      "name": "python",
      "nbconvert_exporter": "python",
      "pygments_lexer": "ipython3",
      "version": "3.9.6"
    }
  },
  "nbformat": 4,
  "nbformat_minor": 0
}
