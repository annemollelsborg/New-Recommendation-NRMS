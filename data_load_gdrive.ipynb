{
  "cells": [
    {
      "cell_type": "code",
      "source": [
        "import pandas as pd\n",
        "import random\n",
        "from google.colab import drive\n",
        "import nltk\n",
        "from nltk.tokenize import word_tokenize\n",
        "\n",
        "nltk.download('punkt_tab')"
      ],
      "metadata": {
        "colab": {
          "base_uri": "https://localhost:8080/"
        },
        "id": "6Hf6wMwHBqC9",
        "outputId": "348a6ea7-ded1-4631-a40c-a0e1a688cd6d"
      },
      "execution_count": 1,
      "outputs": [
        {
          "output_type": "stream",
          "name": "stderr",
          "text": [
            "[nltk_data] Downloading package punkt_tab to /root/nltk_data...\n",
            "[nltk_data]   Unzipping tokenizers/punkt_tab.zip.\n"
          ]
        },
        {
          "output_type": "execute_result",
          "data": {
            "text/plain": [
              "True"
            ]
          },
          "metadata": {},
          "execution_count": 1
        }
      ]
    },
    {
      "cell_type": "code",
      "source": [
        "drive.mount('/content/drive')"
      ],
      "metadata": {
        "colab": {
          "base_uri": "https://localhost:8080/"
        },
        "id": "VOr77FWMBrBs",
        "outputId": "68934e88-2ade-4fe9-8424-a71df67cf500"
      },
      "execution_count": 2,
      "outputs": [
        {
          "output_type": "stream",
          "name": "stdout",
          "text": [
            "Mounted at /content/drive\n"
          ]
        }
      ]
    },
    {
      "cell_type": "code",
      "source": [
        "import torch\n",
        "\n",
        "# Set the device to GPU if available, otherwise CPU\n",
        "device = torch.device('cuda' if torch.cuda.is_available() else 'cpu')"
      ],
      "metadata": {
        "id": "9VkRememCDIq"
      },
      "execution_count": 3,
      "outputs": []
    },
    {
      "cell_type": "code",
      "execution_count": 4,
      "metadata": {
        "colab": {
          "base_uri": "https://localhost:8080/"
        },
        "id": "a7V-q8GrAE3x",
        "outputId": "9365e964-4530-441b-fdec-84483b53cab1"
      },
      "outputs": [
        {
          "output_type": "stream",
          "name": "stdout",
          "text": [
            "Number of unique articles: 11777\n",
            "Example article ID and tokenized title:\n",
            "Article ID: 3037230, Tokenized Title: ['ishockey-spiller', ':', 'jeg', 'troede', 'jeg', 'skulle', 'dø']\n",
            "Article ID: 3044020, Tokenized Title: ['prins', 'harry', 'tvunget', 'til', 'dna-test']\n",
            "Article ID: 3057622, Tokenized Title: ['rådden', 'kørsel', 'på', 'blå', 'plader']\n",
            "\n",
            "Total articles indexed in newsindex: 11778 \n",
            "\n",
            "Training Data:\n",
            "Number of training candidates: 24888\n",
            "Number of training labels: 24888\n",
            "Number of user histories: 24888\n",
            "\n",
            "Validation Data:\n",
            "Number of validation candidates: 25505\n",
            "Number of validation labels: 25505\n",
            "Number of user histories: 25505\n"
          ]
        }
      ],
      "source": [
        "MAX_TITLE_LEN = 20\n",
        "\n",
        "articles_path = '/content/drive/MyDrive/DTU/Kandidat/Semester 9/Deep learning/Final project/Data/articles.parquet'\n",
        "behaviors_train_path = '/content/drive/MyDrive/DTU/Kandidat/Semester 9/Deep learning/Final project/Data/behaviors_train.parquet'\n",
        "behaviors_val_path = '/content/drive/MyDrive/DTU/Kandidat/Semester 9/Deep learning/Final project/Data/behaviors_val.parquet'\n",
        "history_train_path = '/content/drive/MyDrive/DTU/Kandidat/Semester 9/Deep learning/Final project/Data/history_train.parquet'\n",
        "history_val_path = '/content/drive/MyDrive/DTU/Kandidat/Semester 9/Deep learning/Final project/Data/history_val.parquet'\n",
        "\n",
        "# Load data from Parquet files\n",
        "articles = pd.read_parquet(articles_path)\n",
        "train_behaviors = pd.read_parquet(behaviors_train_path)\n",
        "val_behaviors = pd.read_parquet(behaviors_val_path)\n",
        "history_train = pd.read_parquet(history_train_path)\n",
        "history_val = pd.read_parquet(history_val_path)\n",
        "\n",
        "# Create a news dict and  article_id to a unique index\n",
        "news = {}\n",
        "newsindex = {'NULL': 0}  # Add a NULL key for padding\n",
        "for idx, row in articles.iterrows():\n",
        "    article_id = row['article_id']\n",
        "    title = row['title'].lower()\n",
        "    tokenized_title = word_tokenize(title)\n",
        "\n",
        "    news[article_id] = tokenized_title\n",
        "    newsindex[article_id] = len(newsindex)\n",
        "\n",
        "# Summary\n",
        "print(\"Number of unique articles:\", len(news))\n",
        "print(\"Example article ID and tokenized title:\")\n",
        "for k, v in list(news.items())[:3]:  # Print first 3 articles\n",
        "    print(f\"Article ID: {k}, Tokenized Title: {v}\")\n",
        "\n",
        "print(\"\\nTotal articles indexed in newsindex:\", len(newsindex), \"\\n\")\n",
        "\n",
        "\n",
        "# Helper function to sample negative examples\n",
        "def newsample(array, ratio):\n",
        "    if len(array) == 0:\n",
        "        return []\n",
        "    if ratio > len(array):\n",
        "        return random.sample(array * (ratio // len(array) + 1), ratio)\n",
        "    else:\n",
        "        return random.sample(array, ratio)\n",
        "\n",
        "# Sampling configuration\n",
        "npratio = 4  # Number of negative samples per positive sample\n",
        "MAX_HISTORY_LEN = 50\n",
        "\n",
        "# Function to process behaviors data\n",
        "def process_behaviors(behaviors, newsindex, history_data=None):\n",
        "    train_candidate = []\n",
        "    train_label = []\n",
        "    train_user_his = []\n",
        "\n",
        "    # Build a user history dictionary from history data if provided\n",
        "    user_history = {}\n",
        "    if history_data is not None:\n",
        "        for _, row in history_data.iterrows():\n",
        "            user_history[row['user_id']] = [newsindex.get(aid, 0) for aid in row['article_id_fixed']]\n",
        "\n",
        "    for _, row in behaviors.iterrows():\n",
        "        user_id = row['user_id']\n",
        "\n",
        "        # Clicked articles (positive examples)\n",
        "        clicked = [newsindex.get(aid, 0) for aid in row['article_ids_clicked'] if aid in newsindex]\n",
        "        # Non-clicked articles (negative examples)\n",
        "        inview = set(row['article_ids_inview'])\n",
        "        non_clicked = [newsindex.get(aid, 0) for aid in inview if aid in newsindex and aid not in row['article_ids_clicked']]\n",
        "\n",
        "        # User history\n",
        "        if user_id in user_history:\n",
        "            clickids = user_history[user_id][-MAX_HISTORY_LEN:]\n",
        "        else:\n",
        "            clickids = clicked[-MAX_HISTORY_LEN:]\n",
        "\n",
        "        for pos_doc in clicked:\n",
        "            neg_docs = newsample(non_clicked, npratio)\n",
        "            candidates = neg_docs + [pos_doc]\n",
        "            labels = [0] * npratio + [1]\n",
        "\n",
        "            # Shuffle candidates and labels\n",
        "            shuffle_indices = list(range(len(candidates)))\n",
        "            random.shuffle(shuffle_indices)\n",
        "            shuffled_candidates = [candidates[i] for i in shuffle_indices]\n",
        "            shuffled_labels = [labels[i] for i in shuffle_indices]\n",
        "\n",
        "            # Append training data\n",
        "            train_candidate.append(shuffled_candidates)\n",
        "            train_label.append(shuffled_labels)\n",
        "            train_user_his.append(clickids + [0] * (MAX_HISTORY_LEN - len(clickids)))\n",
        "\n",
        "    return train_candidate, train_label, train_user_his\n",
        "\n",
        "# Process train behaviors\n",
        "train_candidate, train_label, train_user_his = process_behaviors(train_behaviors, newsindex, history_train)\n",
        "val_candidate, val_label, val_user_his = process_behaviors(val_behaviors, newsindex, history_val)\n",
        "\n",
        "\"\"\" # Process validation behaviors\n",
        "val_candidate, val_user_his, val_labels, val_index = [], [], [], []\n",
        "for _, row in val_behaviors.iterrows():\n",
        "    user_id = row['user_id']\n",
        "    clicked = [newsindex.get(aid, 0) for aid in row['article_ids_clicked'] if aid in newsindex]\n",
        "    #inview = set(row['article_ids_inview'])\n",
        "    #non_clicked = [newsindex.get(aid, 0) for aid in inview if aid in newsindex and aid not in row['article_ids_clicked']]\n",
        "\n",
        "    user_history = clicked[-MAX_HISTORY_LEN:]\n",
        "    user_history = user_history + [0] * (MAX_HISTORY_LEN - len(user_history))\n",
        "\n",
        "\n",
        "    start_idx = len(val_candidate)\n",
        "\n",
        "    for aid in row['article_ids_inview']:\n",
        "        if aid in newsindex:\n",
        "            val_candidate.append(newsindex[aid])\n",
        "            val_user_his.append(user_history)\n",
        "            val_labels.append(1 if aid in row['article_ids_clicked'] else 0)\n",
        "\n",
        "    end_idx = len(val_candidate)\n",
        "    val_index.append([start_idx, end_idx]) \"\"\"\n",
        "\n",
        "# Print summary\n",
        "print(\"Training Data:\")\n",
        "print(\"Number of training candidates:\", len(train_candidate))\n",
        "print(\"Number of training labels:\", len(train_label))\n",
        "print(\"Number of user histories:\", len(train_user_his))\n",
        "\n",
        "print(\"\\nValidation Data:\")\n",
        "print(\"Number of validation candidates:\", len(val_candidate))\n",
        "print(\"Number of validation labels:\", len(val_label))\n",
        "print(\"Number of user histories:\", len(val_user_his))\n",
        "#print(\"Number of users in validation data:\", len(val_index))\n",
        "#print(\"Validation index ranges (start and end for each user):\")\n",
        "#for idx, (start, end) in enumerate(val_index):\n",
        "  #  print(f\"  User {idx + 1}: Start = {start}, End = {end}, Number of candidates = {end - start}\")\n"
      ]
    },
    {
      "cell_type": "code",
      "execution_count": 5,
      "metadata": {
        "colab": {
          "base_uri": "https://localhost:8080/"
        },
        "id": "_qYT4QYnAE4b",
        "outputId": "fcda8734-9e50-4046-ff74-898aa6fd0792"
      },
      "outputs": [
        {
          "output_type": "stream",
          "name": "stdout",
          "text": [
            "Train and Validation data saved as Parquet files:\n",
            "  - train_data.parquet\n",
            "  - val_data.parquet\n"
          ]
        }
      ],
      "source": [
        "# Save Train Data\n",
        "train_df = pd.DataFrame({\n",
        "    'candidate': train_candidate,\n",
        "    'label': train_label,\n",
        "    'user_his': train_user_his\n",
        "})\n",
        "train_df.to_parquet('/content/drive/MyDrive/DTU/Kandidat/Semester 9/Deep learning/Final project/Data/train_data.parquet', index=False)\n",
        "\n",
        "# Save Validation Data\n",
        "val_df = pd.DataFrame({\n",
        "    'candidate': val_candidate,\n",
        "    'label': val_label,\n",
        "    'user_his': val_user_his\n",
        "})\n",
        "val_df.to_parquet('/content/drive/MyDrive/DTU/Kandidat/Semester 9/Deep learning/Final project/Data/val_data.parquet', index=False)\n",
        "\n",
        "# Print Confirmation\n",
        "print(\"Train and Validation data saved as Parquet files:\")\n",
        "print(\"  - train_data.parquet\")\n",
        "print(\"  - val_data.parquet\")\n"
      ]
    },
    {
      "cell_type": "code",
      "execution_count": 6,
      "metadata": {
        "colab": {
          "base_uri": "https://localhost:8080/"
        },
        "id": "pXwYYlW5AE4c",
        "outputId": "4811c33d-688b-4ebb-940a-3862c2969557"
      },
      "outputs": [
        {
          "output_type": "stream",
          "name": "stdout",
          "text": [
            "Vocabulary size: 16003\n",
            "Shape of padded news tensors: torch.Size([11778, 20])\n"
          ]
        }
      ],
      "source": [
        "import torch\n",
        "import torch.nn as nn\n",
        "from torch.nn.utils.rnn import pad_sequence\n",
        "\n",
        "# Build vocabulary from tokenized titles\n",
        "vocab = {'<PAD>': 0}  # Start with a padding token\n",
        "for tokens in news.values():\n",
        "    for word in tokens:\n",
        "        if word not in vocab:\n",
        "            vocab[word] = len(vocab)\n",
        "\n",
        "# Convert titles to token indices\n",
        "news_tensor = {}\n",
        "for article_id, tokens in news.items():\n",
        "    token_indices = [vocab[word] for word in tokens]  # Convert words to token indices\n",
        "\n",
        "    # Truncate or pad to MAX_TITLE_LEN\n",
        "    if len(token_indices) > MAX_TITLE_LEN:\n",
        "        token_indices = token_indices[:MAX_TITLE_LEN]  # Truncate if too long\n",
        "    else:\n",
        "        token_indices += [0] * (MAX_TITLE_LEN - len(token_indices))  # Pad with zeros\n",
        "\n",
        "    news_tensor[newsindex[article_id]] = torch.tensor(token_indices, dtype=torch.long)\n",
        "    news_tensor[0] = torch.zeros(MAX_TITLE_LEN, dtype=torch.long)\n",
        "\n",
        "news_tensors_list = [tensor[:MAX_TITLE_LEN] for tensor in news_tensor.values()]  # Truncate to MAX_TITLE_LEN\n",
        "news_tensors_padded = pad_sequence(news_tensors_list, batch_first=True, padding_value=vocab['<PAD>'])\n",
        "\n",
        "# Example Output\n",
        "print(\"Vocabulary size:\", len(vocab))\n",
        "print(\"Shape of padded news tensors:\", news_tensors_padded.shape)"
      ]
    },
    {
      "cell_type": "code",
      "source": [
        "from torch.utils.data import Dataset\n",
        "\n",
        "class NewsDataset(Dataset):\n",
        "    def __init__(self, data, news_tensor, max_history_len=50):\n",
        "        \"\"\"\n",
        "        Args:\n",
        "            data (pd.DataFrame): DataFrame with 'candidate', 'label', and 'user_his'\n",
        "            news_tensor (dict): Dictionary mapping article_id to tokenized title tensors\n",
        "            max_history_len (int): Maximum length of user history (default: 50)\n",
        "        \"\"\"\n",
        "        self.data = data\n",
        "        self.news_tensor = news_tensor\n",
        "        self.max_history_len = max_history_len\n",
        "\n",
        "    def __len__(self):\n",
        "        return len(self.data)\n",
        "\n",
        "    def __getitem__(self, idx):\n",
        "        row = self.data.iloc[idx]\n",
        "\n",
        "        # Candidate titles: List of tokenized article titles (positive + negatives)\n",
        "        candidate_ids = row['candidate']\n",
        "        candidate_titles = torch.stack([self.news_tensor[aid] for aid in candidate_ids])\n",
        "\n",
        "        # Labels: Positive (1) and negative (0) labels for candidates\n",
        "        labels = torch.tensor(row['label'], dtype=torch.float)\n",
        "\n",
        "        # User history: List of clicked articles converted to tokenized titles\n",
        "        user_his_ids = row['user_his']\n",
        "        user_his_titles = torch.stack([self.news_tensor[aid] for aid in user_his_ids])\n",
        "\n",
        "        # Pad user history if it's shorter than max length\n",
        "        if len(user_his_titles) < self.max_history_len:\n",
        "            padding = torch.zeros((self.max_history_len - len(user_his_titles), candidate_titles.shape[1]), dtype=torch.long)\n",
        "            user_his_titles = torch.cat((user_his_titles, padding), dim=0)\n",
        "\n",
        "        return candidate_titles, user_his_titles, labels\n"
      ],
      "metadata": {
        "id": "2X-EM-W_GbaK"
      },
      "execution_count": 7,
      "outputs": []
    },
    {
      "cell_type": "code",
      "source": [
        "from torch.utils.data import DataLoader\n",
        "\n",
        "# Load train and validation data\n",
        "train_data = pd.read_parquet('/content/drive/MyDrive/DTU/Kandidat/Semester 9/Deep learning/Final project/Data/train_data.parquet')\n",
        "val_data = pd.read_parquet('/content/drive/MyDrive/DTU/Kandidat/Semester 9/Deep learning/Final project/Data/val_data.parquet')\n",
        "\n",
        "# Initialize the Dataset for train and validation\n",
        "train_dataset = NewsDataset(train_data, news_tensor, max_history_len=50)\n",
        "val_dataset = NewsDataset(val_data, news_tensor, max_history_len=50)\n",
        "\n",
        "# Create DataLoaders\n",
        "train_loader = DataLoader(train_dataset, batch_size=32, shuffle=True)\n",
        "val_loader = DataLoader(val_dataset, batch_size=32, shuffle=False)\n",
        "\n",
        "# Fetch a batch to test\n",
        "for candidate_titles, user_his_titles, labels in train_loader:\n",
        "    print(\"Candidate Titles Shape:\", candidate_titles.shape)  # (batch_size, num_candidates, MAX_TITLE_LEN)\n",
        "    print(\"User History Shape:\", user_his_titles.shape)      # (batch_size, max_history_len, MAX_TITLE_LEN)\n",
        "    print(\"Labels Shape:\", labels.shape)                    # (batch_size, num_candidates)\n",
        "    break"
      ],
      "metadata": {
        "colab": {
          "base_uri": "https://localhost:8080/"
        },
        "id": "EMkKHoLbH23r",
        "outputId": "9ded980e-7358-446c-bea7-822127737232"
      },
      "execution_count": 8,
      "outputs": [
        {
          "output_type": "stream",
          "name": "stdout",
          "text": [
            "Candidate Titles Shape: torch.Size([32, 5, 20])\n",
            "User History Shape: torch.Size([32, 50, 20])\n",
            "Labels Shape: torch.Size([32, 5])\n"
          ]
        }
      ]
    },
    {
      "cell_type": "code",
      "source": [
        "class NewsEncoder(nn.Module):\n",
        "    def __init__(self, vocab_size, embedding_dim=300, num_heads=20, attention_hidden_dim=200):\n",
        "        \"\"\"\n",
        "        Args:\n",
        "            vocab_size (int): Size of the vocabulary\n",
        "            embedding_dim (int): Dimension of word embeddings\n",
        "            max_title_len (int): Maximum length of article titles\n",
        "        \"\"\"\n",
        "        super(NewsEncoder, self).__init__()\n",
        "\n",
        "        # Word Embedding Layer\n",
        "        self.embedding = nn.Embedding(vocab_size, embedding_dim, padding_idx=0)\n",
        "\n",
        "        # Single-Head Self-Attention\n",
        "        self.multihead_attention = nn.MultiheadAttention(embed_dim=embedding_dim, num_heads=num_heads, batch_first=True)\n",
        "\n",
        "        # Additive Attention Network\n",
        "        self.additive_attention_query = nn.Parameter(torch.randn(attention_hidden_dim))  # Query vector\n",
        "        self.additive_attention_fc1 = nn.Linear(embedding_dim, attention_hidden_dim)\n",
        "        self.additive_attention_fc2 = nn.Linear(attention_hidden_dim, 1)\n",
        "\n",
        "        # Linear Layer to output fixed-size vector\n",
        "        self.fc = nn.Linear(embedding_dim, embedding_dim)\n",
        "\n",
        "    def forward(self, title_tokens):\n",
        "        \"\"\"\n",
        "        Args:\n",
        "            title_tokens (Tensor): Shape (batch_size, max_title_len)\n",
        "                                   - Tokenized and padded title tensors\n",
        "        Returns:\n",
        "            Tensor: Fixed-size vector representing the article (batch_size, embedding_dim)\n",
        "        \"\"\"\n",
        "        # Step 1: Word Embedding\n",
        "        embedded = self.embedding(title_tokens)  # Shape: (batch_size, max_title_len, embedding_dim)\n",
        "\n",
        "        # Step 2: Multi-Head Self-Attention\n",
        "        attn_output, _ = self.multihead_attention(embedded, embedded, embedded)  # Shape: (batch_size, max_title_len, embedding_dim)\n",
        "\n",
        "        # Step 3: Additive Attention\n",
        "        additive_weights = torch.tanh(self.additive_attention_fc1(attn_output))  # Shape: (batch_size, max_title_len, attention_hidden_dim)\n",
        "        additive_scores = self.additive_attention_fc2(additive_weights).squeeze(-1)  # Shape: (batch_size, max_title_len)\n",
        "\n",
        "        # Compute attention weights (softmax over words)\n",
        "        attention_weights = torch.softmax(additive_scores, dim=1)  # Shape: (batch_size, max_title_len)\n",
        "\n",
        "        # Weighted sum of the attention outputs\n",
        "        weighted_sum = torch.sum(attn_output * attention_weights.unsqueeze(-1), dim=1)  # Shape: (batch_size, embedding_dim)\n",
        "\n",
        "        # Step 4: Linear Transformation\n",
        "        output_vector = self.fc(weighted_sum)  # Shape: (batch_size, embedding_dim)\n",
        "\n",
        "        return output_vector\n"
      ],
      "metadata": {
        "id": "_IRBdxl-VjB9"
      },
      "execution_count": 9,
      "outputs": []
    },
    {
      "cell_type": "code",
      "source": [
        "# Define parameters\n",
        "VOCAB_SIZE = len(vocab)  # Vocabulary size\n",
        "EMBEDDING_DIM = 300      # Dimension of word embeddings\n",
        "MAX_TITLE_LEN = 20       # Length of padded titles\n",
        "\n",
        "# Initialize the News Encoder\n",
        "news_encoder = NewsEncoder(vocab_size=VOCAB_SIZE, embedding_dim=EMBEDDING_DIM)\n",
        "\n",
        "# Fetch a batch of candidate titles\n",
        "for candidate_titles, user_his_titles, labels in train_loader:\n",
        "    # Input shape: (batch_size, num_candidates, MAX_TITLE_LEN)\n",
        "    batch_size, num_candidates, title_len = candidate_titles.shape\n",
        "    _, max_history_len, _ = user_his_titles.shape\n",
        "\n",
        "    # Reshape to merge batch_size and num_candidates\n",
        "    candidate_titles_reshaped = candidate_titles.view(-1, title_len)  # Shape: (batch_size * num_candidates, MAX_TITLE_LEN)\n",
        "\n",
        "    # Pass through the News Encoder\n",
        "    candidate_vectors = news_encoder(candidate_titles_reshaped)  # Shape: (batch_size * num_candidates, EMBEDDING_DIM)\n",
        "\n",
        "    # Reshape back to original batch_size and num_candidates\n",
        "    candidate_vectors = candidate_vectors.view(batch_size, num_candidates, EMBEDDING_DIM)\n",
        "\n",
        "    # Reshape user history titles to merge batch_size and max_history_len\n",
        "    user_his_titles_reshaped = user_his_titles.view(-1, title_len)  # Shape: (batch_size * max_history_len, MAX_TITLE_LEN)\n",
        "\n",
        "    # Pass through News Encoder\n",
        "    user_his_vectors = news_encoder(user_his_titles_reshaped)  # Shape: (batch_size * max_history_len, EMBEDDING_DIM)\n",
        "\n",
        "    # Reshape back to original batch_size and max_history_len\n",
        "    user_his_vectors = user_his_vectors.view(batch_size, max_history_len, EMBEDDING_DIM)  # Shape: (batch_size, max_history_len, EMBEDDING_DIM)\n",
        "\n",
        "    print(\"Shape of candidate_vectors:\", candidate_vectors.shape)  # Expected: (batch_size, num_candidates, EMBEDDING_DIM)\n",
        "    print(\"Shape of user_his_vectors:\", user_his_vectors.shape)    # Expected: (batch_size, max_history_len, EMBEDDING_DIM)\n",
        "    break"
      ],
      "metadata": {
        "colab": {
          "base_uri": "https://localhost:8080/"
        },
        "id": "7Onof3xGV2Jj",
        "outputId": "91ce06d2-99b0-48f1-edfc-de3c968a2c4b"
      },
      "execution_count": 10,
      "outputs": [
        {
          "output_type": "stream",
          "name": "stdout",
          "text": [
            "Shape of candidate_vectors: torch.Size([32, 5, 300])\n",
            "Shape of user_his_vectors: torch.Size([32, 50, 300])\n"
          ]
        }
      ]
    },
    {
      "cell_type": "code",
      "source": [
        "class UserEncoder(nn.Module):\n",
        "    def __init__(self, embedding_dim=300, num_heads=20, attention_hidden_dim=200):\n",
        "        \"\"\"\n",
        "        Args:\n",
        "            embedding_dim (int): Dimension of the article embeddings\n",
        "            num_heads (int): Number of attention heads in multi-head attention\n",
        "            attention_hidden_dim (int): Dimension of the query vector in additive attention\n",
        "        \"\"\"\n",
        "        super(UserEncoder, self).__init__()\n",
        "\n",
        "        # Multi-Head Self-Attention\n",
        "        self.multihead_attention = nn.MultiheadAttention(embed_dim=embedding_dim,\n",
        "                                                         num_heads=num_heads,\n",
        "                                                         batch_first=True)\n",
        "\n",
        "        # Additive Attention\n",
        "        self.additive_attention_query = nn.Parameter(torch.randn(attention_hidden_dim))  # Learnable query vector\n",
        "        self.additive_attention_fc1 = nn.Linear(embedding_dim, attention_hidden_dim)\n",
        "        self.additive_attention_fc2 = nn.Linear(attention_hidden_dim, 1)\n",
        "\n",
        "    def forward(self, user_his_vectors):\n",
        "        \"\"\"\n",
        "        Args:\n",
        "            user_his_vectors (Tensor): Shape (batch_size, max_history_len, embedding_dim)\n",
        "                                        - Representations of clicked articles\n",
        "        Returns:\n",
        "            Tensor: User representation vector (batch_size, embedding_dim)\n",
        "        \"\"\"\n",
        "        # Step 1: Multi-Head Self-Attention\n",
        "        attn_output, _ = self.multihead_attention(user_his_vectors, user_his_vectors, user_his_vectors)\n",
        "        # Shape: (batch_size, max_history_len, embedding_dim)\n",
        "\n",
        "        # Step 2: Additive Attention\n",
        "        additive_weights = torch.tanh(self.additive_attention_fc1(attn_output))  # Shape: (batch_size, max_history_len, attention_hidden_dim)\n",
        "        additive_scores = self.additive_attention_fc2(additive_weights).squeeze(-1)  # Shape: (batch_size, max_history_len)\n",
        "\n",
        "        # Compute attention weights (softmax over user history)\n",
        "        attention_weights = torch.softmax(additive_scores, dim=1)  # Shape: (batch_size, max_history_len)\n",
        "\n",
        "        # Weighted sum of the attention outputs\n",
        "        user_vector = torch.sum(attn_output * attention_weights.unsqueeze(-1), dim=1)  # Shape: (batch_size, embedding_dim)\n",
        "\n",
        "        return user_vector"
      ],
      "metadata": {
        "id": "cp28oe4emula"
      },
      "execution_count": 13,
      "outputs": []
    },
    {
      "cell_type": "code",
      "source": [
        "# Define parameters\n",
        "EMBEDDING_DIM = 300      # Dimension of article embeddings\n",
        "NUM_HEADS = 20           # Number of attention heads\n",
        "ATTENTION_HIDDEN_DIM = 200  # Query vector dimension for additive attention\n",
        "\n",
        "# Initialize User Encoder\n",
        "user_encoder = UserEncoder(embedding_dim=EMBEDDING_DIM, num_heads=NUM_HEADS, attention_hidden_dim=ATTENTION_HIDDEN_DIM)\n",
        "\n",
        "# Fetch a batch of user history vectors\n",
        "for candidate_titles, user_his_titles, labels in train_loader:\n",
        "    # Reshape user history titles to merge batch_size and max_history_len\n",
        "    user_his_titles_reshaped = user_his_titles.view(-1, MAX_TITLE_LEN)  # Shape: (batch_size * max_history_len, MAX_TITLE_LEN)\n",
        "\n",
        "    # Pass through News Encoder to get user history vectors\n",
        "    user_his_vectors = news_encoder(user_his_titles_reshaped)  # Shape: (batch_size * max_history_len, EMBEDDING_DIM)\n",
        "\n",
        "    # Reshape back to (batch_size, max_history_len, EMBEDDING_DIM)\n",
        "    batch_size, max_history_len, _ = user_his_titles.shape\n",
        "    user_his_vectors = user_his_vectors.view(batch_size, max_history_len, EMBEDDING_DIM)\n",
        "\n",
        "    # Pass user history vectors through User Encoder\n",
        "    user_vectors = user_encoder(user_his_vectors)  # Shape: (batch_size, EMBEDDING_DIM)\n",
        "\n",
        "    print(\"Shape of user_his_vectors:\", user_his_vectors.shape)  # (batch_size, max_history_len, EMBEDDING_DIM)\n",
        "    print(\"Shape of user_vectors:\", user_vectors.shape)         # (batch_size, EMBEDDING_DIM)\n",
        "    break"
      ],
      "metadata": {
        "id": "WGPAfQQdm2B1",
        "outputId": "5a81ec17-9bfa-480e-db05-09c01daf0e40",
        "colab": {
          "base_uri": "https://localhost:8080/"
        }
      },
      "execution_count": 15,
      "outputs": [
        {
          "output_type": "stream",
          "name": "stdout",
          "text": [
            "Shape of user_his_vectors: torch.Size([32, 50, 300])\n",
            "Shape of user_vectors: torch.Size([32, 300])\n"
          ]
        }
      ]
    },
    {
      "cell_type": "code",
      "source": [
        "user_vectors.shape"
      ],
      "metadata": {
        "id": "wxNm2lR_m_zm",
        "outputId": "2379bdf7-aac5-42bb-885f-ffc77f5216b3",
        "colab": {
          "base_uri": "https://localhost:8080/"
        }
      },
      "execution_count": 19,
      "outputs": [
        {
          "output_type": "execute_result",
          "data": {
            "text/plain": [
              "torch.Size([32, 300])"
            ]
          },
          "metadata": {},
          "execution_count": 19
        }
      ]
    }
  ],
  "metadata": {
    "kernelspec": {
      "display_name": "Python 3",
      "name": "python3"
    },
    "language_info": {
      "codemirror_mode": {
        "name": "ipython",
        "version": 3
      },
      "file_extension": ".py",
      "mimetype": "text/x-python",
      "name": "python",
      "nbconvert_exporter": "python",
      "pygments_lexer": "ipython3",
      "version": "3.11.9"
    },
    "colab": {
      "provenance": [],
      "gpuType": "T4"
    }
  },
  "nbformat": 4,
  "nbformat_minor": 0
}